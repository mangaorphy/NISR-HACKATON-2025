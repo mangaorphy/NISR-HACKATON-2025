{
 "cells": [
  {
   "cell_type": "markdown",
   "id": "60fd2b4a",
   "metadata": {},
   "source": [
    "# 🚀 Rwanda Export Opportunity Analysis - NISR Hackathon 2025\n",
    "\n",
    "## Project Objective: Identify Rwanda's Next Big Export Opportunity\n",
    "\n",
    "### Analysis Framework:\n",
    "1. **Current Export Performance Analysis** - Understand existing strengths\n",
    "2. **Market Trends & Patterns** - Identify growth opportunities  \n",
    "3. **Commodity Deep Dive** - Analyze product performance by quarter\n",
    "4. **Geographic Market Analysis** - Find emerging destinations\n",
    "5. **Predictive Modeling** - Forecast future demand\n",
    "6. **Opportunity Identification** - Recommend next big export sectors\n",
    "7. **Policy Recommendations** - Strategic export promotion\n",
    "\n",
    "### Key Questions to Answer:\n",
    "- What are Rwanda's fastest-growing export commodities?\n",
    "- Which markets show the highest growth potential?\n",
    "- What seasonal patterns exist in Rwanda's exports?\n",
    "- Which products have the best growth trajectory?\n",
    "- What opportunities exist for youth and SME engagement?"
   ]
  },
  {
   "cell_type": "code",
   "execution_count": 5,
   "id": "322e3e19",
   "metadata": {},
   "outputs": [
    {
     "name": "stdout",
     "output_type": "stream",
     "text": [
      "✅ Libraries imported successfully!\n",
      "🎯 Ready to analyze Rwanda's export opportunities!\n"
     ]
    }
   ],
   "source": [
    "# Import Required Libraries for Analysis\n",
    "import pandas as pd\n",
    "import numpy as np\n",
    "import matplotlib.pyplot as plt\n",
    "import seaborn as sns\n",
    "import plotly.express as px\n",
    "import plotly.graph_objects as go\n",
    "from plotly.subplots import make_subplots\n",
    "import warnings\n",
    "warnings.filterwarnings('ignore')\n",
    "\n",
    "# Set visualization style\n",
    "plt.style.use('seaborn-v0_8')\n",
    "sns.set_palette(\"husl\")\n",
    "\n",
    "# Configure pandas display\n",
    "pd.set_option('display.max_columns', None)\n",
    "pd.set_option('display.float_format', '{:.2f}'.format)\n",
    "\n",
    "print(\"✅ Libraries imported successfully!\")\n",
    "print(\"🎯 Ready to analyze Rwanda's export opportunities!\")"
   ]
  },
  {
   "cell_type": "markdown",
   "id": "dbe186d0",
   "metadata": {},
   "source": [
    "## 1. Data Loading & Initial Exploration\n",
    "\n",
    "Let's load all our cleaned datasets and explore the current export landscape."
   ]
  },
  {
   "cell_type": "code",
   "execution_count": 6,
   "id": "adb1a66f",
   "metadata": {},
   "outputs": [
    {
     "name": "stdout",
     "output_type": "stream",
     "text": [
      "✅ Export by Country data loaded\n",
      "✅ Export Commodities data loaded\n",
      "✅ Re-export Commodities data loaded\n",
      "✅ Regional Blocks data loaded\n",
      "✅ Continental Trade data loaded\n",
      "❌ Total Trade data not found\n",
      "\n",
      "📊 Successfully loaded 5 datasets\n",
      "🎯 Ready to analyze Rwanda's export performance!\n"
     ]
    }
   ],
   "source": [
    "# Load all analysis-ready datasets\n",
    "datasets = {}\n",
    "\n",
    "# Load export data\n",
    "try:\n",
    "    datasets['countries'] = pd.read_csv('2024Q3_ExportCountry.csv')\n",
    "    print(\"✅ Export by Country data loaded\")\n",
    "except:\n",
    "    print(\"❌ Export by Country data not found\")\n",
    "\n",
    "try:\n",
    "    datasets['commodities'] = pd.read_csv('2024Q3_ExportsCommodity.csv')\n",
    "    print(\"✅ Export Commodities data loaded\")\n",
    "except:\n",
    "    print(\"❌ Export Commodities data not found\")\n",
    "\n",
    "try:\n",
    "    datasets['reexports'] = pd.read_csv('2024Q3_ReexportsCommodity.csv')\n",
    "    print(\"✅ Re-export Commodities data loaded\")\n",
    "except:\n",
    "    print(\"❌ Re-export Commodities data not found\")\n",
    "\n",
    "try:\n",
    "    datasets['regional'] = pd.read_csv('2024Q3_Regional blocks.csv')\n",
    "    print(\"✅ Regional Blocks data loaded\")\n",
    "except:\n",
    "    print(\"❌ Regional Blocks data not found\")\n",
    "\n",
    "try:\n",
    "    datasets['continents'] = pd.read_csv('2024Q3_Trade by continents.csv')\n",
    "    print(\"✅ Continental Trade data loaded\")\n",
    "except:\n",
    "    print(\"❌ Continental Trade data not found\")\n",
    "\n",
    "try:\n",
    "    datasets['total_trade'] = pd.read_csv('analysis_ready_total_trade_world_updated.csv')\n",
    "    print(\"✅ Total Trade data loaded\")\n",
    "except:\n",
    "    print(\"❌ Total Trade data not found\")\n",
    "\n",
    "print(f\"\\n📊 Successfully loaded {len(datasets)} datasets\")\n",
    "print(\"🎯 Ready to analyze Rwanda's export performance!\")"
   ]
  },
  {
   "cell_type": "code",
   "execution_count": 7,
   "id": "8997d8fb",
   "metadata": {},
   "outputs": [
    {
     "name": "stdout",
     "output_type": "stream",
     "text": [
      "🔍 RWANDA'S CURRENT EXPORT LANDSCAPE (Q3 2024)\n",
      "============================================================\n",
      "\n",
      "📦 TOP EXPORT COMMODITIES (Q3 2024):\n",
      "   10. Other commodities & transactions, n.e.s...\n",
      "      Value: $434.8M | Share: 66.5%\n",
      "   1. Food and live animals...\n",
      "      Value: $86.2M | Share: 13.2%\n",
      "   3. Crude materials, inedible, except fuels...\n",
      "      Value: $67.9M | Share: 10.4%\n",
      "   7. Manufactured goods classified chiefly by material...\n",
      "      Value: $30.7M | Share: 4.7%\n",
      "   5. Animals and vegetable oils, fats & waxes...\n",
      "      Value: $12.0M | Share: 1.8%\n",
      "\n",
      "📈 GROWTH ANALYSIS:\n",
      "   🚀 Fastest Growing (YoY):\n",
      "      • Animals and vegetable oils, fats & waxes... (+320.1%)\n",
      "      • Other commodities & transactions, n.e.s... (+131.2%)\n",
      "      • Machinery and transport equipment... (+127.5%)\n",
      "\n",
      "💰 Total Exports Q3 2024: $653.9 Million\n",
      "\n",
      "🌍 TOP EXPORT DESTINATIONS (Q3 2024):\n",
      "   1. United Arab Emirates: $446.5M (68.3%)\n",
      "   2. Congo, The Democratic Republic Of: $62.1M (9.5%)\n",
      "   3. China: $22.7M (3.5%)\n"
     ]
    }
   ],
   "source": [
    "# Quick overview of current export performance\n",
    "if 'commodities' in datasets:\n",
    "    print(\"🔍 RWANDA'S CURRENT EXPORT LANDSCAPE (Q3 2024)\")\n",
    "    print(\"=\" * 60)\n",
    "    \n",
    "    # Get Q3 2024 commodity exports\n",
    "    commodities_df = datasets['commodities'].copy()\n",
    "    \n",
    "    # Display current export composition\n",
    "    print(\"\\n📦 TOP EXPORT COMMODITIES (Q3 2024):\")\n",
    "    top_commodities = commodities_df.nlargest(5, '2024Q3')[['Commodity_Description', '2024Q3', 'Share_Percent_Q3']]\n",
    "    for idx, row in top_commodities.iterrows():\n",
    "        print(f\"   {idx+1}. {row['Commodity_Description'][:50]}...\")\n",
    "        print(f\"      Value: ${row['2024Q3']:.1f}M | Share: {row['Share_Percent_Q3']:.1f}%\")\n",
    "    \n",
    "    # Growth analysis\n",
    "    print(f\"\\n📈 GROWTH ANALYSIS:\")\n",
    "    fastest_growing = commodities_df.nlargest(3, 'Change_Q3_Q3_Percent')[['Commodity_Description', 'Change_Q3_Q3_Percent']]\n",
    "    print(\"   🚀 Fastest Growing (YoY):\")\n",
    "    for idx, row in fastest_growing.iterrows():\n",
    "        print(f\"      • {row['Commodity_Description'][:40]}... (+{row['Change_Q3_Q3_Percent']:.1f}%)\")\n",
    "        \n",
    "    # Total exports\n",
    "    total_exports = commodities_df['2024Q3'].sum()\n",
    "    print(f\"\\n💰 Total Exports Q3 2024: ${total_exports:.1f} Million\")\n",
    "\n",
    "if 'countries' in datasets:\n",
    "    countries_df = datasets['countries'].copy()\n",
    "    print(f\"\\n🌍 TOP EXPORT DESTINATIONS (Q3 2024):\")\n",
    "    top_destinations = countries_df.nlargest(3, '2024Q3')[['Country', '2024Q3', 'Share_Percent_Q3']]\n",
    "    for idx, row in top_destinations.iterrows():\n",
    "        print(f\"   {idx+1}. {row['Country']}: ${row['2024Q3']:.1f}M ({row['Share_Percent_Q3']:.1f}%)\")\n",
    "else:\n",
    "    print(\"⚠️ Export commodities data not available for overview\")"
   ]
  },
  {
   "cell_type": "markdown",
   "id": "703d5868",
   "metadata": {},
   "source": [
    "## 2. Quarterly Trends Analysis - Identifying Export Patterns\n",
    "\n",
    "Let's analyze the quarterly performance to understand seasonal patterns and growth trends in Rwanda's exports."
   ]
  },
  {
   "cell_type": "code",
   "execution_count": 8,
   "id": "384952cd",
   "metadata": {},
   "outputs": [
    {
     "name": "stdout",
     "output_type": "stream",
     "text": [
      "✅ Data prepared for quarterly trend analysis\n",
      "📊 Analyzing 11 quarters of data\n",
      "📦 Tracking 11 commodity categories\n",
      "\n",
      "💰 TOTAL EXPORTS BY QUARTER:\n",
      "   2022Q1: $296.6M\n",
      "   2022Q2: $331.6M\n",
      "   2022Q3: $342.6M\n",
      "   2022Q4: $373.5M\n",
      "   2023Q1: $423.9M\n",
      "   2023Q2: $484.6M\n",
      "   2023Q3: $367.6M\n",
      "   2023Q4: $400.1M\n",
      "   2024Q1: $438.8M\n",
      "   2024Q2: $541.0M\n",
      "   2024Q3: $653.9M\n"
     ]
    }
   ],
   "source": [
    "# Prepare data for quarterly trend analysis\n",
    "if 'commodities' in datasets:\n",
    "    # Create a comprehensive quarterly analysis\n",
    "    commodities_df = datasets['commodities'].copy()\n",
    "    \n",
    "    # Melt the data for time series analysis\n",
    "    quarter_cols = ['2022Q1', '2022Q2', '2022Q3', '2022Q4', '2023Q1', '2023Q2', '2023Q3', '2023Q4', '2024Q1', '2024Q2', '2024Q3']\n",
    "    \n",
    "    # Reshape data for plotting\n",
    "    melted_data = pd.melt(commodities_df, \n",
    "                         id_vars=['SITC_Code', 'Commodity_Description'], \n",
    "                         value_vars=quarter_cols,\n",
    "                         var_name='Quarter', \n",
    "                         value_name='Export_Value')\n",
    "    \n",
    "    # Create quarter datetime for proper sorting - fix the format issue\n",
    "    def parse_quarter(quarter_str):\n",
    "        year = int(quarter_str[:4])\n",
    "        q = int(quarter_str[5])\n",
    "        month = (q - 1) * 3 + 1\n",
    "        return pd.Timestamp(year=year, month=month, day=1)\n",
    "    \n",
    "    melted_data['Quarter_Date'] = melted_data['Quarter'].apply(parse_quarter)\n",
    "    melted_data = melted_data.sort_values('Quarter_Date')\n",
    "    \n",
    "    # Calculate total exports by quarter\n",
    "    total_by_quarter = melted_data.groupby('Quarter')['Export_Value'].sum().reset_index()\n",
    "    \n",
    "    print(\"✅ Data prepared for quarterly trend analysis\")\n",
    "    print(f\"📊 Analyzing {len(quarter_cols)} quarters of data\")\n",
    "    print(f\"📦 Tracking {len(commodities_df)} commodity categories\")\n",
    "    \n",
    "    # Display quarterly totals\n",
    "    print(\"\\n💰 TOTAL EXPORTS BY QUARTER:\")\n",
    "    for idx, row in total_by_quarter.iterrows():\n",
    "        print(f\"   {row['Quarter']}: ${row['Export_Value']:.1f}M\")\n",
    "else:\n",
    "    print(\"❌ Commodities data not available for trend analysis\")"
   ]
  },
  {
   "cell_type": "code",
   "execution_count": 9,
   "id": "17149273",
   "metadata": {},
   "outputs": [
    {
     "data": {
      "application/vnd.plotly.v1+json": {
       "config": {
        "plotlyServerURL": "https://plot.ly"
       },
       "data": [
        {
         "line": {
          "color": "#1f77b4",
          "width": 3
         },
         "mode": "lines+markers",
         "name": "Total Exports",
         "type": "scatter",
         "x": [
          "2022Q1",
          "2022Q2",
          "2022Q3",
          "2022Q4",
          "2023Q1",
          "2023Q2",
          "2023Q3",
          "2023Q4",
          "2024Q1",
          "2024Q2",
          "2024Q3"
         ],
         "xaxis": "x",
         "y": [
          296.58,
          331.55,
          342.57,
          373.54,
          423.87,
          484.64,
          367.58,
          400.05,
          438.75,
          540.99,
          653.86
         ],
         "yaxis": "y"
        },
        {
         "line": {
          "color": "rgb(228,26,28)"
         },
         "mode": "lines+markers",
         "name": "Other commodities & transactio...",
         "type": "scatter",
         "x": [
          "2022Q1",
          "2022Q2",
          "2022Q3",
          "2022Q4",
          "2023Q1",
          "2023Q2",
          "2023Q3",
          "2023Q4",
          "2024Q1",
          "2024Q2",
          "2024Q3"
         ],
         "xaxis": "x2",
         "y": [
          116.5,
          160.19,
          144.61,
          134.45,
          190.28,
          302.69,
          188.01,
          202.62,
          253.37,
          350.85,
          434.78
         ],
         "yaxis": "y2"
        },
        {
         "line": {
          "color": "rgb(55,126,184)"
         },
         "mode": "lines+markers",
         "name": "Food and live animals...",
         "type": "scatter",
         "x": [
          "2022Q1",
          "2022Q2",
          "2022Q3",
          "2022Q4",
          "2023Q1",
          "2023Q2",
          "2023Q3",
          "2023Q4",
          "2024Q1",
          "2024Q2",
          "2024Q3"
         ],
         "xaxis": "x2",
         "y": [
          74.53,
          69.36,
          95.71,
          135.65,
          128.1,
          74.26,
          76.1,
          103.81,
          81.89,
          77.41,
          86.23
         ],
         "yaxis": "y2"
        },
        {
         "line": {
          "color": "rgb(77,175,74)"
         },
         "mode": "lines+markers",
         "name": "Crude materials, inedible, exc...",
         "type": "scatter",
         "x": [
          "2022Q1",
          "2022Q2",
          "2022Q3",
          "2022Q4",
          "2023Q1",
          "2023Q2",
          "2023Q3",
          "2023Q4",
          "2024Q1",
          "2024Q2",
          "2024Q3"
         ],
         "xaxis": "x2",
         "y": [
          50.92,
          58.07,
          49.84,
          54.95,
          59.68,
          58.86,
          54.96,
          51.19,
          56.54,
          56.38,
          67.91
         ],
         "yaxis": "y2"
        },
        {
         "line": {
          "color": "rgb(152,78,163)"
         },
         "mode": "lines+markers",
         "name": "Manufactured goods classified ...",
         "type": "scatter",
         "x": [
          "2022Q1",
          "2022Q2",
          "2022Q3",
          "2022Q4",
          "2023Q1",
          "2023Q2",
          "2023Q3",
          "2023Q4",
          "2024Q1",
          "2024Q2",
          "2024Q3"
         ],
         "xaxis": "x2",
         "y": [
          25.86,
          28.07,
          34.16,
          26.68,
          29.52,
          28.76,
          28.61,
          24.92,
          27.53,
          35.36,
          30.74
         ],
         "yaxis": "y2"
        },
        {
         "line": {
          "color": "rgb(255,127,0)"
         },
         "mode": "lines+markers",
         "name": "Animals and vegetable oils, fa...",
         "type": "scatter",
         "x": [
          "2022Q1",
          "2022Q2",
          "2022Q3",
          "2022Q4",
          "2023Q1",
          "2023Q2",
          "2023Q3",
          "2023Q4",
          "2024Q1",
          "2024Q2",
          "2024Q3"
         ],
         "xaxis": "x2",
         "y": [
          0.9,
          0.56,
          2.47,
          2.46,
          0.72,
          2.41,
          2.87,
          1.11,
          2.89,
          4.56,
          12.04
         ],
         "yaxis": "y2"
        },
        {
         "marker": {
          "color": "green"
         },
         "name": "QoQ Growth %",
         "type": "bar",
         "x": [
          "2022Q2",
          "2022Q3",
          "2022Q4",
          "2023Q1",
          "2023Q2",
          "2023Q3",
          "2023Q4",
          "2024Q1",
          "2024Q2",
          "2024Q3"
         ],
         "xaxis": "x3",
         "y": [
          11.791085036077975,
          3.323782234957018,
          9.040488075429852,
          13.473791294105041,
          14.336942930615514,
          -24.154011224826675,
          8.83345122150281,
          9.67379077615298,
          23.302564102564105,
          20.863601915007667
         ],
         "yaxis": "y3"
        },
        {
         "marker": {
          "color": "orange"
         },
         "name": "Avg by Quarter",
         "type": "bar",
         "x": [
          "Q1",
          "Q2",
          "Q3",
          "Q4"
         ],
         "xaxis": "x4",
         "y": [
          38.64,
          45.239333333333335,
          45.467,
          38.679500000000004
         ],
         "yaxis": "y5"
        }
       ],
       "layout": {
        "annotations": [
         {
          "font": {
           "size": 16
          },
          "showarrow": false,
          "text": "Total Export Trends",
          "x": 0.185,
          "xanchor": "center",
          "xref": "paper",
          "y": 1,
          "yanchor": "bottom",
          "yref": "paper"
         },
         {
          "font": {
           "size": 16
          },
          "showarrow": false,
          "text": "Top Commodities Quarterly Performance",
          "x": 0.7550000000000001,
          "xanchor": "center",
          "xref": "paper",
          "y": 1,
          "yanchor": "bottom",
          "yref": "paper"
         },
         {
          "font": {
           "size": 16
          },
          "showarrow": false,
          "text": "Growth Rate Analysis",
          "x": 0.185,
          "xanchor": "center",
          "xref": "paper",
          "y": 0.375,
          "yanchor": "bottom",
          "yref": "paper"
         },
         {
          "font": {
           "size": 16
          },
          "showarrow": false,
          "text": "Seasonal Patterns",
          "x": 0.7550000000000001,
          "xanchor": "center",
          "xref": "paper",
          "y": 0.375,
          "yanchor": "bottom",
          "yref": "paper"
         }
        ],
        "height": 800,
        "showlegend": true,
        "template": {
         "data": {
          "bar": [
           {
            "error_x": {
             "color": "#2a3f5f"
            },
            "error_y": {
             "color": "#2a3f5f"
            },
            "marker": {
             "line": {
              "color": "#E5ECF6",
              "width": 0.5
             },
             "pattern": {
              "fillmode": "overlay",
              "size": 10,
              "solidity": 0.2
             }
            },
            "type": "bar"
           }
          ],
          "barpolar": [
           {
            "marker": {
             "line": {
              "color": "#E5ECF6",
              "width": 0.5
             },
             "pattern": {
              "fillmode": "overlay",
              "size": 10,
              "solidity": 0.2
             }
            },
            "type": "barpolar"
           }
          ],
          "carpet": [
           {
            "aaxis": {
             "endlinecolor": "#2a3f5f",
             "gridcolor": "white",
             "linecolor": "white",
             "minorgridcolor": "white",
             "startlinecolor": "#2a3f5f"
            },
            "baxis": {
             "endlinecolor": "#2a3f5f",
             "gridcolor": "white",
             "linecolor": "white",
             "minorgridcolor": "white",
             "startlinecolor": "#2a3f5f"
            },
            "type": "carpet"
           }
          ],
          "choropleth": [
           {
            "colorbar": {
             "outlinewidth": 0,
             "ticks": ""
            },
            "type": "choropleth"
           }
          ],
          "contour": [
           {
            "colorbar": {
             "outlinewidth": 0,
             "ticks": ""
            },
            "colorscale": [
             [
              0,
              "#0d0887"
             ],
             [
              0.1111111111111111,
              "#46039f"
             ],
             [
              0.2222222222222222,
              "#7201a8"
             ],
             [
              0.3333333333333333,
              "#9c179e"
             ],
             [
              0.4444444444444444,
              "#bd3786"
             ],
             [
              0.5555555555555556,
              "#d8576b"
             ],
             [
              0.6666666666666666,
              "#ed7953"
             ],
             [
              0.7777777777777778,
              "#fb9f3a"
             ],
             [
              0.8888888888888888,
              "#fdca26"
             ],
             [
              1,
              "#f0f921"
             ]
            ],
            "type": "contour"
           }
          ],
          "contourcarpet": [
           {
            "colorbar": {
             "outlinewidth": 0,
             "ticks": ""
            },
            "type": "contourcarpet"
           }
          ],
          "heatmap": [
           {
            "colorbar": {
             "outlinewidth": 0,
             "ticks": ""
            },
            "colorscale": [
             [
              0,
              "#0d0887"
             ],
             [
              0.1111111111111111,
              "#46039f"
             ],
             [
              0.2222222222222222,
              "#7201a8"
             ],
             [
              0.3333333333333333,
              "#9c179e"
             ],
             [
              0.4444444444444444,
              "#bd3786"
             ],
             [
              0.5555555555555556,
              "#d8576b"
             ],
             [
              0.6666666666666666,
              "#ed7953"
             ],
             [
              0.7777777777777778,
              "#fb9f3a"
             ],
             [
              0.8888888888888888,
              "#fdca26"
             ],
             [
              1,
              "#f0f921"
             ]
            ],
            "type": "heatmap"
           }
          ],
          "heatmapgl": [
           {
            "colorbar": {
             "outlinewidth": 0,
             "ticks": ""
            },
            "colorscale": [
             [
              0,
              "#0d0887"
             ],
             [
              0.1111111111111111,
              "#46039f"
             ],
             [
              0.2222222222222222,
              "#7201a8"
             ],
             [
              0.3333333333333333,
              "#9c179e"
             ],
             [
              0.4444444444444444,
              "#bd3786"
             ],
             [
              0.5555555555555556,
              "#d8576b"
             ],
             [
              0.6666666666666666,
              "#ed7953"
             ],
             [
              0.7777777777777778,
              "#fb9f3a"
             ],
             [
              0.8888888888888888,
              "#fdca26"
             ],
             [
              1,
              "#f0f921"
             ]
            ],
            "type": "heatmapgl"
           }
          ],
          "histogram": [
           {
            "marker": {
             "pattern": {
              "fillmode": "overlay",
              "size": 10,
              "solidity": 0.2
             }
            },
            "type": "histogram"
           }
          ],
          "histogram2d": [
           {
            "colorbar": {
             "outlinewidth": 0,
             "ticks": ""
            },
            "colorscale": [
             [
              0,
              "#0d0887"
             ],
             [
              0.1111111111111111,
              "#46039f"
             ],
             [
              0.2222222222222222,
              "#7201a8"
             ],
             [
              0.3333333333333333,
              "#9c179e"
             ],
             [
              0.4444444444444444,
              "#bd3786"
             ],
             [
              0.5555555555555556,
              "#d8576b"
             ],
             [
              0.6666666666666666,
              "#ed7953"
             ],
             [
              0.7777777777777778,
              "#fb9f3a"
             ],
             [
              0.8888888888888888,
              "#fdca26"
             ],
             [
              1,
              "#f0f921"
             ]
            ],
            "type": "histogram2d"
           }
          ],
          "histogram2dcontour": [
           {
            "colorbar": {
             "outlinewidth": 0,
             "ticks": ""
            },
            "colorscale": [
             [
              0,
              "#0d0887"
             ],
             [
              0.1111111111111111,
              "#46039f"
             ],
             [
              0.2222222222222222,
              "#7201a8"
             ],
             [
              0.3333333333333333,
              "#9c179e"
             ],
             [
              0.4444444444444444,
              "#bd3786"
             ],
             [
              0.5555555555555556,
              "#d8576b"
             ],
             [
              0.6666666666666666,
              "#ed7953"
             ],
             [
              0.7777777777777778,
              "#fb9f3a"
             ],
             [
              0.8888888888888888,
              "#fdca26"
             ],
             [
              1,
              "#f0f921"
             ]
            ],
            "type": "histogram2dcontour"
           }
          ],
          "mesh3d": [
           {
            "colorbar": {
             "outlinewidth": 0,
             "ticks": ""
            },
            "type": "mesh3d"
           }
          ],
          "parcoords": [
           {
            "line": {
             "colorbar": {
              "outlinewidth": 0,
              "ticks": ""
             }
            },
            "type": "parcoords"
           }
          ],
          "pie": [
           {
            "automargin": true,
            "type": "pie"
           }
          ],
          "scatter": [
           {
            "fillpattern": {
             "fillmode": "overlay",
             "size": 10,
             "solidity": 0.2
            },
            "type": "scatter"
           }
          ],
          "scatter3d": [
           {
            "line": {
             "colorbar": {
              "outlinewidth": 0,
              "ticks": ""
             }
            },
            "marker": {
             "colorbar": {
              "outlinewidth": 0,
              "ticks": ""
             }
            },
            "type": "scatter3d"
           }
          ],
          "scattercarpet": [
           {
            "marker": {
             "colorbar": {
              "outlinewidth": 0,
              "ticks": ""
             }
            },
            "type": "scattercarpet"
           }
          ],
          "scattergeo": [
           {
            "marker": {
             "colorbar": {
              "outlinewidth": 0,
              "ticks": ""
             }
            },
            "type": "scattergeo"
           }
          ],
          "scattergl": [
           {
            "marker": {
             "colorbar": {
              "outlinewidth": 0,
              "ticks": ""
             }
            },
            "type": "scattergl"
           }
          ],
          "scattermapbox": [
           {
            "marker": {
             "colorbar": {
              "outlinewidth": 0,
              "ticks": ""
             }
            },
            "type": "scattermapbox"
           }
          ],
          "scatterpolar": [
           {
            "marker": {
             "colorbar": {
              "outlinewidth": 0,
              "ticks": ""
             }
            },
            "type": "scatterpolar"
           }
          ],
          "scatterpolargl": [
           {
            "marker": {
             "colorbar": {
              "outlinewidth": 0,
              "ticks": ""
             }
            },
            "type": "scatterpolargl"
           }
          ],
          "scatterternary": [
           {
            "marker": {
             "colorbar": {
              "outlinewidth": 0,
              "ticks": ""
             }
            },
            "type": "scatterternary"
           }
          ],
          "surface": [
           {
            "colorbar": {
             "outlinewidth": 0,
             "ticks": ""
            },
            "colorscale": [
             [
              0,
              "#0d0887"
             ],
             [
              0.1111111111111111,
              "#46039f"
             ],
             [
              0.2222222222222222,
              "#7201a8"
             ],
             [
              0.3333333333333333,
              "#9c179e"
             ],
             [
              0.4444444444444444,
              "#bd3786"
             ],
             [
              0.5555555555555556,
              "#d8576b"
             ],
             [
              0.6666666666666666,
              "#ed7953"
             ],
             [
              0.7777777777777778,
              "#fb9f3a"
             ],
             [
              0.8888888888888888,
              "#fdca26"
             ],
             [
              1,
              "#f0f921"
             ]
            ],
            "type": "surface"
           }
          ],
          "table": [
           {
            "cells": {
             "fill": {
              "color": "#EBF0F8"
             },
             "line": {
              "color": "white"
             }
            },
            "header": {
             "fill": {
              "color": "#C8D4E3"
             },
             "line": {
              "color": "white"
             }
            },
            "type": "table"
           }
          ]
         },
         "layout": {
          "annotationdefaults": {
           "arrowcolor": "#2a3f5f",
           "arrowhead": 0,
           "arrowwidth": 1
          },
          "autotypenumbers": "strict",
          "coloraxis": {
           "colorbar": {
            "outlinewidth": 0,
            "ticks": ""
           }
          },
          "colorscale": {
           "diverging": [
            [
             0,
             "#8e0152"
            ],
            [
             0.1,
             "#c51b7d"
            ],
            [
             0.2,
             "#de77ae"
            ],
            [
             0.3,
             "#f1b6da"
            ],
            [
             0.4,
             "#fde0ef"
            ],
            [
             0.5,
             "#f7f7f7"
            ],
            [
             0.6,
             "#e6f5d0"
            ],
            [
             0.7,
             "#b8e186"
            ],
            [
             0.8,
             "#7fbc41"
            ],
            [
             0.9,
             "#4d9221"
            ],
            [
             1,
             "#276419"
            ]
           ],
           "sequential": [
            [
             0,
             "#0d0887"
            ],
            [
             0.1111111111111111,
             "#46039f"
            ],
            [
             0.2222222222222222,
             "#7201a8"
            ],
            [
             0.3333333333333333,
             "#9c179e"
            ],
            [
             0.4444444444444444,
             "#bd3786"
            ],
            [
             0.5555555555555556,
             "#d8576b"
            ],
            [
             0.6666666666666666,
             "#ed7953"
            ],
            [
             0.7777777777777778,
             "#fb9f3a"
            ],
            [
             0.8888888888888888,
             "#fdca26"
            ],
            [
             1,
             "#f0f921"
            ]
           ],
           "sequentialminus": [
            [
             0,
             "#0d0887"
            ],
            [
             0.1111111111111111,
             "#46039f"
            ],
            [
             0.2222222222222222,
             "#7201a8"
            ],
            [
             0.3333333333333333,
             "#9c179e"
            ],
            [
             0.4444444444444444,
             "#bd3786"
            ],
            [
             0.5555555555555556,
             "#d8576b"
            ],
            [
             0.6666666666666666,
             "#ed7953"
            ],
            [
             0.7777777777777778,
             "#fb9f3a"
            ],
            [
             0.8888888888888888,
             "#fdca26"
            ],
            [
             1,
             "#f0f921"
            ]
           ]
          },
          "colorway": [
           "#636efa",
           "#EF553B",
           "#00cc96",
           "#ab63fa",
           "#FFA15A",
           "#19d3f3",
           "#FF6692",
           "#B6E880",
           "#FF97FF",
           "#FECB52"
          ],
          "font": {
           "color": "#2a3f5f"
          },
          "geo": {
           "bgcolor": "white",
           "lakecolor": "white",
           "landcolor": "#E5ECF6",
           "showlakes": true,
           "showland": true,
           "subunitcolor": "white"
          },
          "hoverlabel": {
           "align": "left"
          },
          "hovermode": "closest",
          "mapbox": {
           "style": "light"
          },
          "paper_bgcolor": "white",
          "plot_bgcolor": "#E5ECF6",
          "polar": {
           "angularaxis": {
            "gridcolor": "white",
            "linecolor": "white",
            "ticks": ""
           },
           "bgcolor": "#E5ECF6",
           "radialaxis": {
            "gridcolor": "white",
            "linecolor": "white",
            "ticks": ""
           }
          },
          "scene": {
           "xaxis": {
            "backgroundcolor": "#E5ECF6",
            "gridcolor": "white",
            "gridwidth": 2,
            "linecolor": "white",
            "showbackground": true,
            "ticks": "",
            "zerolinecolor": "white"
           },
           "yaxis": {
            "backgroundcolor": "#E5ECF6",
            "gridcolor": "white",
            "gridwidth": 2,
            "linecolor": "white",
            "showbackground": true,
            "ticks": "",
            "zerolinecolor": "white"
           },
           "zaxis": {
            "backgroundcolor": "#E5ECF6",
            "gridcolor": "white",
            "gridwidth": 2,
            "linecolor": "white",
            "showbackground": true,
            "ticks": "",
            "zerolinecolor": "white"
           }
          },
          "shapedefaults": {
           "line": {
            "color": "#2a3f5f"
           }
          },
          "ternary": {
           "aaxis": {
            "gridcolor": "white",
            "linecolor": "white",
            "ticks": ""
           },
           "baxis": {
            "gridcolor": "white",
            "linecolor": "white",
            "ticks": ""
           },
           "bgcolor": "#E5ECF6",
           "caxis": {
            "gridcolor": "white",
            "linecolor": "white",
            "ticks": ""
           }
          },
          "title": {
           "x": 0.05
          },
          "xaxis": {
           "automargin": true,
           "gridcolor": "white",
           "linecolor": "white",
           "ticks": "",
           "title": {
            "standoff": 15
           },
           "zerolinecolor": "white",
           "zerolinewidth": 2
          },
          "yaxis": {
           "automargin": true,
           "gridcolor": "white",
           "linecolor": "white",
           "ticks": "",
           "title": {
            "standoff": 15
           },
           "zerolinecolor": "white",
           "zerolinewidth": 2
          }
         }
        },
        "title": {
         "text": "Rwanda Export Quarterly Analysis Dashboard"
        },
        "xaxis": {
         "anchor": "y",
         "domain": [
          0,
          0.37
         ],
         "title": {
          "text": "Quarter"
         }
        },
        "xaxis2": {
         "anchor": "y2",
         "domain": [
          0.5700000000000001,
          0.9400000000000001
         ],
         "title": {
          "text": "Quarter"
         }
        },
        "xaxis3": {
         "anchor": "y3",
         "domain": [
          0,
          0.37
         ],
         "title": {
          "text": "Quarter"
         }
        },
        "xaxis4": {
         "anchor": "y5",
         "domain": [
          0.5700000000000001,
          0.9400000000000001
         ],
         "title": {
          "text": "Quarter"
         }
        },
        "yaxis": {
         "anchor": "x",
         "domain": [
          0.625,
          1
         ],
         "title": {
          "text": "Export Value ($M)"
         }
        },
        "yaxis2": {
         "anchor": "x2",
         "domain": [
          0.625,
          1
         ],
         "title": {
          "text": "Export Value ($M)"
         }
        },
        "yaxis3": {
         "anchor": "x3",
         "domain": [
          0,
          0.375
         ],
         "title": {
          "text": "Growth Rate (%)"
         }
        },
        "yaxis4": {
         "anchor": "x3",
         "overlaying": "y3",
         "side": "right",
         "title": {
          "text": "Growth Rate (%)"
         }
        },
        "yaxis5": {
         "anchor": "x4",
         "domain": [
          0,
          0.375
         ],
         "title": {
          "text": "Avg Export Value ($M)"
         }
        }
       }
      }
     },
     "metadata": {},
     "output_type": "display_data"
    },
    {
     "name": "stdout",
     "output_type": "stream",
     "text": [
      "📊 Quarterly Analysis Dashboard Created!\n",
      "🔍 Key Insights:\n",
      "   • Highest exports in: 2024Q3\n",
      "   • Strongest growth period: 2024Q2\n",
      "   • Most seasonal quarter: Q3\n"
     ]
    }
   ],
   "source": [
    "# Create comprehensive quarterly trend visualizations\n",
    "if 'commodities' in datasets and 'melted_data' in locals():\n",
    "    \n",
    "    # 1. Overall Export Trend\n",
    "    fig = make_subplots(rows=2, cols=2, \n",
    "                        subplot_titles=('Total Export Trends', 'Top Commodities Quarterly Performance',\n",
    "                                      'Growth Rate Analysis', 'Seasonal Patterns'),\n",
    "                        specs=[[{\"secondary_y\": False}, {\"secondary_y\": False}],\n",
    "                               [{\"secondary_y\": True}, {\"secondary_y\": False}]])\n",
    "    \n",
    "    # Total exports trend\n",
    "    fig.add_trace(go.Scatter(x=total_by_quarter['Quarter'], \n",
    "                            y=total_by_quarter['Export_Value'],\n",
    "                            mode='lines+markers',\n",
    "                            name='Total Exports',\n",
    "                            line=dict(width=3, color='#1f77b4')),\n",
    "                 row=1, col=1)\n",
    "    \n",
    "    # Top 5 commodities trends\n",
    "    top5_commodities = commodities_df.nlargest(5, '2024Q3')['Commodity_Description'].tolist()\n",
    "    colors = px.colors.qualitative.Set1\n",
    "    \n",
    "    for i, commodity in enumerate(top5_commodities):\n",
    "        commodity_data = melted_data[melted_data['Commodity_Description'] == commodity]\n",
    "        fig.add_trace(go.Scatter(x=commodity_data['Quarter'], \n",
    "                                y=commodity_data['Export_Value'],\n",
    "                                mode='lines+markers',\n",
    "                                name=commodity[:30] + \"...\",\n",
    "                                line=dict(color=colors[i % len(colors)])),\n",
    "                     row=1, col=2)\n",
    "    \n",
    "    # Growth rate analysis (QoQ growth)\n",
    "    total_by_quarter['QoQ_Growth'] = total_by_quarter['Export_Value'].pct_change() * 100\n",
    "    fig.add_trace(go.Bar(x=total_by_quarter['Quarter'][1:], \n",
    "                        y=total_by_quarter['QoQ_Growth'][1:],\n",
    "                        name='QoQ Growth %',\n",
    "                        marker_color='green'),\n",
    "                 row=2, col=1)\n",
    "    \n",
    "    # Seasonal pattern (average by quarter number)\n",
    "    melted_data['Quarter_Num'] = melted_data['Quarter'].str[-1].astype(int)\n",
    "    seasonal_avg = melted_data.groupby('Quarter_Num')['Export_Value'].mean().reset_index()\n",
    "    fig.add_trace(go.Bar(x=[f'Q{q}' for q in seasonal_avg['Quarter_Num']], \n",
    "                        y=seasonal_avg['Export_Value'],\n",
    "                        name='Avg by Quarter',\n",
    "                        marker_color='orange'),\n",
    "                 row=2, col=2)\n",
    "    \n",
    "    # Update layout\n",
    "    fig.update_layout(height=800, \n",
    "                     title_text=\"Rwanda Export Quarterly Analysis Dashboard\",\n",
    "                     showlegend=True)\n",
    "    \n",
    "    fig.update_xaxes(title_text=\"Quarter\", row=1, col=1)\n",
    "    fig.update_xaxes(title_text=\"Quarter\", row=1, col=2)\n",
    "    fig.update_xaxes(title_text=\"Quarter\", row=2, col=1)\n",
    "    fig.update_xaxes(title_text=\"Quarter\", row=2, col=2)\n",
    "    \n",
    "    fig.update_yaxes(title_text=\"Export Value ($M)\", row=1, col=1)\n",
    "    fig.update_yaxes(title_text=\"Export Value ($M)\", row=1, col=2)\n",
    "    fig.update_yaxes(title_text=\"Growth Rate (%)\", row=2, col=1)\n",
    "    fig.update_yaxes(title_text=\"Avg Export Value ($M)\", row=2, col=2)\n",
    "    \n",
    "    fig.show()\n",
    "    \n",
    "    print(\"📊 Quarterly Analysis Dashboard Created!\")\n",
    "    print(\"🔍 Key Insights:\")\n",
    "    print(f\"   • Highest exports in: {total_by_quarter.loc[total_by_quarter['Export_Value'].idxmax(), 'Quarter']}\")\n",
    "    print(f\"   • Strongest growth period: {total_by_quarter.loc[total_by_quarter['QoQ_Growth'].idxmax(), 'Quarter'] if not total_by_quarter['QoQ_Growth'].isna().all() else 'N/A'}\")\n",
    "    print(f\"   • Most seasonal quarter: Q{seasonal_avg.loc[seasonal_avg['Export_Value'].idxmax(), 'Quarter_Num']}\")\n",
    "    \n",
    "else:\n",
    "    print(\"❌ Cannot create visualizations - data not available\")"
   ]
  },
  {
   "cell_type": "markdown",
   "id": "899599bb",
   "metadata": {},
   "source": [
    "## 3. Growth Opportunity Analysis - Identifying High-Potential Sectors\n",
    "\n",
    "Let's analyze which commodity sectors show the highest growth potential and could represent Rwanda's next big export opportunity."
   ]
  },
  {
   "cell_type": "code",
   "execution_count": 10,
   "id": "773cd4cd",
   "metadata": {},
   "outputs": [
    {
     "name": "stdout",
     "output_type": "stream",
     "text": [
      "🎯 RWANDA'S TOP EXPORT OPPORTUNITIES ANALYSIS\n",
      "======================================================================\n",
      "\n",
      "🏆 TOP 5 HIGH-POTENTIAL SECTORS:\n",
      "\n",
      "1. Animals and vegetable oils, fats & waxes\n",
      "   💰 Current Value: $12.0M\n",
      "   📈 YoY Growth: 320.1%\n",
      "   📊 Market Share: 1.8%\n",
      "   🎯 Opportunity Score: 66.0/100\n",
      "   📉 Volatility: 107.7%\n",
      "\n",
      "2. Other commodities & transactions, n.e.s\n",
      "   💰 Current Value: $434.8M\n",
      "   📈 YoY Growth: 131.2%\n",
      "   📊 Market Share: 66.5%\n",
      "   🎯 Opportunity Score: 57.9/100\n",
      "   📉 Volatility: 44.5%\n",
      "\n",
      "3. Crude materials, inedible, except fuels\n",
      "   💰 Current Value: $67.9M\n",
      "   📈 YoY Growth: 23.6%\n",
      "   📊 Market Share: 10.4%\n",
      "   🎯 Opportunity Score: 32.4/100\n",
      "   📉 Volatility: 9.0%\n",
      "\n",
      "4. Food and live animals\n",
      "   💰 Current Value: $86.2M\n",
      "   📈 YoY Growth: 13.3%\n",
      "   📊 Market Share: 13.2%\n",
      "   🎯 Opportunity Score: 29.8/100\n",
      "   📉 Volatility: 24.7%\n",
      "\n",
      "5. Chemicals & related products, n.e.s.\n",
      "   💰 Current Value: $4.9M\n",
      "   📈 YoY Growth: 30.4%\n",
      "   📊 Market Share: 0.8%\n",
      "   🎯 Opportunity Score: 29.4/100\n",
      "   📉 Volatility: 16.5%\n",
      "\n",
      "🔍 DETAILED ANALYSIS METRICS CALCULATED:\n",
      "   • Growth Score (YoY performance)\n",
      "   • Value Score (current market size)\n",
      "   • Stability Score (low volatility)\n",
      "   • Trend Score (long-term trajectory)\n"
     ]
    }
   ],
   "source": [
    "# Advanced Growth Opportunity Analysis\n",
    "if 'commodities' in datasets:\n",
    "    commodities_df = datasets['commodities'].copy()\n",
    "    \n",
    "    # Create opportunity matrix based on multiple factors\n",
    "    opportunity_analysis = commodities_df.copy()\n",
    "    \n",
    "    # Calculate additional metrics\n",
    "    opportunity_analysis['Current_Value_2024Q3'] = opportunity_analysis['2024Q3']\n",
    "    opportunity_analysis['YoY_Growth'] = opportunity_analysis['Change_Q3_Q3_Percent']\n",
    "    opportunity_analysis['QoQ_Growth'] = opportunity_analysis['Change_Q3_Q2_Percent']\n",
    "    opportunity_analysis['Market_Share'] = opportunity_analysis['Share_Percent_Q3']\n",
    "    \n",
    "    # Calculate average growth over time\n",
    "    quarter_cols = ['2022Q1', '2022Q2', '2022Q3', '2022Q4', '2023Q1', '2023Q2', '2023Q3', '2023Q4', '2024Q1', '2024Q2', '2024Q3']\n",
    "    opportunity_analysis['Avg_Export_Value'] = opportunity_analysis[quarter_cols].mean(axis=1)\n",
    "    \n",
    "    # Calculate volatility (coefficient of variation)\n",
    "    opportunity_analysis['Volatility'] = (opportunity_analysis[quarter_cols].std(axis=1) / \n",
    "                                         opportunity_analysis['Avg_Export_Value']) * 100\n",
    "    \n",
    "    # Calculate long-term trend (2022Q1 to 2024Q3)\n",
    "    opportunity_analysis['Long_Term_Growth'] = ((opportunity_analysis['2024Q3'] - opportunity_analysis['2022Q1']) / \n",
    "                                               opportunity_analysis['2022Q1'] * 100)\n",
    "    \n",
    "    # Create opportunity score (normalize and weight factors)\n",
    "    def normalize_score(series, reverse=False):\n",
    "        if reverse:\n",
    "            return ((series.max() - series) / (series.max() - series.min())) * 100\n",
    "        else:\n",
    "            return ((series - series.min()) / (series.max() - series.min())) * 100\n",
    "    \n",
    "    # Calculate weighted opportunity score\n",
    "    opportunity_analysis['Growth_Score'] = normalize_score(opportunity_analysis['YoY_Growth'].fillna(0))\n",
    "    opportunity_analysis['Value_Score'] = normalize_score(opportunity_analysis['Current_Value_2024Q3'])\n",
    "    opportunity_analysis['Stability_Score'] = normalize_score(opportunity_analysis['Volatility'].fillna(100), reverse=True)\n",
    "    opportunity_analysis['Trend_Score'] = normalize_score(opportunity_analysis['Long_Term_Growth'].fillna(0))\n",
    "    \n",
    "    # Weighted composite score (customize weights based on priorities)\n",
    "    weights = {'growth': 0.3, 'value': 0.2, 'stability': 0.2, 'trend': 0.3}\n",
    "    opportunity_analysis['Opportunity_Score'] = (\n",
    "        opportunity_analysis['Growth_Score'] * weights['growth'] +\n",
    "        opportunity_analysis['Value_Score'] * weights['value'] +\n",
    "        opportunity_analysis['Stability_Score'] * weights['stability'] +\n",
    "        opportunity_analysis['Trend_Score'] * weights['trend']\n",
    "    )\n",
    "    \n",
    "    # Rank opportunities\n",
    "    opportunity_analysis = opportunity_analysis.sort_values('Opportunity_Score', ascending=False)\n",
    "    \n",
    "    print(\"🎯 RWANDA'S TOP EXPORT OPPORTUNITIES ANALYSIS\")\n",
    "    print(\"=\" * 70)\n",
    "    print(\"\\n🏆 TOP 5 HIGH-POTENTIAL SECTORS:\")\n",
    "    \n",
    "    top_opportunities = opportunity_analysis.head(5)\n",
    "    for idx, (_, row) in enumerate(top_opportunities.iterrows(), 1):\n",
    "        print(f\"\\n{idx}. {row['Commodity_Description']}\")\n",
    "        print(f\"   💰 Current Value: ${row['Current_Value_2024Q3']:.1f}M\")\n",
    "        print(f\"   📈 YoY Growth: {row['YoY_Growth']:.1f}%\")\n",
    "        print(f\"   📊 Market Share: {row['Market_Share']:.1f}%\")\n",
    "        print(f\"   🎯 Opportunity Score: {row['Opportunity_Score']:.1f}/100\")\n",
    "        print(f\"   📉 Volatility: {row['Volatility']:.1f}%\")\n",
    "        \n",
    "    print(f\"\\n🔍 DETAILED ANALYSIS METRICS CALCULATED:\")\n",
    "    print(f\"   • Growth Score (YoY performance)\")\n",
    "    print(f\"   • Value Score (current market size)\")  \n",
    "    print(f\"   • Stability Score (low volatility)\")\n",
    "    print(f\"   • Trend Score (long-term trajectory)\")\n",
    "    \n",
    "else:\n",
    "    print(\"❌ Commodities data not available for opportunity analysis\")"
   ]
  },
  {
   "cell_type": "code",
   "execution_count": 11,
   "id": "8e0df084",
   "metadata": {},
   "outputs": [
    {
     "data": {
      "image/png": "[encoded data removed]",
      "text/plain": [
       "<Figure size 1500x1200 with 5 Axes>"
      ]
     },
     "metadata": {},
     "output_type": "display_data"
    },
    {
     "name": "stdout",
     "output_type": "stream",
     "text": [
      "\n",
      "📊 Opportunity Matrix Analysis Complete!\n",
      "🎯 Key Strategic Insights:\n",
      "   🚀 High Growth + Low Risk: SITC 2 - Crude materials, inedible, except fuels\n",
      "   💡 Emerging Opportunity: SITC 4 - Animals and vegetable oils, fats & waxes\n",
      "\n",
      "📈 PERFORMANCE SUMMARY:\n",
      "   • Top Opportunity: SITC 4 (66.0/100)\n",
      "   • Average Growth Rate: 49.4%\n",
      "   • Market Concentration: 100.0% (Top commodities)\n"
     ]
    }
   ],
   "source": [
    "# Create Opportunity Matrix Visualization\n",
    "if 'opportunity_analysis' in locals():\n",
    "    \n",
    "    # Clean data for visualization (handle NaN values)\n",
    "    viz_data = opportunity_analysis.copy()\n",
    "    viz_data['Opportunity_Score'] = viz_data['Opportunity_Score'].fillna(0)\n",
    "    viz_data['YoY_Growth'] = viz_data['YoY_Growth'].fillna(0)\n",
    "    viz_data['Volatility'] = viz_data['Volatility'].fillna(100)\n",
    "    viz_data['Market_Share'] = viz_data['Market_Share'].fillna(0)\n",
    "    \n",
    "    # Create simple matplotlib visualizations instead\n",
    "    import matplotlib.pyplot as plt\n",
    "    \n",
    "    fig, ((ax1, ax2), (ax3, ax4)) = plt.subplots(2, 2, figsize=(15, 12))\n",
    "    fig.suptitle('Rwanda Export Opportunity Analysis Dashboard', fontsize=16, fontweight='bold')\n",
    "    \n",
    "    # 1. Opportunity Matrix (Growth vs Current Value)\n",
    "    scatter = ax1.scatter(viz_data['Current_Value_2024Q3'], viz_data['YoY_Growth'], \n",
    "                         s=viz_data['Opportunity_Score']*2, \n",
    "                         c=viz_data['Opportunity_Score'], \n",
    "                         cmap='viridis', alpha=0.7)\n",
    "    ax1.set_xlabel('Current Export Value ($M)')\n",
    "    ax1.set_ylabel('YoY Growth Rate (%)')\n",
    "    ax1.set_title('Opportunity Matrix: Growth vs Value')\n",
    "    plt.colorbar(scatter, ax=ax1, label='Opportunity Score')\n",
    "    \n",
    "    # Add labels for top opportunities\n",
    "    top5 = viz_data.head(5)\n",
    "    for _, row in top5.iterrows():\n",
    "        ax1.annotate(f\"SITC {row['SITC_Code']}\", \n",
    "                    (row['Current_Value_2024Q3'], row['YoY_Growth']),\n",
    "                    xytext=(5, 5), textcoords='offset points', fontsize=8)\n",
    "    \n",
    "    # 2. Top commodities performance over time\n",
    "    quarter_cols = ['2022Q1', '2022Q2', '2022Q3', '2022Q4', '2023Q1', '2023Q2', '2023Q3', '2023Q4', '2024Q1', '2024Q2', '2024Q3']\n",
    "    \n",
    "    for i, (_, commodity) in enumerate(viz_data.head(5).iterrows()):\n",
    "        quarter_values = []\n",
    "        for col in quarter_cols:\n",
    "            val = commodity[col] if col in commodity.index and not pd.isna(commodity[col]) else 0\n",
    "            quarter_values.append(val)\n",
    "        \n",
    "        ax2.plot(quarter_cols, quarter_values, marker='o', label=f\"SITC {commodity['SITC_Code']}\")\n",
    "    \n",
    "    ax2.set_xlabel('Quarter')\n",
    "    ax2.set_ylabel('Export Value ($M)')\n",
    "    ax2.set_title('Growth Trajectory by Sector')\n",
    "    ax2.legend(bbox_to_anchor=(1.05, 1), loc='upper left')\n",
    "    ax2.tick_params(axis='x', rotation=45)\n",
    "    \n",
    "    # 3. Market Share vs Volatility\n",
    "    ax3.scatter(viz_data['Market_Share'], viz_data['Volatility'], \n",
    "               s=50, c='red', alpha=0.6)\n",
    "    ax3.set_xlabel('Market Share (%)')\n",
    "    ax3.set_ylabel('Volatility (%)')\n",
    "    ax3.set_title('Market Share vs Volatility')\n",
    "    \n",
    "    # Add labels for key points\n",
    "    for _, row in top5.iterrows():\n",
    "        ax3.annotate(f\"SITC {row['SITC_Code']}\", \n",
    "                    (row['Market_Share'], row['Volatility']),\n",
    "                    xytext=(5, 5), textcoords='offset points', fontsize=8)\n",
    "    \n",
    "    # 4. Top 5 Opportunity Scores\n",
    "    top5_scores = viz_data.head(5)\n",
    "    sitc_codes = [f\"SITC {row['SITC_Code']}\" for _, row in top5_scores.iterrows()]\n",
    "    scores = [row['Opportunity_Score'] for _, row in top5_scores.iterrows()]\n",
    "    \n",
    "    bars = ax4.bar(sitc_codes, scores, color='lightblue', edgecolor='navy')\n",
    "    ax4.set_xlabel('SITC Code')\n",
    "    ax4.set_ylabel('Opportunity Score')\n",
    "    ax4.set_title('Top 5 Opportunities Performance')\n",
    "    ax4.tick_params(axis='x', rotation=45)\n",
    "    \n",
    "    # Add value labels on bars\n",
    "    for bar, score in zip(bars, scores):\n",
    "        ax4.text(bar.get_x() + bar.get_width()/2, bar.get_height() + 1, \n",
    "                f'{score:.1f}', ha='center', va='bottom')\n",
    "    \n",
    "    plt.tight_layout()\n",
    "    plt.show()\n",
    "    \n",
    "    print(\"\\n📊 Opportunity Matrix Analysis Complete!\")\n",
    "    print(\"🎯 Key Strategic Insights:\")\n",
    "    \n",
    "    # Strategic insights\n",
    "    high_growth_low_vol = viz_data[\n",
    "        (viz_data['YoY_Growth'] > viz_data['YoY_Growth'].median()) &\n",
    "        (viz_data['Volatility'] < viz_data['Volatility'].median())\n",
    "    ]\n",
    "    \n",
    "    if not high_growth_low_vol.empty:\n",
    "        print(f\"   🚀 High Growth + Low Risk: SITC {high_growth_low_vol.iloc[0]['SITC_Code']} - {high_growth_low_vol.iloc[0]['Commodity_Description']}\")\n",
    "    \n",
    "    emerging_opportunities = viz_data[\n",
    "        (viz_data['Market_Share'] < 5) &\n",
    "        (viz_data['YoY_Growth'] > 50)\n",
    "    ]\n",
    "    \n",
    "    if not emerging_opportunities.empty:\n",
    "        print(f\"   💡 Emerging Opportunity: SITC {emerging_opportunities.iloc[0]['SITC_Code']} - {emerging_opportunities.iloc[0]['Commodity_Description']}\")\n",
    "    \n",
    "    # Additional insights\n",
    "    print(f\"\\n📈 PERFORMANCE SUMMARY:\")\n",
    "    print(f\"   • Top Opportunity: SITC {viz_data.iloc[0]['SITC_Code']} ({viz_data.iloc[0]['Opportunity_Score']:.1f}/100)\")\n",
    "    print(f\"   • Average Growth Rate: {viz_data['YoY_Growth'].mean():.1f}%\")\n",
    "    print(f\"   • Market Concentration: {viz_data['Market_Share'].sum():.1f}% (Top commodities)\")\n",
    "        \n",
    "else:\n",
    "    print(\"❌ Cannot create opportunity visualizations\")"
   ]
  },
  {
   "cell_type": "markdown",
   "id": "a9c13354",
   "metadata": {},
   "source": [
    "## 4. Geographic Market Analysis - Finding New Export Destinations\n",
    "\n",
    "Let's analyze Rwanda's export destinations to identify emerging markets and diversification opportunities."
   ]
  },
  {
   "cell_type": "code",
   "execution_count": 12,
   "id": "bb0fad71",
   "metadata": {},
   "outputs": [
    {
     "name": "stdout",
     "output_type": "stream",
     "text": [
      "🌍 GEOGRAPHIC EXPORT ANALYSIS\n",
      "==================================================\n",
      "\n",
      "📊 MARKET CONCENTRATION METRICS:\n",
      "   • Herfindahl Index: 52.3 (Lower = More Diversified)\n",
      "   • Top 3 Markets Share: 85.0%\n",
      "\n",
      "🚀 EMERGING EXPORT MARKETS (High Growth, Low Share):\n",
      "   1. Ethiopia: +7974% growth, $3.3M\n",
      "   2. Thailand: +652% growth, $6.4M\n",
      "   3. Luxembourg: +478% growth, $13.8M\n",
      "   4. Sweden: +476% growth, $2.5M\n",
      "   5. Netherlands: +152% growth, $7.0M\n",
      "\n",
      "🌎 CONTINENTAL EXPORT DISTRIBUTION (Q3 2024):\n",
      "   • AFRICA: $84.5M (12.9%)\n",
      "   • AMERICA: $6.7M (1.0%)\n",
      "   • ASIA: $510.4M (78.1%)\n",
      "   • EUROPE: $51.7M (7.9%)\n",
      "   • OCEANIA: $0.6M (0.1%)\n",
      "\n",
      "⚠️ MARKET CONCENTRATION RISK ASSESSMENT:\n",
      "   🔴 HIGH RISK: Over-concentrated in few markets\n",
      "   📝 Recommendation: Urgent diversification needed\n"
     ]
    }
   ],
   "source": [
    "# Geographic Market Diversification Analysis\n",
    "if 'countries' in datasets and 'continents' in datasets:\n",
    "    countries_df = datasets['countries'].copy()\n",
    "    continents_df = datasets['continents'].copy()\n",
    "    \n",
    "    print(\"🌍 GEOGRAPHIC EXPORT ANALYSIS\")\n",
    "    print(\"=\" * 50)\n",
    "    \n",
    "    # Market concentration analysis\n",
    "    total_exports_q3 = countries_df['2024Q3'].sum()\n",
    "    countries_df['Market_Share_Q3'] = (countries_df['2024Q3'] / total_exports_q3) * 100\n",
    "    \n",
    "    # Calculate market diversification metrics\n",
    "    herfindahl_index = (countries_df['Market_Share_Q3'] ** 2).sum() / 100\n",
    "    \n",
    "    print(f\"\\n📊 MARKET CONCENTRATION METRICS:\")\n",
    "    print(f\"   • Herfindahl Index: {herfindahl_index:.1f} (Lower = More Diversified)\")\n",
    "    print(f\"   • Top 3 Markets Share: {countries_df.head(3)['Market_Share_Q3'].sum():.1f}%\")\n",
    "    \n",
    "    # Identify emerging markets (high growth, currently small share)\n",
    "    countries_df['Growth_Momentum'] = countries_df['Change_Q3_Q3_Percent'].fillna(0)\n",
    "    \n",
    "    emerging_markets = countries_df[\n",
    "        (countries_df['Market_Share_Q3'] < 5) & \n",
    "        (countries_df['Growth_Momentum'] > 50) & \n",
    "        (countries_df['2024Q3'] > 1)  # At least $1M in exports\n",
    "    ].sort_values('Growth_Momentum', ascending=False)\n",
    "    \n",
    "    print(f\"\\n🚀 EMERGING EXPORT MARKETS (High Growth, Low Share):\")\n",
    "    if not emerging_markets.empty:\n",
    "        for idx, (_, row) in enumerate(emerging_markets.head(5).iterrows(), 1):\n",
    "            print(f\"   {idx}. {row['Country']}: +{row['Growth_Momentum']:.0f}% growth, ${row['2024Q3']:.1f}M\")\n",
    "    else:\n",
    "        print(\"   • No clear emerging markets identified in current data\")\n",
    "    \n",
    "    # Continental analysis\n",
    "    exports_continents = continents_df[continents_df['Flow_Type'] == 'Exports'].copy()\n",
    "    \n",
    "    print(f\"\\n🌎 CONTINENTAL EXPORT DISTRIBUTION (Q3 2024):\")\n",
    "    for _, row in exports_continents.iterrows():\n",
    "        if row['Continent'] != 'WORLD':\n",
    "            continent_share = (row['2024Q3'] / exports_continents[exports_continents['Continent'] == 'WORLD']['2024Q3'].iloc[0]) * 100\n",
    "            print(f\"   • {row['Continent']}: ${row['2024Q3']:.1f}M ({continent_share:.1f}%)\")\n",
    "    \n",
    "    # Market risk assessment\n",
    "    print(f\"\\n⚠️ MARKET CONCENTRATION RISK ASSESSMENT:\")\n",
    "    if herfindahl_index > 25:\n",
    "        print(f\"   🔴 HIGH RISK: Over-concentrated in few markets\")\n",
    "        print(f\"   📝 Recommendation: Urgent diversification needed\")\n",
    "    elif herfindahl_index > 15:\n",
    "        print(f\"   🟡 MEDIUM RISK: Moderately concentrated\")\n",
    "        print(f\"   📝 Recommendation: Continue diversification efforts\")\n",
    "    else:\n",
    "        print(f\"   🟢 LOW RISK: Well diversified markets\")\n",
    "        print(f\"   📝 Recommendation: Maintain current diversification\")\n",
    "        \n",
    "else:\n",
    "    print(\"❌ Geographic data not available for analysis\")"
   ]
  },
  {
   "cell_type": "markdown",
   "id": "f7441fbc",
   "metadata": {},
   "source": [
    "## 5. Predictive Modeling - Forecasting Export Demand\n",
    "\n",
    "Let's use machine learning to predict future export trends and identify which sectors will drive growth."
   ]
  },
  {
   "cell_type": "code",
   "execution_count": 13,
   "id": "f1c7905f",
   "metadata": {},
   "outputs": [
    {
     "name": "stdout",
     "output_type": "stream",
     "text": [
      "🤖 PREDICTIVE EXPORT MODELING\n",
      "==================================================\n",
      "\n",
      "📈 COMMODITY EXPORT FORECASTS (Q4 2024 & Q1 2025):\n",
      "\n",
      "🎯 TOP 5 PREDICTED GROWTH SECTORS:\n",
      "\n",
      "1. Beverages and tobacco...\n",
      "   📊 Current (Q3 2024): $0.1M\n",
      "   📈 Predicted (Q4 2024): $0.7M\n",
      "   🚀 Predicted Growth: +770.9%\n",
      "   🎯 Model Accuracy (R²): 0.06\n",
      "\n",
      "2. Mineral fuels, lubricants and related materials...\n",
      "   📊 Current (Q3 2024): $0.6M\n",
      "   📈 Predicted (Q4 2024): $1.0M\n",
      "   🚀 Predicted Growth: +66.4%\n",
      "   🎯 Model Accuracy (R²): 0.19\n",
      "\n",
      "3. Chemicals & related products, n.e.s....\n",
      "   📊 Current (Q3 2024): $4.9M\n",
      "   📈 Predicted (Q4 2024): $4.9M\n",
      "   🚀 Predicted Growth: +2.9%\n",
      "   🎯 Model Accuracy (R²): 0.40\n",
      "\n",
      "4. Food and live animals...\n",
      "   📊 Current (Q3 2024): $86.2M\n",
      "   📈 Predicted (Q4 2024): $87.6M\n",
      "   🚀 Predicted Growth: +0.8%\n",
      "   🎯 Model Accuracy (R²): 0.01\n",
      "\n",
      "5. Manufactured goods classified chiefly by material...\n",
      "   📊 Current (Q3 2024): $30.7M\n",
      "   📈 Predicted (Q4 2024): $30.7M\n",
      "   🚀 Predicted Growth: +0.8%\n",
      "   🎯 Model Accuracy (R²): 0.07\n",
      "\n",
      "📊 OVERALL MARKET FORECAST:\n",
      "   • Current Total Exports: $653.9M\n",
      "   • Predicted Q1 2025: $608.2M\n",
      "   • Overall Growth Forecast: -7.0%\n",
      "\n",
      "💡 INVESTMENT PRIORITY RECOMMENDATIONS:\n",
      "   ⚠️ Limited high-confidence opportunities - consider diversification\n"
     ]
    }
   ],
   "source": [
    "# Simple predictive modeling for export forecasting\n",
    "from sklearn.linear_model import LinearRegression\n",
    "from sklearn.metrics import mean_absolute_error, r2_score\n",
    "import numpy as np\n",
    "\n",
    "if 'commodities' in datasets:\n",
    "    print(\"🤖 PREDICTIVE EXPORT MODELING\")\n",
    "    print(\"=\" * 50)\n",
    "    \n",
    "    # Prepare data for time series forecasting\n",
    "    quarter_cols = ['2022Q1', '2022Q2', '2022Q3', '2022Q4', '2023Q1', '2023Q2', '2023Q3', '2023Q4', '2024Q1', '2024Q2', '2024Q3']\n",
    "    \n",
    "    # Create time index for regression\n",
    "    time_index = np.arange(len(quarter_cols)).reshape(-1, 1)\n",
    "    \n",
    "    predictions = {}\n",
    "    \n",
    "    print(\"\\n📈 COMMODITY EXPORT FORECASTS (Q4 2024 & Q1 2025):\")\n",
    "    \n",
    "    for idx, row in commodities_df.iterrows():\n",
    "        commodity = row['Commodity_Description']\n",
    "        \n",
    "        # Get values and handle NaN/missing data\n",
    "        values = []\n",
    "        for col in quarter_cols:\n",
    "            val = row[col]\n",
    "            if pd.isna(val) or val == '':\n",
    "                values.append(0.0)  # Replace NaN with 0\n",
    "            else:\n",
    "                try:\n",
    "                    values.append(float(val))\n",
    "                except (ValueError, TypeError):\n",
    "                    values.append(0.0)\n",
    "        \n",
    "        # Skip if all values are zero or near zero\n",
    "        if sum(values) < 1.0:\n",
    "            continue\n",
    "            \n",
    "        # Simple linear regression for trend\n",
    "        model = LinearRegression()\n",
    "        model.fit(time_index, values)\n",
    "        \n",
    "        # Predict next 2 quarters\n",
    "        future_time = np.array([[len(quarter_cols)], [len(quarter_cols) + 1]])\n",
    "        future_predictions = model.predict(future_time)\n",
    "        \n",
    "        # Calculate model performance\n",
    "        predicted_values = model.predict(time_index)\n",
    "        try:\n",
    "            r2 = r2_score(values, predicted_values)\n",
    "        except ValueError:\n",
    "            r2 = 0.0\n",
    "        \n",
    "        predictions[commodity] = {\n",
    "            'Q4_2024': max(0, future_predictions[0]),  # Ensure no negative predictions\n",
    "            'Q1_2025': max(0, future_predictions[1]),\n",
    "            'trend_coefficient': model.coef_[0],\n",
    "            'r2_score': r2,\n",
    "            'current_value': values[-1] if values else 0  # Q3 2024 value\n",
    "        }\n",
    "    \n",
    "    # Rank by predicted growth potential\n",
    "    growth_potential = []\n",
    "    for commodity, pred in predictions.items():\n",
    "        if pred['current_value'] > 0:  # Only consider commodities with current exports\n",
    "            predicted_growth = ((pred['Q1_2025'] - pred['current_value']) / pred['current_value']) * 100\n",
    "            growth_potential.append({\n",
    "                'commodity': commodity,\n",
    "                'predicted_growth': predicted_growth,\n",
    "                'q4_2024_forecast': pred['Q4_2024'],\n",
    "                'q1_2025_forecast': pred['Q1_2025'],\n",
    "                'model_accuracy': pred['r2_score'],\n",
    "                'current_value': pred['current_value']\n",
    "            })\n",
    "    \n",
    "    # Sort by predicted growth\n",
    "    growth_potential.sort(key=lambda x: x['predicted_growth'], reverse=True)\n",
    "    \n",
    "    print(f\"\\n🎯 TOP 5 PREDICTED GROWTH SECTORS:\")\n",
    "    for i, item in enumerate(growth_potential[:5], 1):\n",
    "        print(f\"\\n{i}. {item['commodity'][:50]}...\")\n",
    "        print(f\"   📊 Current (Q3 2024): ${item['current_value']:.1f}M\")\n",
    "        print(f\"   📈 Predicted (Q4 2024): ${item['q4_2024_forecast']:.1f}M\")\n",
    "        print(f\"   🚀 Predicted Growth: {item['predicted_growth']:+.1f}%\")\n",
    "        print(f\"   🎯 Model Accuracy (R²): {item['model_accuracy']:.2f}\")\n",
    "    \n",
    "    if len(growth_potential) > 0:\n",
    "        # Overall market forecast\n",
    "        total_current = sum(item['current_value'] for item in growth_potential)\n",
    "        total_predicted_q1_2025 = sum(item['q1_2025_forecast'] for item in growth_potential)\n",
    "        overall_growth = ((total_predicted_q1_2025 - total_current) / total_current) * 100\n",
    "        \n",
    "        print(f\"\\n📊 OVERALL MARKET FORECAST:\")\n",
    "        print(f\"   • Current Total Exports: ${total_current:.1f}M\")\n",
    "        print(f\"   • Predicted Q1 2025: ${total_predicted_q1_2025:.1f}M\")\n",
    "        print(f\"   • Overall Growth Forecast: {overall_growth:+.1f}%\")\n",
    "        \n",
    "        # Investment recommendations\n",
    "        print(f\"\\n💡 INVESTMENT PRIORITY RECOMMENDATIONS:\")\n",
    "        high_confidence_growth = [item for item in growth_potential[:5] \n",
    "                                 if item['model_accuracy'] > 0.3 and item['predicted_growth'] > 10]\n",
    "        \n",
    "        if high_confidence_growth:\n",
    "            print(f\"   🎯 High Confidence Opportunities:\")\n",
    "            for item in high_confidence_growth[:3]:\n",
    "                sitc_code = commodities_df[commodities_df['Commodity_Description'] == item['commodity']]['SITC_Code'].iloc[0]\n",
    "                print(f\"      • SITC {sitc_code}: {item['predicted_growth']:+.0f}% growth potential\")\n",
    "        else:\n",
    "            print(f\"   ⚠️ Limited high-confidence opportunities - consider diversification\")\n",
    "    else:\n",
    "        print(\"   ⚠️ No valid predictions could be generated with current data\")\n",
    "    \n",
    "else:\n",
    "    print(\"❌ Commodities data not available for predictive modeling\")"
   ]
  },
  {
   "cell_type": "markdown",
   "id": "92b9a08f",
   "metadata": {},
   "source": [
    "## 6. Strategic Recommendations - Rwanda's Next Big Export Opportunity\n",
    "\n",
    "Based on our comprehensive analysis, let's synthesize the findings into actionable recommendations for Rwanda's export strategy."
   ]
  },
  {
   "cell_type": "code",
   "execution_count": 14,
   "id": "5ded9572",
   "metadata": {},
   "outputs": [
    {
     "name": "stdout",
     "output_type": "stream",
     "text": [
      "🎯 RWANDA'S NEXT BIG EXPORT OPPORTUNITY - STRATEGIC ANALYSIS\n",
      "================================================================================\n",
      "\n",
      "🏆 PRIMARY RECOMMENDATION: Animals and vegetable oils, fats & waxes\n",
      "   📊 Current Performance: $12.0M\n",
      "   📈 Growth Rate: 320.1% YoY\n",
      "   🎯 Opportunity Score: 66.0/100\n",
      "\n",
      "🚀 FASTEST GROWTH POTENTIAL: Beverages and tobacco...\n",
      "   📈 Predicted Growth: +770.9%\n",
      "   💰 Forecast Value Q1 2025: $0.7M\n",
      "\n",
      "🌍 GEOGRAPHIC OPPORTUNITY: Ethiopia\n",
      "   📈 Growth Rate: +7974%\n",
      "   💰 Current Value: $3.3M\n",
      "   🎯 Market Penetration Potential: HIGH\n",
      "\n",
      "================================================================================\n",
      "📋 COMPREHENSIVE EXPORT STRATEGY RECOMMENDATIONS\n",
      "================================================================================\n",
      "\n",
      "🎯 IMMEDIATE ACTIONS (Next 6-12 months):\n",
      "   1. PRODUCT FOCUS:\n",
      "      1. Expand Animals and vegetable oils, fats & waxes\n",
      "         • Target: +320% growth continuation\n",
      "         • Investment: Production capacity & quality\n",
      "      2. Expand Other commodities & transactions, n.e.s\n",
      "         • Target: +131% growth continuation\n",
      "         • Investment: Production capacity & quality\n",
      "      3. Expand Crude materials, inedible, except fuels\n",
      "         • Target: +24% growth continuation\n",
      "         • Investment: Production capacity & quality\n",
      "\n",
      "   2. MARKET DIVERSIFICATION:\n",
      "      • Ethiopia: Growing market (+7974%)\n",
      "      • Thailand: Growing market (+652%)\n",
      "      • Sweden: Growing market (+476%)\n",
      "\n",
      "🚀 MEDIUM-TERM STRATEGY (1-3 years):\n",
      "   1. VALUE ADDITION:\n",
      "      • Move from raw materials to processed goods\n",
      "      • Target SITC categories 5-8 (chemicals, manufactured goods)\n",
      "      • Develop youth and SME manufacturing capabilities\n",
      "\n",
      "   2. DIGITAL TRANSFORMATION:\n",
      "      • Implement AI-driven demand forecasting\n",
      "      • Create mobile export alert systems\n",
      "      • Develop digital trade platforms for SMEs\n",
      "\n",
      "   3. CAPACITY BUILDING:\n",
      "      • Youth entrepreneurship in high-growth sectors\n",
      "      • SME export financing programs\n",
      "      • Quality certification for international markets\n",
      "\n",
      "📊 POLICY RECOMMENDATIONS:\n",
      "   1. EXPORT INCENTIVES:\n",
      "      • Tax incentives for high-growth commodity sectors\n",
      "      • Export credit guarantees for SMEs\n",
      "      • Infrastructure investment in logistics\n",
      "\n",
      "   2. MARKET ACCESS:\n",
      "      • Bilateral trade agreements with emerging markets\n",
      "      • Trade missions to underexplored regions\n",
      "      • Digital trade facilitation platforms\n",
      "\n",
      "   3. YOUTH & SME ENGAGEMENT:\n",
      "      • Export entrepreneurship training programs\n",
      "      • Technology transfer initiatives\n",
      "      • Access to international market intelligence\n",
      "\n",
      "🎯 SUCCESS METRICS:\n",
      "   • Export diversification: Reduce top 3 market concentration below 60%\n",
      "   • Value addition: Increase processed goods share to 40%\n",
      "   • Youth engagement: 30% of new exporters under 35 years\n",
      "   • SME participation: 50% of exporters are SMEs\n",
      "   • Growth target: 25% annual export growth\n",
      "\n",
      "💡 INNOVATION OPPORTUNITIES:\n",
      "   • Blockchain for supply chain transparency\n",
      "   • IoT for agricultural export quality monitoring\n",
      "   • Mobile apps for real-time market prices\n",
      "   • AI-powered trade matching platforms\n"
     ]
    }
   ],
   "source": [
    "# Generate Strategic Export Recommendations\n",
    "print(\"🎯 RWANDA'S NEXT BIG EXPORT OPPORTUNITY - STRATEGIC ANALYSIS\")\n",
    "print(\"=\" * 80)\n",
    "\n",
    "# Compile all analysis results\n",
    "strategic_recommendations = []\n",
    "\n",
    "if 'opportunity_analysis' in locals():\n",
    "    top_opportunity = opportunity_analysis.iloc[0]\n",
    "    \n",
    "    print(f\"\\n🏆 PRIMARY RECOMMENDATION: {top_opportunity['Commodity_Description']}\")\n",
    "    print(f\"   📊 Current Performance: ${top_opportunity['Current_Value_2024Q3']:.1f}M\")\n",
    "    print(f\"   📈 Growth Rate: {top_opportunity['YoY_Growth']:.1f}% YoY\")\n",
    "    print(f\"   🎯 Opportunity Score: {top_opportunity['Opportunity_Score']:.1f}/100\")\n",
    "    \n",
    "    strategic_recommendations.append({\n",
    "        'sector': top_opportunity['Commodity_Description'],\n",
    "        'sitc_code': top_opportunity['SITC_Code'],\n",
    "        'rationale': 'Highest overall opportunity score combining growth, value, and stability',\n",
    "        'priority': 'HIGH'\n",
    "    })\n",
    "\n",
    "if 'growth_potential' in locals() and len(growth_potential) > 0:\n",
    "    ml_top_growth = growth_potential[0]\n",
    "    \n",
    "    print(f\"\\n🚀 FASTEST GROWTH POTENTIAL: {ml_top_growth['commodity'][:50]}...\")\n",
    "    print(f\"   📈 Predicted Growth: {ml_top_growth['predicted_growth']:+.1f}%\")\n",
    "    print(f\"   💰 Forecast Value Q1 2025: ${ml_top_growth['q1_2025_forecast']:.1f}M\")\n",
    "    \n",
    "    strategic_recommendations.append({\n",
    "        'sector': ml_top_growth['commodity'],\n",
    "        'sitc_code': 'Various',\n",
    "        'rationale': 'Highest predicted growth based on ML forecasting',\n",
    "        'priority': 'HIGH'\n",
    "    })\n",
    "\n",
    "if 'emerging_markets' in locals() and not emerging_markets.empty:\n",
    "    top_emerging = emerging_markets.iloc[0]\n",
    "    \n",
    "    print(f\"\\n🌍 GEOGRAPHIC OPPORTUNITY: {top_emerging['Country']}\")\n",
    "    print(f\"   📈 Growth Rate: +{top_emerging['Growth_Momentum']:.0f}%\")\n",
    "    print(f\"   💰 Current Value: ${top_emerging['2024Q3']:.1f}M\")\n",
    "    print(f\"   🎯 Market Penetration Potential: HIGH\")\n",
    "\n",
    "# Create comprehensive recommendation framework\n",
    "print(f\"\\n\" + \"=\"*80)\n",
    "print(f\"📋 COMPREHENSIVE EXPORT STRATEGY RECOMMENDATIONS\")\n",
    "print(f\"=\"*80)\n",
    "\n",
    "print(f\"\\n🎯 IMMEDIATE ACTIONS (Next 6-12 months):\")\n",
    "print(f\"   1. PRODUCT FOCUS:\")\n",
    "if 'opportunity_analysis' in locals():\n",
    "    for i, (_, opp) in enumerate(opportunity_analysis.head(3).iterrows(), 1):\n",
    "        print(f\"      {i}. Expand {opp['Commodity_Description']}\")\n",
    "        print(f\"         • Target: +{opp['YoY_Growth']:.0f}% growth continuation\")\n",
    "        print(f\"         • Investment: Production capacity & quality\")\n",
    "\n",
    "print(f\"\\n   2. MARKET DIVERSIFICATION:\")\n",
    "if 'countries_df' in locals():\n",
    "    # Find underexplored markets\n",
    "    potential_markets = countries_df[\n",
    "        (countries_df['2024Q3'] > 0) & \n",
    "        (countries_df['2024Q3'] < 10) & \n",
    "        (countries_df['Change_Q3_Q3_Percent'] > 0)\n",
    "    ].sort_values('Change_Q3_Q3_Percent', ascending=False)\n",
    "    \n",
    "    if not potential_markets.empty:\n",
    "        for _, market in potential_markets.head(3).iterrows():\n",
    "            print(f\"      • {market['Country']}: Growing market (+{market['Change_Q3_Q3_Percent']:.0f}%)\")\n",
    "\n",
    "print(f\"\\n🚀 MEDIUM-TERM STRATEGY (1-3 years):\")\n",
    "print(f\"   1. VALUE ADDITION:\")\n",
    "print(f\"      • Move from raw materials to processed goods\")\n",
    "print(f\"      • Target SITC categories 5-8 (chemicals, manufactured goods)\")\n",
    "print(f\"      • Develop youth and SME manufacturing capabilities\")\n",
    "\n",
    "print(f\"\\n   2. DIGITAL TRANSFORMATION:\")\n",
    "print(f\"      • Implement AI-driven demand forecasting\")\n",
    "print(f\"      • Create mobile export alert systems\")\n",
    "print(f\"      • Develop digital trade platforms for SMEs\")\n",
    "\n",
    "print(f\"\\n   3. CAPACITY BUILDING:\")\n",
    "print(f\"      • Youth entrepreneurship in high-growth sectors\")\n",
    "print(f\"      • SME export financing programs\")\n",
    "print(f\"      • Quality certification for international markets\")\n",
    "\n",
    "print(f\"\\n📊 POLICY RECOMMENDATIONS:\")\n",
    "print(f\"   1. EXPORT INCENTIVES:\")\n",
    "print(f\"      • Tax incentives for high-growth commodity sectors\")\n",
    "print(f\"      • Export credit guarantees for SMEs\")\n",
    "print(f\"      • Infrastructure investment in logistics\")\n",
    "\n",
    "print(f\"\\n   2. MARKET ACCESS:\")\n",
    "print(f\"      • Bilateral trade agreements with emerging markets\")\n",
    "print(f\"      • Trade missions to underexplored regions\")\n",
    "print(f\"      • Digital trade facilitation platforms\")\n",
    "\n",
    "print(f\"\\n   3. YOUTH & SME ENGAGEMENT:\")\n",
    "print(f\"      • Export entrepreneurship training programs\")\n",
    "print(f\"      • Technology transfer initiatives\")\n",
    "print(f\"      • Access to international market intelligence\")\n",
    "\n",
    "print(f\"\\n🎯 SUCCESS METRICS:\")\n",
    "print(f\"   • Export diversification: Reduce top 3 market concentration below 60%\")\n",
    "print(f\"   • Value addition: Increase processed goods share to 40%\")\n",
    "print(f\"   • Youth engagement: 30% of new exporters under 35 years\")\n",
    "print(f\"   • SME participation: 50% of exporters are SMEs\")\n",
    "print(f\"   • Growth target: 25% annual export growth\")\n",
    "\n",
    "print(f\"\\n💡 INNOVATION OPPORTUNITIES:\")\n",
    "print(f\"   • Blockchain for supply chain transparency\")\n",
    "print(f\"   • IoT for agricultural export quality monitoring\")\n",
    "print(f\"   • Mobile apps for real-time market prices\")\n",
    "print(f\"   • AI-powered trade matching platforms\")"
   ]
  },
  {
   "cell_type": "markdown",
   "id": "681cd9f9",
   "metadata": {},
   "source": [
    "## 7. Next Steps - Global Trade Data Integration\n",
    "\n",
    "For the next phase of your hackathon project, let's prepare to integrate global trade data to identify what products other countries are importing that Rwanda could potentially export."
   ]
  },
  {
   "cell_type": "code",
   "execution_count": 15,
   "id": "4e46f094",
   "metadata": {},
   "outputs": [
    {
     "name": "stdout",
     "output_type": "stream",
     "text": [
      "🌍 GLOBAL TRADE OPPORTUNITY FRAMEWORK\n",
      "============================================================\n",
      "\n",
      "📋 NEXT PHASE STRATEGY:\n",
      "   1. GLOBAL IMPORT DEMAND ANALYSIS\n",
      "   2. RWANDA EXPORT CAPABILITY MATCHING\n",
      "   3. COMPETITIVE ADVANTAGE IDENTIFICATION\n",
      "   4. MARKET ENTRY STRATEGY\n",
      "\n",
      "🎯 PRIORITY MARKETS FOR GLOBAL TRADE ANALYSIS:\n",
      "   • UAE: $446.5M (+120%) - MAINTAIN LEADERSHIP\n",
      "   • DRC: $62.1M (+41%) - REGIONAL HUB\n",
      "   • China: $22.7M (-3%) - VALUE ADDITION\n",
      "   • Luxembourg: $13.8M (+478%) - HIGH GROWTH\n",
      "   • Thailand: $6.4M (+652%) - EMERGING STAR\n",
      "\n",
      "📊 RECOMMENDED GLOBAL TRADE DATA SOURCES:\n",
      "   1. UN Comtrade Database (comtradeplus.un.org)\n",
      "   2. World Bank WITS (wits.worldbank.org)\n",
      "   3. ITC Market Analysis (marketanalysis.intracen.org)\n",
      "   4. OECD Trade Statistics\n",
      "   5. Regional databases (EAC, AU, etc.)\n",
      "\n",
      "🔍 KEY QUESTIONS FOR GLOBAL ANALYSIS:\n",
      "   1. What products do Rwanda's top export destinations import most?\n",
      "   2. Which products show growing global demand?\n",
      "   3. Where does Rwanda have competitive advantages?\n",
      "   4. What are the supply gaps in target markets?\n",
      "   5. Which sectors offer best youth/SME opportunities?\n",
      "\n",
      "✅ ANALYSIS CHECKLIST FOR GLOBAL DATA:\n",
      "   □ Download import data for top 10 destination countries\n",
      "   □ Identify product categories with highest import values\n",
      "   □ Match with Rwanda's production capabilities\n",
      "   □ Analyze competitive landscape\n",
      "   □ Identify supply chain requirements\n",
      "   □ Assess market entry barriers\n",
      "   □ Calculate potential market size\n",
      "   □ Develop go-to-market strategy\n",
      "\n",
      "🚀 EXPECTED OUTCOMES:\n",
      "   • Ranked list of export opportunities by market size\n",
      "   • Investment requirements for each opportunity\n",
      "   • Timeline for market entry\n",
      "   • Youth/SME engagement strategies\n",
      "   • Policy support recommendations\n",
      "\n",
      "💾 ANALYSIS RESULTS READY FOR GLOBAL INTEGRATION\n",
      "🎯 Total Current Exports: $653.9M\n",
      "📈 Ready for global opportunity matching!\n",
      "\n",
      "📝 Code template ready for next phase integration!\n",
      "🎉 Phase 1 Analysis Complete - Ready for Global Data!\n"
     ]
    }
   ],
   "source": [
    "# Prepare framework for global trade data analysis\n",
    "print(\"🌍 GLOBAL TRADE OPPORTUNITY FRAMEWORK\")\n",
    "print(\"=\" * 60)\n",
    "\n",
    "print(\"\\n📋 NEXT PHASE STRATEGY:\")\n",
    "print(\"   1. GLOBAL IMPORT DEMAND ANALYSIS\")\n",
    "print(\"   2. RWANDA EXPORT CAPABILITY MATCHING\") \n",
    "print(\"   3. COMPETITIVE ADVANTAGE IDENTIFICATION\")\n",
    "print(\"   4. MARKET ENTRY STRATEGY\")\n",
    "\n",
    "# Create target market analysis framework\n",
    "target_markets = {\n",
    "    'UAE': {'current_exports': 446.51, 'growth': 120.24, 'potential': 'MAINTAIN LEADERSHIP'},\n",
    "    'DRC': {'current_exports': 62.13, 'growth': 41.08, 'potential': 'REGIONAL HUB'},\n",
    "    'China': {'current_exports': 22.68, 'growth': -3.13, 'potential': 'VALUE ADDITION'},\n",
    "    'Luxembourg': {'current_exports': 13.77, 'growth': 477.70, 'potential': 'HIGH GROWTH'},\n",
    "    'Thailand': {'current_exports': 6.37, 'growth': 651.82, 'potential': 'EMERGING STAR'}\n",
    "}\n",
    "\n",
    "print(f\"\\n🎯 PRIORITY MARKETS FOR GLOBAL TRADE ANALYSIS:\")\n",
    "for market, data in target_markets.items():\n",
    "    print(f\"   • {market}: ${data['current_exports']:.1f}M ({data['growth']:+.0f}%) - {data['potential']}\")\n",
    "\n",
    "# Data sources to explore\n",
    "print(f\"\\n📊 RECOMMENDED GLOBAL TRADE DATA SOURCES:\")\n",
    "print(f\"   1. UN Comtrade Database (comtradeplus.un.org)\")\n",
    "print(f\"   2. World Bank WITS (wits.worldbank.org)\") \n",
    "print(f\"   3. ITC Market Analysis (marketanalysis.intracen.org)\")\n",
    "print(f\"   4. OECD Trade Statistics\")\n",
    "print(f\"   5. Regional databases (EAC, AU, etc.)\")\n",
    "\n",
    "# Key analysis questions for global data\n",
    "print(f\"\\n🔍 KEY QUESTIONS FOR GLOBAL ANALYSIS:\")\n",
    "print(f\"   1. What products do Rwanda's top export destinations import most?\")\n",
    "print(f\"   2. Which products show growing global demand?\")\n",
    "print(f\"   3. Where does Rwanda have competitive advantages?\")\n",
    "print(f\"   4. What are the supply gaps in target markets?\")\n",
    "print(f\"   5. Which sectors offer best youth/SME opportunities?\")\n",
    "\n",
    "# Create analysis checklist\n",
    "print(f\"\\n✅ ANALYSIS CHECKLIST FOR GLOBAL DATA:\")\n",
    "print(f\"   □ Download import data for top 10 destination countries\")\n",
    "print(f\"   □ Identify product categories with highest import values\")\n",
    "print(f\"   □ Match with Rwanda's production capabilities\")  \n",
    "print(f\"   □ Analyze competitive landscape\")\n",
    "print(f\"   □ Identify supply chain requirements\")\n",
    "print(f\"   □ Assess market entry barriers\")\n",
    "print(f\"   □ Calculate potential market size\")\n",
    "print(f\"   □ Develop go-to-market strategy\")\n",
    "\n",
    "print(f\"\\n🚀 EXPECTED OUTCOMES:\")\n",
    "print(f\"   • Ranked list of export opportunities by market size\")\n",
    "print(f\"   • Investment requirements for each opportunity\")\n",
    "print(f\"   • Timeline for market entry\")\n",
    "print(f\"   • Youth/SME engagement strategies\")\n",
    "print(f\"   • Policy support recommendations\")\n",
    "\n",
    "# Save current analysis results\n",
    "results_summary = {\n",
    "    'total_exports_q3_2024': datasets.get('commodities', pd.DataFrame()).get('2024Q3', pd.Series()).sum() if 'commodities' in datasets else 0,\n",
    "    'top_destinations': ['UAE', 'DRC', 'China'] if 'countries' in datasets else [],\n",
    "    'fastest_growing_commodities': [],\n",
    "    'analysis_date': '2025-09-30',\n",
    "    'next_phase': 'Global Trade Integration'\n",
    "}\n",
    "\n",
    "print(f\"\\n💾 ANALYSIS RESULTS READY FOR GLOBAL INTEGRATION\")\n",
    "print(f\"🎯 Total Current Exports: ${results_summary['total_exports_q3_2024']:.1f}M\")\n",
    "print(f\"📈 Ready for global opportunity matching!\")\n",
    "\n",
    "# Template for global data integration\n",
    "template_code = '''\n",
    "# TEMPLATE FOR GLOBAL TRADE DATA INTEGRATION\n",
    "# \n",
    "# 1. Load global import data\n",
    "# global_imports = pd.read_csv('global_import_data.csv')\n",
    "# \n",
    "# 2. Match with Rwanda capabilities  \n",
    "# opportunities = match_imports_with_rwanda_capacity(global_imports, rwanda_exports)\n",
    "#\n",
    "# 3. Rank opportunities\n",
    "# ranked_opportunities = rank_by_market_size_and_feasibility(opportunities)\n",
    "#\n",
    "# 4. Generate recommendations\n",
    "# final_recommendations = create_actionable_strategy(ranked_opportunities)\n",
    "'''\n",
    "\n",
    "print(f\"\\n📝 Code template ready for next phase integration!\")\n",
    "print(f\"🎉 Phase 1 Analysis Complete - Ready for Global Data!\")"
   ]
  }
 ],
 "metadata": {
  "kernelspec": {
   "display_name": "base",
   "language": "python",
   "name": "python3"
  },
  "language_info": {
   "codemirror_mode": {
    "name": "ipython",
    "version": 3
   },
   "file_extension": ".py",
   "mimetype": "text/x-python",
   "name": "python",
   "nbconvert_exporter": "python",
   "pygments_lexer": "ipython3",
   "version": "3.13.5"
  }
 },
 "nbformat": 4,
 "nbformat_minor": 5
}
