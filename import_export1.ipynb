{
  "cells": [
    {
      "cell_type": "markdown",
      "id": "60fd2b4a",
      "metadata": {
        "id": "60fd2b4a"
      },
      "source": [
        "# Rwanda Export Opportunity Analysis - NISR Hackathon 2025\n",
        "\n",
        "**Authors:** Orpheus Mhizha Manga & Antony Wambugu\n",
        "\n",
        "## Project Objective: Identify Rwanda's Next Big Export Opportunity\n",
        "\n",
        "### Analysis Framework:\n",
        "1. **Current Export Performance Analysis** - Understand existing strengths\n",
        "2. **Market Trends & Patterns** - Identify growth opportunities  \n",
        "3. **Commodity Deep Dive** - Analyze product performance by quarter\n",
        "4. **Geographic Market Analysis** - Find emerging destinations\n",
        "5. **Predictive Modeling** - Forecast future demand\n",
        "6. **Opportunity Identification** - Recommend next big export sectors\n",
        "7. **Policy Recommendations** - Strategic export promotion\n",
        "\n",
        "### Key Questions to Answer:\n",
        "- What are Rwanda's fastest-growing export commodities?\n",
        "- Which markets show the highest growth potential?\n",
        "- What seasonal patterns exist in Rwanda's exports?\n",
        "- Which products have the best growth trajectory?\n",
        "- What opportunities exist for youth and SME engagement?"
      ]
    },
    {
      "cell_type": "code",
      "execution_count": 34,
      "id": "322e3e19",
      "metadata": {
        "id": "322e3e19",
        "outputId": "4a3d3d17-805e-4ca8-ac40-47636c4c851d"
      },
      "outputs": [
        {
          "name": "stdout",
          "output_type": "stream",
          "text": [
            "✅ Libraries imported successfully!\n",
            " Ready to analyze Rwanda's export opportunities!\n"
          ]
        }
      ],
      "source": [
        "# Import Required Libraries for Analysis\n",
        "import pandas as pd\n",
        "import numpy as np\n",
        "import matplotlib.pyplot as plt\n",
        "import seaborn as sns\n",
        "import plotly.express as px\n",
        "import plotly.graph_objects as go\n",
        "from plotly.subplots import make_subplots\n",
        "import warnings\n",
        "warnings.filterwarnings('ignore')\n",
        "\n",
        "# Set visualization style\n",
        "plt.style.use('seaborn-v0_8')\n",
        "sns.set_palette(\"husl\")\n",
        "\n",
        "# Configure pandas display\n",
        "pd.set_option('display.max_columns', None)\n",
        "pd.set_option('display.float_format', '{:.2f}'.format)\n",
        "\n",
        "print(\"✅ Libraries imported successfully!\")\n",
        "print(\" Ready to analyze Rwanda's export opportunities!\")"
      ]
    },
    {
      "cell_type": "markdown",
      "id": "dbe186d0",
      "metadata": {
        "id": "dbe186d0"
      },
      "source": [
        "## 1. Data Loading & Initial Exploration\n",
        "\n",
        "Let's load all our cleaned datasets and explore the current export landscape."
      ]
    },
    {
      "cell_type": "code",
      "execution_count": 35,
      "id": "adb1a66f",
      "metadata": {
        "id": "adb1a66f",
        "outputId": "97f33233-2bfd-46c5-a60d-daa9451a2d0d"
      },
      "outputs": [
        {
          "name": "stdout",
          "output_type": "stream",
          "text": [
            "✅ Export by Country data loaded\n",
            "✅ Export Commodities data loaded\n",
            "✅ Re-export Commodities data loaded\n",
            "✅ Regional Blocks data loaded\n",
            "✅ Continental Trade data loaded\n",
            "✅ Total Trade data loaded\n",
            "\n",
            "📊 Successfully loaded 6 datasets\n",
            "Ready to analyze Rwanda's export performance!\n",
            "✅ Total Trade data loaded\n",
            "\n",
            "📊 Successfully loaded 6 datasets\n",
            "Ready to analyze Rwanda's export performance!\n"
          ]
        }
      ],
      "source": [
        "# Load all analysis-ready datasets\n",
        "datasets = {}\n",
        "\n",
        "# Load export data\n",
        "try:\n",
        "    datasets['countries'] = pd.read_csv('data/raw/2024Q3_ExportCountry.csv')\n",
        "    print(\"✅ Export by Country data loaded\")\n",
        "except:\n",
        "    print(\"❌ Export by Country data not found\")\n",
        "\n",
        "try:\n",
        "    datasets['commodities'] = pd.read_csv('data/raw/2024Q3_ExportsCommodity.csv')\n",
        "    print(\"✅ Export Commodities data loaded\")\n",
        "except:\n",
        "    print(\"❌ Export Commodities data not found\")\n",
        "\n",
        "try:\n",
        "    datasets['reexports'] = pd.read_csv('data/raw/2024Q3_ReexportsCommodity.csv')\n",
        "    print(\"✅ Re-export Commodities data loaded\")\n",
        "except:\n",
        "    print(\"❌ Re-export Commodities data not found\")\n",
        "\n",
        "try:\n",
        "    datasets['regional'] = pd.read_csv('data/raw/2024Q3_Regional blocks.csv')\n",
        "    print(\"✅ Regional Blocks data loaded\")\n",
        "except:\n",
        "    print(\"❌ Regional Blocks data not found\")\n",
        "\n",
        "try:\n",
        "    datasets['continents'] = pd.read_csv('data/raw/2024Q3_Trade by continents.csv')\n",
        "    print(\"✅ Continental Trade data loaded\")\n",
        "except:\n",
        "    print(\"❌ Continental Trade data not found\")\n",
        "\n",
        "try:\n",
        "    datasets['total_trade'] = pd.read_csv('data/processed/analysis_ready_total_trade_world_updated.csv')\n",
        "    print(\"✅ Total Trade data loaded\")\n",
        "except:\n",
        "    print(\"❌ Total Trade data not found\")\n",
        "\n",
        "print(f\"\\n📊 Successfully loaded {len(datasets)} datasets\")\n",
        "print(\"Ready to analyze Rwanda's export performance!\")"
      ]
    },
    {
      "cell_type": "markdown",
      "id": "55a510d4",
      "metadata": {
        "id": "55a510d4"
      },
      "source": [
        "## 📊 Current Export Performance Overview\n",
        "\n",
        "This section provides a snapshot of Rwanda's current export performance using Q3 2024 data. We analyze:\n",
        "- Top export commodities by value and market share\n",
        "- Year-over-year growth trends to identify momentum\n",
        "- Key performance indicators for strategic planning\n"
      ]
    },
    {
      "cell_type": "code",
      "execution_count": 36,
      "id": "8997d8fb",
      "metadata": {
        "id": "8997d8fb",
        "outputId": "9180f6b8-6fd8-4e3b-cc6d-21f2c8c246dd"
      },
      "outputs": [
        {
          "name": "stdout",
          "output_type": "stream",
          "text": [
            " RWANDA'S CURRENT EXPORT LANDSCAPE (Q3 2024)\n",
            "============================================================\n",
            "\n",
            " TOP EXPORT COMMODITIES (Q3 2024):\n",
            "   9. Other commodities & transactions, n.e.s...\n",
            "      Value: $434.8M | Share: 66.5%\n",
            "   0. Food and live animals...\n",
            "      Value: $86.2M | Share: 13.2%\n",
            "   2. Crude materials, inedible, except fuels...\n",
            "      Value: $67.9M | Share: 10.4%\n",
            "   6. Manufactured goods classified chiefly by material...\n",
            "      Value: $30.7M | Share: 4.7%\n",
            "   4. Animals and vegetable oils, fats & waxes...\n",
            "      Value: $12.0M | Share: 1.8%\n",
            "\n",
            "📈 GROWTH ANALYSIS:\n",
            "   Fastest Growing (YoY):\n",
            "      • Animals and vegetable oils, fats & waxes... (+320.1%)\n",
            "      • Other commodities & transactions, n.e.s... (+131.2%)\n",
            "      • Machinery and transport equipment... (+127.5%)\n",
            "\n",
            " Total Exports Q3 2024: \u001b[91m$653.9 Million\u001b[0m\n",
            "\n",
            "🌍 TOP EXPORT DESTINATIONS (Q3 2024):\n",
            "   1. United Arab Emirates: $446.5M (68.3%)\n",
            "   2. Congo, The Democratic Republic Of: $62.1M (9.5%)\n",
            "   3. China: $22.7M (3.5%)\n",
            "\n",
            "🌍 TOP EXPORT DESTINATIONS (Q3 2024):\n",
            "   1. United Arab Emirates: $446.5M (68.3%)\n",
            "   2. Congo, The Democratic Republic Of: $62.1M (9.5%)\n",
            "   3. China: $22.7M (3.5%)\n"
          ]
        }
      ],
      "source": [
        "# Quick overview of current export performance\n",
        "if 'commodities' in datasets:\n",
        "    print(\" RWANDA'S CURRENT EXPORT LANDSCAPE (Q3 2024)\")\n",
        "    print(\"=\" * 60)\n",
        "\n",
        "    # Get Q3 2024 commodity exports\n",
        "    commodities_df = datasets['commodities'].copy()\n",
        "\n",
        "    # Display current export composition\n",
        "    print(\"\\n TOP EXPORT COMMODITIES (Q3 2024):\")\n",
        "    top_commodities = commodities_df.nlargest(5, '2024Q3')[['Commodity_Description', '2024Q3', 'Share_Percent_Q3']]\n",
        "    for idx, row in top_commodities.iterrows():\n",
        "        print(f\"   {idx}. {row['Commodity_Description'][:50]}...\")\n",
        "        print(f\"      Value: ${row['2024Q3']:.1f}M | Share: {row['Share_Percent_Q3']:.1f}%\")\n",
        "\n",
        "    # Growth analysis\n",
        "    print(f\"\\n📈 GROWTH ANALYSIS:\")\n",
        "    fastest_growing = commodities_df.nlargest(3, 'Change_Q3_Q3_Percent')[['Commodity_Description', 'Change_Q3_Q3_Percent']]\n",
        "    print(\"   Fastest Growing (YoY):\")\n",
        "    for idx, row in fastest_growing.iterrows():\n",
        "        print(f\"      • {row['Commodity_Description'][:40]}... (+{row['Change_Q3_Q3_Percent']:.1f}%)\")\n",
        "\n",
        "    # Total exports\n",
        "    total_exports = commodities_df['2024Q3'].sum()\n",
        "    print(f\"\\n Total Exports Q3 2024: \\033[91m${total_exports:.1f} Million\\033[0m\")\n",
        "\n",
        "if 'countries' in datasets:\n",
        "    countries_df = datasets['countries'].copy()\n",
        "    print(f\"\\n🌍 TOP EXPORT DESTINATIONS (Q3 2024):\")\n",
        "    top_destinations = countries_df.nlargest(3, '2024Q3')[['Country', '2024Q3', 'Share_Percent_Q3']]\n",
        "    for idx, row in top_destinations.iterrows():\n",
        "        print(f\"   {idx+1}. {row['Country']}: ${row['2024Q3']:.1f}M ({row['Share_Percent_Q3']:.1f}%)\")\n",
        "else:\n",
        "    print(\"⚠️ Export commodities data not available for overview\")"
      ]
    },
    {
      "cell_type": "markdown",
      "id": "703d5868",
      "metadata": {
        "id": "703d5868"
      },
      "source": [
        "## 2. Quarterly Trends Analysis - Identifying Export Patterns\n",
        "\n",
        "Let's analyze the quarterly performance to understand seasonal patterns and growth trends in Rwanda's exports."
      ]
    },
    {
      "cell_type": "code",
      "execution_count": 37,
      "id": "384952cd",
      "metadata": {
        "id": "384952cd",
        "outputId": "fd0307b9-d2a9-493a-a4fd-a3e0be27c04c"
      },
      "outputs": [
        {
          "name": "stdout",
          "output_type": "stream",
          "text": [
            "✅ Data prepared for quarterly trend analysis\n",
            "📊 Analyzing 11 quarters of data\n",
            "📦 Tracking 11 commodity categories\n",
            "\n",
            "💰 TOTAL EXPORTS BY QUARTER:\n",
            "   2022Q1: $296.6M\n",
            "   2022Q2: $331.6M\n",
            "   2022Q3: $342.6M\n",
            "   2022Q4: $373.5M\n",
            "   2023Q1: $423.9M\n",
            "   2023Q2: $484.6M\n",
            "   2023Q3: $367.6M\n",
            "   2023Q4: $400.1M\n",
            "   2024Q1: $438.8M\n",
            "   2024Q2: $541.0M\n",
            "   2024Q3: $653.9M\n"
          ]
        }
      ],
      "source": [
        "# Prepare data for quarterly trend analysis\n",
        "if 'commodities' in datasets:\n",
        "    # Create a comprehensive quarterly analysis\n",
        "    commodities_df = datasets['commodities'].copy()\n",
        "\n",
        "    # Melt the data for time series analysis\n",
        "    quarter_cols = ['2022Q1', '2022Q2', '2022Q3', '2022Q4', '2023Q1', '2023Q2', '2023Q3', '2023Q4', '2024Q1', '2024Q2', '2024Q3']\n",
        "\n",
        "    # Reshape data for plotting\n",
        "    melted_data = pd.melt(commodities_df,\n",
        "                         id_vars=['SITC_Code', 'Commodity_Description'],\n",
        "                         value_vars=quarter_cols,\n",
        "                         var_name='Quarter',\n",
        "                         value_name='Export_Value')\n",
        "\n",
        "    # Create quarter datetime for proper sorting - fix the format issue\n",
        "    def parse_quarter(quarter_str):\n",
        "        year = int(quarter_str[:4])\n",
        "        q = int(quarter_str[5])\n",
        "        month = (q - 1) * 3 + 1\n",
        "        return pd.Timestamp(year=year, month=month, day=1)\n",
        "\n",
        "    melted_data['Quarter_Date'] = melted_data['Quarter'].apply(parse_quarter)\n",
        "    melted_data = melted_data.sort_values('Quarter_Date')\n",
        "\n",
        "    # Calculate total exports by quarter\n",
        "    total_by_quarter = melted_data.groupby('Quarter')['Export_Value'].sum().reset_index()\n",
        "\n",
        "    print(\"✅ Data prepared for quarterly trend analysis\")\n",
        "    print(f\"📊 Analyzing {len(quarter_cols)} quarters of data\")\n",
        "    print(f\"📦 Tracking {len(commodities_df)} commodity categories\")\n",
        "\n",
        "    # Display quarterly totals\n",
        "    print(\"\\n💰 TOTAL EXPORTS BY QUARTER:\")\n",
        "    for idx, row in total_by_quarter.iterrows():\n",
        "        print(f\"   {row['Quarter']}: ${row['Export_Value']:.1f}M\")\n",
        "else:\n",
        "    print(\"❌ Commodities data not available for trend analysis\")"
      ]
    },
    {
      "cell_type": "code",
      "execution_count": 38,
      "id": "17149273",
      "metadata": {
        "id": "17149273",
        "outputId": "d29f07d3-e7fd-427e-d800-795e9d4e814f"
      },
      "outputs": [
        {
          "data": {
            "application/vnd.plotly.v1+json": {
              "config": {
                "plotlyServerURL": "https://plot.ly"
              },
              "data": [
                {
                  "line": {
                    "color": "#1f77b4",
                    "width": 3
                  },
                  "mode": "lines+markers",
                  "name": "Total Exports",
                  "type": "scatter",
                  "x": [
                    "2022Q1",
                    "2022Q2",
                    "2022Q3",
                    "2022Q4",
                    "2023Q1",
                    "2023Q2",
                    "2023Q3",
                    "2023Q4",
                    "2024Q1",
                    "2024Q2",
                    "2024Q3"
                  ],
                  "xaxis": "x",
                  "y": {
                    "bdata": "4XoUrkeJckDNzMzMzLh0QIXrUbgeaXVAcT0K16NYd0BSuB6F6316QArXo3A9Sn5A4XoUrkf5dkDNzMzMzAB5QAAAAAAAbHtAUrgehevngEB7FK5H4W6EQA==",
                    "dtype": "f8"
                  },
                  "yaxis": "y"
                },
                {
                  "line": {
                    "color": "rgb(228,26,28)"
                  },
                  "mode": "lines+markers",
                  "name": "Other commodities & transactio...",
                  "type": "scatter",
                  "x": [
                    "2022Q1",
                    "2022Q2",
                    "2022Q3",
                    "2022Q4",
                    "2023Q1",
                    "2023Q2",
                    "2023Q3",
                    "2023Q4",
                    "2024Q1",
                    "2024Q2",
                    "2024Q3"
                  ],
                  "xaxis": "x2",
                  "y": {
                    "bdata": "AAAAAAAgXUCuR+F6FAZkQOxRuB6FE2JAZmZmZmbOYEApXI/C9chnQNejcD0K63JAuB6F61GAZ0CkcD0K11NpQKRwPQrXq29AmpmZmZntdUAUrkfheix7QA==",
                    "dtype": "f8"
                  },
                  "yaxis": "y2"
                },
                {
                  "line": {
                    "color": "rgb(55,126,184)"
                  },
                  "mode": "lines+markers",
                  "name": "Food and live animals...",
                  "type": "scatter",
                  "x": [
                    "2022Q1",
                    "2022Q2",
                    "2022Q3",
                    "2022Q4",
                    "2023Q1",
                    "2023Q2",
                    "2023Q3",
                    "2023Q4",
                    "2024Q1",
                    "2024Q2",
                    "2024Q3"
                  ],
                  "xaxis": "x2",
                  "y": {
                    "bdata": "UrgeheuhUkDXo3A9CldRQD0K16Nw7VdAzczMzMz0YEAzMzMzMwNgQHE9CtejkFJAZmZmZmYGU0CkcD0K1/NZQClcj8L1eFRACtejcD1aU0AfhetRuI5VQA==",
                    "dtype": "f8"
                  },
                  "yaxis": "y2"
                },
                {
                  "line": {
                    "color": "rgb(77,175,74)"
                  },
                  "mode": "lines+markers",
                  "name": "Crude materials, inedible, exc...",
                  "type": "scatter",
                  "x": [
                    "2022Q1",
                    "2022Q2",
                    "2022Q3",
                    "2022Q4",
                    "2023Q1",
                    "2023Q2",
                    "2023Q3",
                    "2023Q4",
                    "2024Q1",
                    "2024Q2",
                    "2024Q3"
                  ],
                  "xaxis": "x2",
                  "y": {
                    "bdata": "9ihcj8J1SUApXI/C9QhNQOxRuB6F60hAmpmZmZl5S0DXo3A9CtdNQK5H4XoUbk1AexSuR+F6S0C4HoXrUZhJQIXrUbgeRUxAcT0K16MwTEAK16NwPfpQQA==",
                    "dtype": "f8"
                  },
                  "yaxis": "y2"
                },
                {
                  "line": {
                    "color": "rgb(152,78,163)"
                  },
                  "mode": "lines+markers",
                  "name": "Manufactured goods classified ...",
                  "type": "scatter",
                  "x": [
                    "2022Q1",
                    "2022Q2",
                    "2022Q3",
                    "2022Q4",
                    "2023Q1",
                    "2023Q2",
                    "2023Q3",
                    "2023Q4",
                    "2024Q1",
                    "2024Q2",
                    "2024Q3"
                  ],
                  "xaxis": "x2",
                  "y": {
                    "bdata": "XI/C9SjcOUBSuB6F6xE8QBSuR+F6FEFArkfhehSuOkCF61G4HoU9QMP1KFyPwjxAXI/C9SicPEDsUbgehes4QEjhehSuhztArkfhehSuQUA9CtejcL0+QA==",
                    "dtype": "f8"
                  },
                  "yaxis": "y2"
                },
                {
                  "line": {
                    "color": "rgb(255,127,0)"
                  },
                  "mode": "lines+markers",
                  "name": "Animals and vegetable oils, fa...",
                  "type": "scatter",
                  "x": [
                    "2022Q1",
                    "2022Q2",
                    "2022Q3",
                    "2022Q4",
                    "2023Q1",
                    "2023Q2",
                    "2023Q3",
                    "2023Q4",
                    "2024Q1",
                    "2024Q2",
                    "2024Q3"
                  ],
                  "xaxis": "x2",
                  "y": {
                    "bdata": "zczMzMzM7D/sUbgehevhP8P1KFyPwgNArkfhehSuA0AK16NwPQrnP0jhehSuRwNA9ihcj8L1BkDD9Shcj8LxPx+F61G4HgdAPQrXo3A9EkAUrkfhehQoQA==",
                    "dtype": "f8"
                  },
                  "yaxis": "y2"
                },
                {
                  "marker": {
                    "color": "green"
                  },
                  "name": "QoQ Growth %",
                  "type": "bar",
                  "x": [
                    "2022Q2",
                    "2022Q3",
                    "2022Q4",
                    "2023Q1",
                    "2023Q2",
                    "2023Q3",
                    "2023Q4",
                    "2024Q1",
                    "2024Q2",
                    "2024Q3"
                  ],
                  "xaxis": "x3",
                  "y": {
                    "bdata": "qZ4MGQmVJ0BWVPEjG5cKQMqyX9q6FCJAEJ/CxZTyKkBcOafIg6wsQPTYlUdtJzjA5lRWHrqqIUDW2Mca+1gjQNh0Tdd0TTdAjbjdAxXdNEA=",
                    "dtype": "f8"
                  },
                  "yaxis": "y3"
                },
                {
                  "marker": {
                    "color": "orange"
                  },
                  "name": "Avg by Quarter",
                  "type": "bar",
                  "x": [
                    "Q1",
                    "Q2",
                    "Q3",
                    "Q4"
                  ],
                  "xaxis": "x4",
                  "y": {
                    "bdata": "UrgehetRQ0AywYN5op5GQLKd76fGu0ZA5tAi2/lWQ0A=",
                    "dtype": "f8"
                  },
                  "yaxis": "y5"
                }
              ],
              "layout": {
                "annotations": [
                  {
                    "font": {
                      "size": 16
                    },
                    "showarrow": false,
                    "text": "Total Export Trends",
                    "x": 0.185,
                    "xanchor": "center",
                    "xref": "paper",
                    "y": 1,
                    "yanchor": "bottom",
                    "yref": "paper"
                  },
                  {
                    "font": {
                      "size": 16
                    },
                    "showarrow": false,
                    "text": "Top Commodities Quarterly Performance",
                    "x": 0.7550000000000001,
                    "xanchor": "center",
                    "xref": "paper",
                    "y": 1,
                    "yanchor": "bottom",
                    "yref": "paper"
                  },
                  {
                    "font": {
                      "size": 16
                    },
                    "showarrow": false,
                    "text": "Growth Rate Analysis",
                    "x": 0.185,
                    "xanchor": "center",
                    "xref": "paper",
                    "y": 0.375,
                    "yanchor": "bottom",
                    "yref": "paper"
                  },
                  {
                    "font": {
                      "size": 16
                    },
                    "showarrow": false,
                    "text": "Seasonal Patterns",
                    "x": 0.7550000000000001,
                    "xanchor": "center",
                    "xref": "paper",
                    "y": 0.375,
                    "yanchor": "bottom",
                    "yref": "paper"
                  }
                ],
                "height": 800,
                "showlegend": true,
                "template": {
                  "data": {
                    "bar": [
                      {
                        "error_x": {
                          "color": "#2a3f5f"
                        },
                        "error_y": {
                          "color": "#2a3f5f"
                        },
                        "marker": {
                          "line": {
                            "color": "#E5ECF6",
                            "width": 0.5
                          },
                          "pattern": {
                            "fillmode": "overlay",
                            "size": 10,
                            "solidity": 0.2
                          }
                        },
                        "type": "bar"
                      }
                    ],
                    "barpolar": [
                      {
                        "marker": {
                          "line": {
                            "color": "#E5ECF6",
                            "width": 0.5
                          },
                          "pattern": {
                            "fillmode": "overlay",
                            "size": 10,
                            "solidity": 0.2
                          }
                        },
                        "type": "barpolar"
                      }
                    ],
                    "carpet": [
                      {
                        "aaxis": {
                          "endlinecolor": "#2a3f5f",
                          "gridcolor": "white",
                          "linecolor": "white",
                          "minorgridcolor": "white",
                          "startlinecolor": "#2a3f5f"
                        },
                        "baxis": {
                          "endlinecolor": "#2a3f5f",
                          "gridcolor": "white",
                          "linecolor": "white",
                          "minorgridcolor": "white",
                          "startlinecolor": "#2a3f5f"
                        },
                        "type": "carpet"
                      }
                    ],
                    "choropleth": [
                      {
                        "colorbar": {
                          "outlinewidth": 0,
                          "ticks": ""
                        },
                        "type": "choropleth"
                      }
                    ],
                    "contour": [
                      {
                        "colorbar": {
                          "outlinewidth": 0,
                          "ticks": ""
                        },
                        "colorscale": [
                          [
                            0,
                            "#0d0887"
                          ],
                          [
                            0.1111111111111111,
                            "#46039f"
                          ],
                          [
                            0.2222222222222222,
                            "#7201a8"
                          ],
                          [
                            0.3333333333333333,
                            "#9c179e"
                          ],
                          [
                            0.4444444444444444,
                            "#bd3786"
                          ],
                          [
                            0.5555555555555556,
                            "#d8576b"
                          ],
                          [
                            0.6666666666666666,
                            "#ed7953"
                          ],
                          [
                            0.7777777777777778,
                            "#fb9f3a"
                          ],
                          [
                            0.8888888888888888,
                            "#fdca26"
                          ],
                          [
                            1,
                            "#f0f921"
                          ]
                        ],
                        "type": "contour"
                      }
                    ],
                    "contourcarpet": [
                      {
                        "colorbar": {
                          "outlinewidth": 0,
                          "ticks": ""
                        },
                        "type": "contourcarpet"
                      }
                    ],
                    "heatmap": [
                      {
                        "colorbar": {
                          "outlinewidth": 0,
                          "ticks": ""
                        },
                        "colorscale": [
                          [
                            0,
                            "#0d0887"
                          ],
                          [
                            0.1111111111111111,
                            "#46039f"
                          ],
                          [
                            0.2222222222222222,
                            "#7201a8"
                          ],
                          [
                            0.3333333333333333,
                            "#9c179e"
                          ],
                          [
                            0.4444444444444444,
                            "#bd3786"
                          ],
                          [
                            0.5555555555555556,
                            "#d8576b"
                          ],
                          [
                            0.6666666666666666,
                            "#ed7953"
                          ],
                          [
                            0.7777777777777778,
                            "#fb9f3a"
                          ],
                          [
                            0.8888888888888888,
                            "#fdca26"
                          ],
                          [
                            1,
                            "#f0f921"
                          ]
                        ],
                        "type": "heatmap"
                      }
                    ],
                    "histogram": [
                      {
                        "marker": {
                          "pattern": {
                            "fillmode": "overlay",
                            "size": 10,
                            "solidity": 0.2
                          }
                        },
                        "type": "histogram"
                      }
                    ],
                    "histogram2d": [
                      {
                        "colorbar": {
                          "outlinewidth": 0,
                          "ticks": ""
                        },
                        "colorscale": [
                          [
                            0,
                            "#0d0887"
                          ],
                          [
                            0.1111111111111111,
                            "#46039f"
                          ],
                          [
                            0.2222222222222222,
                            "#7201a8"
                          ],
                          [
                            0.3333333333333333,
                            "#9c179e"
                          ],
                          [
                            0.4444444444444444,
                            "#bd3786"
                          ],
                          [
                            0.5555555555555556,
                            "#d8576b"
                          ],
                          [
                            0.6666666666666666,
                            "#ed7953"
                          ],
                          [
                            0.7777777777777778,
                            "#fb9f3a"
                          ],
                          [
                            0.8888888888888888,
                            "#fdca26"
                          ],
                          [
                            1,
                            "#f0f921"
                          ]
                        ],
                        "type": "histogram2d"
                      }
                    ],
                    "histogram2dcontour": [
                      {
                        "colorbar": {
                          "outlinewidth": 0,
                          "ticks": ""
                        },
                        "colorscale": [
                          [
                            0,
                            "#0d0887"
                          ],
                          [
                            0.1111111111111111,
                            "#46039f"
                          ],
                          [
                            0.2222222222222222,
                            "#7201a8"
                          ],
                          [
                            0.3333333333333333,
                            "#9c179e"
                          ],
                          [
                            0.4444444444444444,
                            "#bd3786"
                          ],
                          [
                            0.5555555555555556,
                            "#d8576b"
                          ],
                          [
                            0.6666666666666666,
                            "#ed7953"
                          ],
                          [
                            0.7777777777777778,
                            "#fb9f3a"
                          ],
                          [
                            0.8888888888888888,
                            "#fdca26"
                          ],
                          [
                            1,
                            "#f0f921"
                          ]
                        ],
                        "type": "histogram2dcontour"
                      }
                    ],
                    "mesh3d": [
                      {
                        "colorbar": {
                          "outlinewidth": 0,
                          "ticks": ""
                        },
                        "type": "mesh3d"
                      }
                    ],
                    "parcoords": [
                      {
                        "line": {
                          "colorbar": {
                            "outlinewidth": 0,
                            "ticks": ""
                          }
                        },
                        "type": "parcoords"
                      }
                    ],
                    "pie": [
                      {
                        "automargin": true,
                        "type": "pie"
                      }
                    ],
                    "scatter": [
                      {
                        "fillpattern": {
                          "fillmode": "overlay",
                          "size": 10,
                          "solidity": 0.2
                        },
                        "type": "scatter"
                      }
                    ],
                    "scatter3d": [
                      {
                        "line": {
                          "colorbar": {
                            "outlinewidth": 0,
                            "ticks": ""
                          }
                        },
                        "marker": {
                          "colorbar": {
                            "outlinewidth": 0,
                            "ticks": ""
                          }
                        },
                        "type": "scatter3d"
                      }
                    ],
                    "scattercarpet": [
                      {
                        "marker": {
                          "colorbar": {
                            "outlinewidth": 0,
                            "ticks": ""
                          }
                        },
                        "type": "scattercarpet"
                      }
                    ],
                    "scattergeo": [
                      {
                        "marker": {
                          "colorbar": {
                            "outlinewidth": 0,
                            "ticks": ""
                          }
                        },
                        "type": "scattergeo"
                      }
                    ],
                    "scattergl": [
                      {
                        "marker": {
                          "colorbar": {
                            "outlinewidth": 0,
                            "ticks": ""
                          }
                        },
                        "type": "scattergl"
                      }
                    ],
                    "scattermap": [
                      {
                        "marker": {
                          "colorbar": {
                            "outlinewidth": 0,
                            "ticks": ""
                          }
                        },
                        "type": "scattermap"
                      }
                    ],
                    "scattermapbox": [
                      {
                        "marker": {
                          "colorbar": {
                            "outlinewidth": 0,
                            "ticks": ""
                          }
                        },
                        "type": "scattermapbox"
                      }
                    ],
                    "scatterpolar": [
                      {
                        "marker": {
                          "colorbar": {
                            "outlinewidth": 0,
                            "ticks": ""
                          }
                        },
                        "type": "scatterpolar"
                      }
                    ],
                    "scatterpolargl": [
                      {
                        "marker": {
                          "colorbar": {
                            "outlinewidth": 0,
                            "ticks": ""
                          }
                        },
                        "type": "scatterpolargl"
                      }
                    ],
                    "scatterternary": [
                      {
                        "marker": {
                          "colorbar": {
                            "outlinewidth": 0,
                            "ticks": ""
                          }
                        },
                        "type": "scatterternary"
                      }
                    ],
                    "surface": [
                      {
                        "colorbar": {
                          "outlinewidth": 0,
                          "ticks": ""
                        },
                        "colorscale": [
                          [
                            0,
                            "#0d0887"
                          ],
                          [
                            0.1111111111111111,
                            "#46039f"
                          ],
                          [
                            0.2222222222222222,
                            "#7201a8"
                          ],
                          [
                            0.3333333333333333,
                            "#9c179e"
                          ],
                          [
                            0.4444444444444444,
                            "#bd3786"
                          ],
                          [
                            0.5555555555555556,
                            "#d8576b"
                          ],
                          [
                            0.6666666666666666,
                            "#ed7953"
                          ],
                          [
                            0.7777777777777778,
                            "#fb9f3a"
                          ],
                          [
                            0.8888888888888888,
                            "#fdca26"
                          ],
                          [
                            1,
                            "#f0f921"
                          ]
                        ],
                        "type": "surface"
                      }
                    ],
                    "table": [
                      {
                        "cells": {
                          "fill": {
                            "color": "#EBF0F8"
                          },
                          "line": {
                            "color": "white"
                          }
                        },
                        "header": {
                          "fill": {
                            "color": "#C8D4E3"
                          },
                          "line": {
                            "color": "white"
                          }
                        },
                        "type": "table"
                      }
                    ]
                  },
                  "layout": {
                    "annotationdefaults": {
                      "arrowcolor": "#2a3f5f",
                      "arrowhead": 0,
                      "arrowwidth": 1
                    },
                    "autotypenumbers": "strict",
                    "coloraxis": {
                      "colorbar": {
                        "outlinewidth": 0,
                        "ticks": ""
                      }
                    },
                    "colorscale": {
                      "diverging": [
                        [
                          0,
                          "#8e0152"
                        ],
                        [
                          0.1,
                          "#c51b7d"
                        ],
                        [
                          0.2,
                          "#de77ae"
                        ],
                        [
                          0.3,
                          "#f1b6da"
                        ],
                        [
                          0.4,
                          "#fde0ef"
                        ],
                        [
                          0.5,
                          "#f7f7f7"
                        ],
                        [
                          0.6,
                          "#e6f5d0"
                        ],
                        [
                          0.7,
                          "#b8e186"
                        ],
                        [
                          0.8,
                          "#7fbc41"
                        ],
                        [
                          0.9,
                          "#4d9221"
                        ],
                        [
                          1,
                          "#276419"
                        ]
                      ],
                      "sequential": [
                        [
                          0,
                          "#0d0887"
                        ],
                        [
                          0.1111111111111111,
                          "#46039f"
                        ],
                        [
                          0.2222222222222222,
                          "#7201a8"
                        ],
                        [
                          0.3333333333333333,
                          "#9c179e"
                        ],
                        [
                          0.4444444444444444,
                          "#bd3786"
                        ],
                        [
                          0.5555555555555556,
                          "#d8576b"
                        ],
                        [
                          0.6666666666666666,
                          "#ed7953"
                        ],
                        [
                          0.7777777777777778,
                          "#fb9f3a"
                        ],
                        [
                          0.8888888888888888,
                          "#fdca26"
                        ],
                        [
                          1,
                          "#f0f921"
                        ]
                      ],
                      "sequentialminus": [
                        [
                          0,
                          "#0d0887"
                        ],
                        [
                          0.1111111111111111,
                          "#46039f"
                        ],
                        [
                          0.2222222222222222,
                          "#7201a8"
                        ],
                        [
                          0.3333333333333333,
                          "#9c179e"
                        ],
                        [
                          0.4444444444444444,
                          "#bd3786"
                        ],
                        [
                          0.5555555555555556,
                          "#d8576b"
                        ],
                        [
                          0.6666666666666666,
                          "#ed7953"
                        ],
                        [
                          0.7777777777777778,
                          "#fb9f3a"
                        ],
                        [
                          0.8888888888888888,
                          "#fdca26"
                        ],
                        [
                          1,
                          "#f0f921"
                        ]
                      ]
                    },
                    "colorway": [
                      "#636efa",
                      "#EF553B",
                      "#00cc96",
                      "#ab63fa",
                      "#FFA15A",
                      "#19d3f3",
                      "#FF6692",
                      "#B6E880",
                      "#FF97FF",
                      "#FECB52"
                    ],
                    "font": {
                      "color": "#2a3f5f"
                    },
                    "geo": {
                      "bgcolor": "white",
                      "lakecolor": "white",
                      "landcolor": "#E5ECF6",
                      "showlakes": true,
                      "showland": true,
                      "subunitcolor": "white"
                    },
                    "hoverlabel": {
                      "align": "left"
                    },
                    "hovermode": "closest",
                    "mapbox": {
                      "style": "light"
                    },
                    "paper_bgcolor": "white",
                    "plot_bgcolor": "#E5ECF6",
                    "polar": {
                      "angularaxis": {
                        "gridcolor": "white",
                        "linecolor": "white",
                        "ticks": ""
                      },
                      "bgcolor": "#E5ECF6",
                      "radialaxis": {
                        "gridcolor": "white",
                        "linecolor": "white",
                        "ticks": ""
                      }
                    },
                    "scene": {
                      "xaxis": {
                        "backgroundcolor": "#E5ECF6",
                        "gridcolor": "white",
                        "gridwidth": 2,
                        "linecolor": "white",
                        "showbackground": true,
                        "ticks": "",
                        "zerolinecolor": "white"
                      },
                      "yaxis": {
                        "backgroundcolor": "#E5ECF6",
                        "gridcolor": "white",
                        "gridwidth": 2,
                        "linecolor": "white",
                        "showbackground": true,
                        "ticks": "",
                        "zerolinecolor": "white"
                      },
                      "zaxis": {
                        "backgroundcolor": "#E5ECF6",
                        "gridcolor": "white",
                        "gridwidth": 2,
                        "linecolor": "white",
                        "showbackground": true,
                        "ticks": "",
                        "zerolinecolor": "white"
                      }
                    },
                    "shapedefaults": {
                      "line": {
                        "color": "#2a3f5f"
                      }
                    },
                    "ternary": {
                      "aaxis": {
                        "gridcolor": "white",
                        "linecolor": "white",
                        "ticks": ""
                      },
                      "baxis": {
                        "gridcolor": "white",
                        "linecolor": "white",
                        "ticks": ""
                      },
                      "bgcolor": "#E5ECF6",
                      "caxis": {
                        "gridcolor": "white",
                        "linecolor": "white",
                        "ticks": ""
                      }
                    },
                    "title": {
                      "x": 0.05
                    },
                    "xaxis": {
                      "automargin": true,
                      "gridcolor": "white",
                      "linecolor": "white",
                      "ticks": "",
                      "title": {
                        "standoff": 15
                      },
                      "zerolinecolor": "white",
                      "zerolinewidth": 2
                    },
                    "yaxis": {
                      "automargin": true,
                      "gridcolor": "white",
                      "linecolor": "white",
                      "ticks": "",
                      "title": {
                        "standoff": 15
                      },
                      "zerolinecolor": "white",
                      "zerolinewidth": 2
                    }
                  }
                },
                "title": {
                  "text": "Rwanda Export Quarterly Analysis Dashboard"
                },
                "xaxis": {
                  "anchor": "y",
                  "domain": [
                    0,
                    0.37
                  ],
                  "title": {
                    "text": "Quarter"
                  }
                },
                "xaxis2": {
                  "anchor": "y2",
                  "domain": [
                    0.5700000000000001,
                    0.9400000000000001
                  ],
                  "title": {
                    "text": "Quarter"
                  }
                },
                "xaxis3": {
                  "anchor": "y3",
                  "domain": [
                    0,
                    0.37
                  ],
                  "title": {
                    "text": "Quarter"
                  }
                },
                "xaxis4": {
                  "anchor": "y5",
                  "domain": [
                    0.5700000000000001,
                    0.9400000000000001
                  ],
                  "title": {
                    "text": "Quarter"
                  }
                },
                "yaxis": {
                  "anchor": "x",
                  "domain": [
                    0.625,
                    1
                  ],
                  "title": {
                    "text": "Export Value ($M)"
                  }
                },
                "yaxis2": {
                  "anchor": "x2",
                  "domain": [
                    0.625,
                    1
                  ],
                  "title": {
                    "text": "Export Value ($M)"
                  }
                },
                "yaxis3": {
                  "anchor": "x3",
                  "domain": [
                    0,
                    0.375
                  ],
                  "title": {
                    "text": "Growth Rate (%)"
                  }
                },
                "yaxis4": {
                  "anchor": "x3",
                  "overlaying": "y3",
                  "side": "right",
                  "title": {
                    "text": "Growth Rate (%)"
                  }
                },
                "yaxis5": {
                  "anchor": "x4",
                  "domain": [
                    0,
                    0.375
                  ],
                  "title": {
                    "text": "Avg Export Value ($M)"
                  }
                }
              }
            }
          },
          "metadata": {},
          "output_type": "display_data"
        },
        {
          "name": "stdout",
          "output_type": "stream",
          "text": [
            "📊 Quarterly Analysis Dashboard Created!\n",
            "🔍 Key Insights:\n",
            "   • Highest exports in: 2024Q3\n",
            "   • Strongest growth period: 2024Q2\n",
            "   • \u001b[92mMost seasonal quarter: Q3\u001b[0m\n"
          ]
        }
      ],
      "source": [
        "# Create comprehensive quarterly trend visualizations\n",
        "if 'commodities' in datasets and 'melted_data' in locals():\n",
        "\n",
        "    # 1. Overall Export Trend\n",
        "    fig = make_subplots(rows=2, cols=2,\n",
        "                        subplot_titles=('Total Export Trends', 'Top Commodities Quarterly Performance',\n",
        "                                      'Growth Rate Analysis', 'Seasonal Patterns'),\n",
        "                        specs=[[{\"secondary_y\": False}, {\"secondary_y\": False}],\n",
        "                               [{\"secondary_y\": True}, {\"secondary_y\": False}]])\n",
        "\n",
        "    # Total exports trend\n",
        "    fig.add_trace(go.Scatter(x=total_by_quarter['Quarter'],\n",
        "                            y=total_by_quarter['Export_Value'],\n",
        "                            mode='lines+markers',\n",
        "                            name='Total Exports',\n",
        "                            line=dict(width=3, color='#1f77b4')),\n",
        "                 row=1, col=1)\n",
        "\n",
        "    # Top 5 commodities trends\n",
        "    top5_commodities = commodities_df.nlargest(5, '2024Q3')['Commodity_Description'].tolist()\n",
        "    colors = px.colors.qualitative.Set1\n",
        "\n",
        "    for i, commodity in enumerate(top5_commodities):\n",
        "        commodity_data = melted_data[melted_data['Commodity_Description'] == commodity]\n",
        "        fig.add_trace(go.Scatter(x=commodity_data['Quarter'],\n",
        "                                y=commodity_data['Export_Value'],\n",
        "                                mode='lines+markers',\n",
        "                                name=commodity[:30] + \"...\",\n",
        "                                line=dict(color=colors[i % len(colors)])),\n",
        "                     row=1, col=2)\n",
        "\n",
        "    # Growth rate analysis (QoQ growth)\n",
        "    total_by_quarter['QoQ_Growth'] = total_by_quarter['Export_Value'].pct_change() * 100\n",
        "    fig.add_trace(go.Bar(x=total_by_quarter['Quarter'][1:],\n",
        "                        y=total_by_quarter['QoQ_Growth'][1:],\n",
        "                        name='QoQ Growth %',\n",
        "                        marker_color='green'),\n",
        "                 row=2, col=1)\n",
        "\n",
        "    # Seasonal pattern (average by quarter number)\n",
        "    melted_data['Quarter_Num'] = melted_data['Quarter'].str[-1].astype(int)\n",
        "    seasonal_avg = melted_data.groupby('Quarter_Num')['Export_Value'].mean().reset_index()\n",
        "    fig.add_trace(go.Bar(x=[f'Q{q}' for q in seasonal_avg['Quarter_Num']],\n",
        "                        y=seasonal_avg['Export_Value'],\n",
        "                        name='Avg by Quarter',\n",
        "                        marker_color='orange'),\n",
        "                 row=2, col=2)\n",
        "\n",
        "    # Update layout\n",
        "    fig.update_layout(height=800,\n",
        "                     title_text=\"Rwanda Export Quarterly Analysis Dashboard\",\n",
        "                     showlegend=True)\n",
        "\n",
        "    fig.update_xaxes(title_text=\"Quarter\", row=1, col=1)\n",
        "    fig.update_xaxes(title_text=\"Quarter\", row=1, col=2)\n",
        "    fig.update_xaxes(title_text=\"Quarter\", row=2, col=1)\n",
        "    fig.update_xaxes(title_text=\"Quarter\", row=2, col=2)\n",
        "\n",
        "    fig.update_yaxes(title_text=\"Export Value ($M)\", row=1, col=1)\n",
        "    fig.update_yaxes(title_text=\"Export Value ($M)\", row=1, col=2)\n",
        "    fig.update_yaxes(title_text=\"Growth Rate (%)\", row=2, col=1)\n",
        "    fig.update_yaxes(title_text=\"Avg Export Value ($M)\", row=2, col=2)\n",
        "\n",
        "    fig.show()\n",
        "\n",
        "    print(\"📊 Quarterly Analysis Dashboard Created!\")\n",
        "    print(\"🔍 Key Insights:\")\n",
        "    print(f\"   • Highest exports in: {total_by_quarter.loc[total_by_quarter['Export_Value'].idxmax(), 'Quarter']}\")\n",
        "    print(f\"   • Strongest growth period: {total_by_quarter.loc[total_by_quarter['QoQ_Growth'].idxmax(), 'Quarter'] if not total_by_quarter['QoQ_Growth'].isna().all() else 'N/A'}\")\n",
        "    print(f\"   • \\033[92mMost seasonal quarter: Q{seasonal_avg.loc[seasonal_avg['Export_Value'].idxmax(), 'Quarter_Num']}\\033[0m\")\n",
        "\n",
        "else:\n",
        "    print(\"❌ Cannot create visualizations - data not available\")"
      ]
    },
    {
      "cell_type": "markdown",
      "id": "eb3d7fcd",
      "metadata": {
        "id": "eb3d7fcd"
      },
      "source": [
        "## 📈 Key Insights from Export Trends Analysis\n",
        "\n",
        "### What the Data Reveals:\n",
        "The quarterly export analysis shows **consistent upward growth** across Rwanda's export portfolio, with exports increasing steadily from quarter to quarter. While there was a notable dip in **2023 Q3**, the overall trajectory demonstrates Rwanda's growing competitiveness in global markets.\n",
        "\n",
        "### Food & Live Animals Sector - A Golden Opportunity:\n",
        "The data reveals a particularly **strong seasonal pattern in Q3** for Food and Live Animals exports. This consistent Q3 surge indicates:\n",
        "- **High global demand** during harvest seasons\n",
        "- **Strategic market positioning** for agricultural products\n",
        "- **Proven export infrastructure** that can handle increased volumes\n",
        "\n",
        "### Call to Action for Rwandan Citizens:\n",
        "\n",
        "**For Farmers & Agricultural Cooperatives:**\n",
        "- **Scale up production** to meet Q3 demand peaks\n",
        "- **Invest in quality improvement** to capture higher value markets\n",
        "- **Plan harvest cycles** to align with peak export windows\n",
        "- **Form cooperatives** to achieve economies of scale\n",
        "\n",
        "**For SMEs & Food Processors:**\n",
        "- **Develop value-added products** from agricultural outputs  \n",
        "- **Build processing capacity** to handle Q3 volume surges\n",
        "- **Invest in packaging & quality standards** for export markets\n",
        "- **Explore food preservation technologies** to extend export seasons\n",
        "\n",
        "**👥 For Youth & Entrepreneurs:**\n",
        "- **Enter agribusiness value chains** as aggregators or processors  \n",
        "- **Develop logistics solutions** for efficient export handling\n",
        "- **Create digital platforms** connecting farmers to export markets\n",
        "- **Build cold chain infrastructure** to maintain product quality\n",
        "\n",
        "### Strategic Recommendation:\n",
        "**<span style=\"color: green;\">The consistent Q3 performance in Food & Live Animals suggests Rwanda should **position itself as a reliable seasonal supplier** to global markets</span>**. This requires coordinated effort across the agricultural value chain to maximize this proven opportunity window.\n",
        "\n",
        "**<span style=\"color: green;\">Total Current Exports: $653.9 Million (Q3 2024)</span>**"
      ]
    },
    {
      "cell_type": "markdown",
      "id": "3e8b651b",
      "metadata": {
        "id": "3e8b651b"
      },
      "source": [
        "# Geographic Market Diversification Analysis"
      ]
    },
    {
      "cell_type": "code",
      "execution_count": 39,
      "id": "bb0fad71",
      "metadata": {
        "id": "bb0fad71",
        "outputId": "741593d6-534b-4187-e998-bfec6015bd4c"
      },
      "outputs": [
        {
          "name": "stdout",
          "output_type": "stream",
          "text": [
            "🌍 GEOGRAPHIC EXPORT ANALYSIS\n",
            "==================================================\n",
            "\n",
            "📊 MARKET CONCENTRATION METRICS:\n",
            "   • Herfindahl Index: 52.3 (Lower = More Diversified)\n",
            "   • Top 3 Markets Share: 85.0%\n",
            "\n",
            "🚀 EMERGING EXPORT MARKETS (High Growth, Low Share):\n",
            "   1. Ethiopia: +7974% growth, $3.3M\n",
            "   2. Thailand: +652% growth, $6.4M\n",
            "   3. Luxembourg: +478% growth, $13.8M\n",
            "   4. Sweden: +476% growth, $2.5M\n",
            "   5. Netherlands: +152% growth, $7.0M\n",
            "\n",
            "🌎 CONTINENTAL EXPORT DISTRIBUTION (Q3 2024):\n",
            "   • AFRICA: $84.5M (12.9%)\n",
            "   • AMERICA: $6.7M (1.0%)\n",
            "   • ASIA: $510.4M (78.1%)\n",
            "   • EUROPE: $51.7M (7.9%)\n",
            "   • OCEANIA: $0.6M (0.1%)\n",
            "\n",
            "⚠️ MARKET CONCENTRATION RISK ASSESSMENT:\n",
            "   🔴 HIGH RISK: Over-concentrated in few markets\n",
            "   📝 Recommendation: Urgent diversification needed\n"
          ]
        }
      ],
      "source": [
        "# Geographic Market Diversification Analysis\n",
        "if 'countries' in datasets and 'continents' in datasets:\n",
        "    countries_df = datasets['countries'].copy()\n",
        "    continents_df = datasets['continents'].copy()\n",
        "\n",
        "    print(\"🌍 GEOGRAPHIC EXPORT ANALYSIS\")\n",
        "    print(\"=\" * 50)\n",
        "\n",
        "    # Market concentration analysis\n",
        "    total_exports_q3 = countries_df['2024Q3'].sum()\n",
        "    countries_df['Market_Share_Q3'] = (countries_df['2024Q3'] / total_exports_q3) * 100\n",
        "\n",
        "    # Calculate market diversification metrics\n",
        "    herfindahl_index = (countries_df['Market_Share_Q3'] ** 2).sum() / 100\n",
        "\n",
        "    print(f\"\\n📊 MARKET CONCENTRATION METRICS:\")\n",
        "    print(f\"   • Herfindahl Index: {herfindahl_index:.1f} (Lower = More Diversified)\")\n",
        "    print(f\"   • Top 3 Markets Share: {countries_df.head(3)['Market_Share_Q3'].sum():.1f}%\")\n",
        "\n",
        "    # Identify emerging markets (high growth, currently small share)\n",
        "    countries_df['Growth_Momentum'] = countries_df['Change_Q3_Q3_Percent'].fillna(0)\n",
        "\n",
        "    emerging_markets = countries_df[\n",
        "        (countries_df['Market_Share_Q3'] < 5) &\n",
        "        (countries_df['Growth_Momentum'] > 50) &\n",
        "        (countries_df['2024Q3'] > 1)  # At least $1M in exports\n",
        "    ].sort_values('Growth_Momentum', ascending=False)\n",
        "\n",
        "    print(f\"\\n🚀 EMERGING EXPORT MARKETS (High Growth, Low Share):\")\n",
        "    if not emerging_markets.empty:\n",
        "        for idx, (_, row) in enumerate(emerging_markets.head(5).iterrows(), 1):\n",
        "            print(f\"   {idx}. {row['Country']}: +{row['Growth_Momentum']:.0f}% growth, ${row['2024Q3']:.1f}M\")\n",
        "    else:\n",
        "        print(\"   • No clear emerging markets identified in current data\")\n",
        "\n",
        "    # Continental analysis\n",
        "    exports_continents = continents_df[continents_df['Flow_Type'] == 'Exports'].copy()\n",
        "\n",
        "    print(f\"\\n🌎 CONTINENTAL EXPORT DISTRIBUTION (Q3 2024):\")\n",
        "    for _, row in exports_continents.iterrows():\n",
        "        if row['Continent'] != 'WORLD':\n",
        "            continent_share = (row['2024Q3'] / exports_continents[exports_continents['Continent'] == 'WORLD']['2024Q3'].iloc[0]) * 100\n",
        "            print(f\"   • {row['Continent']}: ${row['2024Q3']:.1f}M ({continent_share:.1f}%)\")\n",
        "\n",
        "    # Market risk assessment\n",
        "    print(f\"\\n⚠️ MARKET CONCENTRATION RISK ASSESSMENT:\")\n",
        "    if herfindahl_index > 25:\n",
        "        print(f\"   🔴 HIGH RISK: Over-concentrated in few markets\")\n",
        "        print(f\"   📝 Recommendation: Urgent diversification needed\")\n",
        "    elif herfindahl_index > 15:\n",
        "        print(f\"   🟡 MEDIUM RISK: Moderately concentrated\")\n",
        "        print(f\"   📝 Recommendation: Continue diversification efforts\")\n",
        "    else:\n",
        "        print(f\"   🟢 LOW RISK: Well diversified markets\")\n",
        "        print(f\"   📝 Recommendation: Maintain current diversification\")\n",
        "\n",
        "else:\n",
        "    print(\"❌ Geographic data not available for analysis\")"
      ]
    },
    {
      "cell_type": "markdown",
      "id": "92b9a08f",
      "metadata": {
        "id": "92b9a08f"
      },
      "source": [
        "## 6. Strategic Recommendations - Rwanda's Next Big Export Opportunity\n",
        "\n",
        "Based on our comprehensive analysis, let's synthesize the findings into actionable recommendations for Rwanda's export strategy."
      ]
    },
    {
      "cell_type": "code",
      "execution_count": null,
      "id": "5ded9572",
      "metadata": {
        "id": "5ded9572",
        "outputId": "d292d389-600e-48b5-a970-e54bbf796c1c"
      },
      "outputs": [
        {
          "name": "stdout",
          "output_type": "stream",
          "text": [
            " RWANDA'S NEXT BIG EXPORT OPPORTUNITY - STRATEGIC ANALYSIS\n",
            "================================================================================\n",
            "\n",
            " PRIMARY RECOMMENDATION: Food and live animals\n",
            "    Current Performance: $86.2M\n",
            "    Growth Rate: 13.3% YoY\n",
            "    Opportunity Score: 33.0/100\n",
            "\n",
            "🌍 GEOGRAPHIC OPPORTUNITY: Ethiopia\n",
            "    Growth Rate: +7974%\n",
            "    Current Value: $3.3M\n",
            "    Market Penetration Potential: HIGH\n",
            "\n",
            "================================================================================\n",
            " COMPREHENSIVE EXPORT STRATEGY RECOMMENDATIONS\n",
            "================================================================================\n",
            "\n",
            " IMMEDIATE ACTIONS (Next 6-12 months):\n",
            "   1. PRODUCT FOCUS:\n",
            "      1. Expand Food and live animals\n",
            "         • Target: +13% growth continuation\n",
            "         • Investment: Production capacity & quality\n",
            "      2. Expand Beverages and tobacco\n",
            "         • Target: +-71% growth continuation\n",
            "         • Investment: Production capacity & quality\n",
            "      3. Expand Crude materials, inedible, except fuels\n",
            "         • Target: +24% growth continuation\n",
            "         • Investment: Production capacity & quality\n",
            "\n",
            "   2. MARKET DIVERSIFICATION:\n",
            "      • Ethiopia: Growing market (+7974%)\n",
            "      • Thailand: Growing market (+652%)\n",
            "      • Sweden: Growing market (+476%)\n",
            "\n",
            " MEDIUM-TERM STRATEGY (1-3 years):\n",
            "   1. VALUE ADDITION:\n",
            "      • Move from raw materials to processed goods\n",
            "      • Target SITC categories 5-8 (chemicals, manufactured goods)\n",
            "      • Develop youth and SME manufacturing capabilities\n",
            "\n",
            "   2. DIGITAL TRANSFORMATION:\n",
            "      • Implement AI-driven demand forecasting\n",
            "      • Create mobile export alert systems\n",
            "      • Develop digital trade platforms for SMEs\n",
            "\n",
            "   3. CAPACITY BUILDING:\n",
            "      • Youth entrepreneurship in high-growth sectors\n",
            "      • SME export financing programs\n",
            "      • Quality certification for international markets\n",
            "\n",
            " POLICY RECOMMENDATIONS:\n",
            "   1. EXPORT INCENTIVES:\n",
            "      • Tax incentives for high-growth commodity sectors\n",
            "      • Export credit guarantees for SMEs\n",
            "      • Infrastructure investment in logistics\n",
            "\n",
            "   2. MARKET ACCESS:\n",
            "      • Bilateral trade agreements with emerging markets\n",
            "      • Trade missions to underexplored regions\n",
            "      • Digital trade facilitation platforms\n",
            "\n",
            "   3. YOUTH & SME ENGAGEMENT:\n",
            "      • Export entrepreneurship training programs\n",
            "      • Technology transfer initiatives\n",
            "      • Access to international market intelligence\n",
            "\n",
            " SUCCESS METRICS:\n",
            "   • Export diversification: Reduce top 3 market concentration below 60%\n",
            "   • Value addition: Increase processed goods share to 40%\n",
            "   • Youth engagement: 30% of new exporters under 35 years\n",
            "   • SME participation: 50% of exporters are SMEs\n",
            "   • Growth target: 25% annual export growth\n",
            "\n",
            "💡 INNOVATION OPPORTUNITIES:\n",
            "   • Blockchain for supply chain transparency\n",
            "   • IoT for agricultural export quality monitoring\n",
            "   • Mobile apps for real-time market prices\n",
            "   • AI-powered trade matching platforms\n"
          ]
        }
      ],
      "source": [
        "# Generate Strategic Export Recommendations\n",
        "print(\" RWANDA'S NEXT BIG EXPORT OPPORTUNITY - STRATEGIC ANALYSIS\")\n",
        "print(\"=\" * 80)\n",
        "\n",
        "# Compile all analysis results\n",
        "strategic_recommendations = []\n",
        "\n",
        "if 'opportunity_analysis' in locals():\n",
        "    top_opportunity = opportunity_analysis.iloc[0]\n",
        "\n",
        "    print(f\"\\n PRIMARY RECOMMENDATION: {top_opportunity['Commodity_Description']}\")\n",
        "    print(f\"    Current Performance: ${top_opportunity['Current_Value_2024Q3']:.1f}M\")\n",
        "    print(f\"    Growth Rate: {top_opportunity['YoY_Growth']:.1f}% YoY\")\n",
        "    print(f\"    Opportunity Score: {top_opportunity['Opportunity_Score']:.1f}/100\")\n",
        "\n",
        "    strategic_recommendations.append({\n",
        "        'sector': top_opportunity['Commodity_Description'],\n",
        "        'sitc_code': top_opportunity['SITC_Code'],\n",
        "        'rationale': 'Highest overall opportunity score combining growth, value, and stability',\n",
        "        'priority': 'HIGH'\n",
        "    })\n",
        "\n",
        "if 'growth_potential' in locals() and len(growth_potential) > 0:\n",
        "    ml_top_growth = growth_potential[0]\n",
        "\n",
        "    print(f\"\\n FASTEST GROWTH POTENTIAL: {ml_top_growth['commodity'][:50]}...\")\n",
        "    print(f\"   Predicted Growth: {ml_top_growth['predicted_growth']:+.1f}%\")\n",
        "    print(f\"   Forecast Value Q1 2025: ${ml_top_growth['q1_2025_forecast']:.1f}M\")\n",
        "\n",
        "    strategic_recommendations.append({\n",
        "        'sector': ml_top_growth['commodity'],\n",
        "        'sitc_code': 'Various',\n",
        "        'rationale': 'Highest predicted growth based on ML forecasting',\n",
        "        'priority': 'HIGH'\n",
        "    })\n",
        "\n",
        "if 'emerging_markets' in locals() and not emerging_markets.empty:\n",
        "    top_emerging = emerging_markets.iloc[0]\n",
        "\n",
        "    print(f\"\\n🌍 GEOGRAPHIC OPPORTUNITY: {top_emerging['Country']}\")\n",
        "    print(f\"    Growth Rate: +{top_emerging['Growth_Momentum']:.0f}%\")\n",
        "    print(f\"    Current Value: ${top_emerging['2024Q3']:.1f}M\")\n",
        "    print(f\"    Market Penetration Potential: HIGH\")\n",
        "\n",
        "# Create comprehensive recommendation framework\n",
        "print(f\"\\n\" + \"=\"*80)\n",
        "print(f\" COMPREHENSIVE EXPORT STRATEGY RECOMMENDATIONS\")\n",
        "print(f\"=\"*80)\n",
        "\n",
        "print(f\"\\n IMMEDIATE ACTIONS (Next 6-12 months):\")\n",
        "print(f\"   1. PRODUCT FOCUS:\")\n",
        "if 'opportunity_analysis' in locals():\n",
        "    for i, (_, opp) in enumerate(opportunity_analysis.head(3).iterrows(), 1):\n",
        "        print(f\"      {i}. Expand {opp['Commodity_Description']}\")\n",
        "        print(f\"         • Target: +{opp['YoY_Growth']:.0f}% growth continuation\")\n",
        "        print(f\"         • Investment: Production capacity & quality\")\n",
        "\n",
        "print(f\"\\n   2. MARKET DIVERSIFICATION:\")\n",
        "if 'countries_df' in locals():\n",
        "    # Find underexplored markets\n",
        "    potential_markets = countries_df[\n",
        "        (countries_df['2024Q3'] > 0) &\n",
        "        (countries_df['2024Q3'] < 10) &\n",
        "        (countries_df['Change_Q3_Q3_Percent'] > 0)\n",
        "    ].sort_values('Change_Q3_Q3_Percent', ascending=False)\n",
        "\n",
        "    if not potential_markets.empty:\n",
        "        for _, market in potential_markets.head(3).iterrows():\n",
        "            print(f\"      • {market['Country']}: Growing market (+{market['Change_Q3_Q3_Percent']:.0f}%)\")\n",
        "\n",
        "print(f\"\\n MEDIUM-TERM STRATEGY (1-3 years):\")\n",
        "print(f\"   1. VALUE ADDITION:\")\n",
        "print(f\"      • Move from raw materials to processed goods\")\n",
        "print(f\"      • Target SITC categories 5-8 (chemicals, manufactured goods)\")\n",
        "print(f\"      • Develop youth and SME manufacturing capabilities\")\n",
        "\n",
        "print(f\"\\n   2. DIGITAL TRANSFORMATION:\")\n",
        "print(f\"      • Implement AI-driven demand forecasting\")\n",
        "print(f\"      • Create mobile export alert systems\")\n",
        "print(f\"      • Develop digital trade platforms for SMEs\")\n",
        "\n",
        "print(f\"\\n   3. CAPACITY BUILDING:\")\n",
        "print(f\"      • Youth entrepreneurship in high-growth sectors\")\n",
        "print(f\"      • SME export financing programs\")\n",
        "print(f\"      • Quality certification for international markets\")"
      ]
    },
    {
      "cell_type": "markdown",
      "id": "d16ad69f",
      "metadata": {
        "id": "d16ad69f"
      },
      "source": [
        "## Historical Partner Analysis (2018-2022) - WITS Data Integration\n",
        "\n",
        "Now let's integrate the comprehensive 5-year WITS partner data to understand Rwanda's export evolution, identify long-term trends, and discover emerging market opportunities."
      ]
    },
    {
      "cell_type": "code",
      "execution_count": 41,
      "id": "59949b3e",
      "metadata": {
        "id": "59949b3e",
        "outputId": "3a299b27-3ec1-4d0a-aff5-2f82cf4e1a5e"
      },
      "outputs": [
        {
          "name": "stdout",
          "output_type": "stream",
          "text": [
            "🌍 LOADING HISTORICAL PARTNER DATA (2018-2022)\n",
            "============================================================\n",
            "✅ Combined WITS data loaded: 585 records\n",
            "✅ Combined WITS data loaded: 585 records\n",
            "   • Years covered: 2018 - 2022\n",
            "   • Unique partners: 147\n",
            "   • Total export value: $21,411,966,600\n",
            "✅ Country-specific data: 546 records\n",
            "   • Individual countries: 139\n",
            "\n",
            "📊 HISTORICAL EXPORT EVOLUTION:\n",
            "   2018: $2999.8M (122.0 partners)\n",
            "   2019: $3390.8M (120.0 partners)\n",
            "   2020: $4287.8M (109.0 partners)\n",
            "   2021: $4682.9M (117.0 partners)\n",
            "   2022: $6050.7M (117.0 partners)\n",
            "\n",
            "🚀 5-Year Growth: +101.7% (2018-2022)\n",
            "   • Years covered: 2018 - 2022\n",
            "   • Unique partners: 147\n",
            "   • Total export value: $21,411,966,600\n",
            "✅ Country-specific data: 546 records\n",
            "   • Individual countries: 139\n",
            "\n",
            "📊 HISTORICAL EXPORT EVOLUTION:\n",
            "   2018: $2999.8M (122.0 partners)\n",
            "   2019: $3390.8M (120.0 partners)\n",
            "   2020: $4287.8M (109.0 partners)\n",
            "   2021: $4682.9M (117.0 partners)\n",
            "   2022: $6050.7M (117.0 partners)\n",
            "\n",
            "🚀 5-Year Growth: +101.7% (2018-2022)\n"
          ]
        }
      ],
      "source": [
        "# Load and analyze 5-year WITS partner data\n",
        "print(\"🌍 LOADING HISTORICAL PARTNER DATA (2018-2022)\")\n",
        "print(\"=\" * 60)\n",
        "\n",
        "try:\n",
        "    # Load the combined WITS dataset\n",
        "    wits_data = pd.read_csv('data/wits/rwanda_export_partners_2018_2022_combined.csv')\n",
        "    yearly_summary = pd.read_csv('data/wits/rwanda_exports_yearly_summary_2018_2022.csv')\n",
        "    regional_analysis = pd.read_csv('data/wits/rwanda_exports_regional_analysis_2018_2022.csv')\n",
        "    growth_analysis = pd.read_csv('data/wits/rwanda_exports_growth_analysis_2018_2022.csv')\n",
        "\n",
        "    print(f\"✅ Combined WITS data loaded: {len(wits_data):,} records\")\n",
        "    print(f\"   • Years covered: {wits_data['Year'].min()} - {wits_data['Year'].max()}\")\n",
        "    print(f\"   • Unique partners: {wits_data['Partner Name'].nunique()}\")\n",
        "    print(f\"   • Total export value: ${wits_data['Export_Value_USD'].sum():,.0f}\")\n",
        "\n",
        "    # Filter out regional aggregates for country-specific analysis\n",
        "    country_data = wits_data[~wits_data['Partner Name'].str.contains('World|Sub-Saharan|East Asia|Europe|Middle East|North America|South Asia|Latin America', na=False)]\n",
        "\n",
        "    print(f\"✅ Country-specific data: {len(country_data):,} records\")\n",
        "    print(f\"   • Individual countries: {country_data['Partner Name'].nunique()}\")\n",
        "\n",
        "    # Key statistics\n",
        "    print(f\"\\n📊 HISTORICAL EXPORT EVOLUTION:\")\n",
        "    for _, row in yearly_summary.iterrows():\n",
        "        print(f\"   {int(row['Year'])}: ${row['Total_Exports_M']:.1f}M ({row['Unique_Partners']} partners)\")\n",
        "\n",
        "    # Calculate overall growth\n",
        "    total_growth = ((yearly_summary['Total_Exports_M'].iloc[-1] / yearly_summary['Total_Exports_M'].iloc[0]) - 1) * 100\n",
        "    print(f\"\\n🚀 5-Year Growth: +{total_growth:.1f}% (2018-2022)\")\n",
        "\n",
        "except FileNotFoundError as e:\n",
        "    print(f\"❌ WITS data files not found: {e}\")\n",
        "    wits_data = None"
      ]
    },
    {
      "cell_type": "markdown",
      "id": "f43bcc94",
      "metadata": {
        "id": "f43bcc94"
      },
      "source": [
        "##  Predictive Analytics: Country-Specific Demand Forecasting\n",
        "\n",
        "This section uses **machine learning models** to predict which countries will import more from Rwanda in the coming years. We employ multiple forecasting approaches to generate robust predictions:\n",
        "\n",
        "### Multi-Model Forecasting Approach\n",
        "\n",
        "1. **Linear Regression**: Captures consistent growth trends based on historical patterns\n",
        "2. **Polynomial Regression (degree 2)**: Detects non-linear acceleration or deceleration in trade relationships\n",
        "3. **Ensemble Averaging**: Combines both models to produce more reliable predictions\n",
        "\n",
        "###  What We Predict\n",
        "\n",
        "For each partner country, the models forecast:\n",
        "- **Export values for 2023, 2024, and 2025**\n",
        "- **Growth percentages** compared to 2022 baseline\n",
        "- **Compound Annual Growth Rate (CAGR)** from 2022 to 2025\n",
        "- **Confidence scores** based on model fit (R² values)\n",
        "- **Volatility metrics** to assess market stability\n",
        "- **Trend strength** indicators\n",
        "\n",
        "### Key Outputs\n",
        "\n",
        "- **High-Confidence Growth Markets**: Countries with >70% prediction confidence and >20% expected growth\n",
        "- **Emerging Markets**: Currently smaller partners showing >80% growth potential\n",
        "- **Model Performance**: R² scores indicating prediction reliability for each country\n",
        "\n",
        "This data-driven approach helps government agencies and exporters prioritize resources toward markets with the highest predicted ROI."
      ]
    },
    {
      "cell_type": "code",
      "execution_count": null,
      "id": "3fe6d6a3",
      "metadata": {
        "id": "3fe6d6a3"
      },
      "outputs": [
        {
          "name": "stdout",
          "output_type": "stream",
          "text": [
            "🔮 PREDICTIVE ANALYTICS: Country-Specific Demand Forecasting\n",
            "======================================================================\n",
            "\n",
            "📊 Building predictive models for 147 partner countries...\n",
            "\n",
            "✅ Successfully built predictive models for 95 countries\n",
            "\n",
            "📈 TOP 10 FORECASTED MARKETS FOR 2025:\n",
            "----------------------------------------------------------------------\n",
            "\n",
            "World                         \n",
            "   Current (2022): $2019.3M\n",
            "   Predicted (2025): $3062.8M\n",
            "   Growth: +51.7%\n",
            "   CAGR (2022-2025): 14.9%\n",
            "   Confidence: 97%\n",
            "\n",
            "Sub-Saharan Africa            \n",
            "   Current (2022): $903.1M\n",
            "   Predicted (2025): $1600.6M\n",
            "   Growth: +77.2%\n",
            "   CAGR (2022-2025): 21.0%\n",
            "   Confidence: 88%\n",
            "\n",
            "Congo, Dem. Rep.              \n",
            "   Current (2022): $768.3M\n",
            "   Predicted (2025): $1412.9M\n",
            "   Growth: +83.9%\n",
            "   CAGR (2022-2025): 22.5%\n",
            "   Confidence: 93%\n",
            "\n",
            "East Asia & Pacific           \n",
            "   Current (2022): $194.7M\n",
            "   Predicted (2025): $535.3M\n",
            "   Growth: +175.0%\n",
            "   CAGR (2022-2025): 40.1%\n",
            "   Confidence: 50%\n",
            "\n",
            "Middle East & North Africa    \n",
            "   Current (2022): $612.5M\n",
            "   Predicted (2025): $381.3M\n",
            "   Growth: -37.7%\n",
            "   CAGR (2022-2025): -14.6%\n",
            "   Confidence: 72%\n",
            "\n",
            "United Arab Emirates          \n",
            "   Current (2022): $590.3M\n",
            "   Predicted (2025): $343.6M\n",
            "   Growth: -41.8%\n",
            "   CAGR (2022-2025): -16.5%\n",
            "   Confidence: 72%\n",
            "\n",
            "China                         \n",
            "   Current (2022): $96.8M\n",
            "   Predicted (2025): $270.5M\n",
            "   Growth: +179.6%\n",
            "   CAGR (2022-2025): 40.9%\n",
            "   Confidence: 70%\n",
            "\n",
            "Europe & Central Asia         \n",
            "   Current (2022): $164.6M\n",
            "   Predicted (2025): $256.0M\n",
            "   Growth: +55.5%\n",
            "   CAGR (2022-2025): 15.8%\n",
            "   Confidence: 59%\n",
            "\n",
            "South Asia                    \n",
            "   Current (2022): $110.3M\n",
            "   Predicted (2025): $228.4M\n",
            "   Growth: +107.1%\n",
            "   CAGR (2022-2025): 27.5%\n",
            "   Confidence: 68%\n",
            "\n",
            "India                         \n",
            "   Current (2022): $71.2M\n",
            "   Predicted (2025): $179.3M\n",
            "   Growth: +151.9%\n",
            "   CAGR (2022-2025): 36.1%\n",
            "   Confidence: 70%\n",
            "\n",
            "\n",
            "🎯 HIGH-CONFIDENCE GROWTH OPPORTUNITIES:\n",
            "   (>70% confidence, >20% growth)\n",
            "----------------------------------------------------------------------\n",
            "   • Poland                         +181.4% growth, 70% confidence\n",
            "   • Greece                         +171.8% growth, 91% confidence\n",
            "   • Congo, Rep.                    +162.6% growth, 82% confidence\n",
            "   • Burkina Faso                   +161.6% growth, 71% confidence\n",
            "   • Cameroon                       +160.9% growth, 90% confidence\n",
            "   • Zambia                         +155.1% growth, 83% confidence\n",
            "   • India                          +151.9% growth, 70% confidence\n",
            "   • Ethiopia(excludes Eritrea)     +142.2% growth, 83% confidence\n",
            "   • Nigeria                        +132.3% growth, 73% confidence\n",
            "   • Canada                         +123.8% growth, 76% confidence\n",
            "\n",
            "\n",
            "🌱 EMERGING MARKETS (Low base, high growth potential):\n",
            "----------------------------------------------------------------------\n",
            "   • Central African Republic       $0.6M → $10.5M (+1657%)\n",
            "   • Thailand                       $1.8M → $30.4M (+1627%)\n",
            "   • Israel                         $0.0M → $0.1M (+377%)\n",
            "   • Qatar                          $3.0M → $9.4M (+220%)\n",
            "   • Spain                          $2.4M → $6.9M (+193%)\n",
            "\n",
            "\n",
            "📊 MODEL PERFORMANCE SUMMARY:\n",
            "----------------------------------------------------------------------\n",
            "   Average R² Score: 0.506\n",
            "   Average Confidence: 50.6%\n",
            "   Countries with >80% confidence: 14\n",
            "   Total predicted exports (2025): $9257.5M\n",
            "   Overall growth vs 2022: +53.0%\n",
            "\n",
            "✅ Successfully built predictive models for 95 countries\n",
            "\n",
            "📈 TOP 10 FORECASTED MARKETS FOR 2025:\n",
            "----------------------------------------------------------------------\n",
            "\n",
            "World                         \n",
            "   Current (2022): $2019.3M\n",
            "   Predicted (2025): $3062.8M\n",
            "   Growth: +51.7%\n",
            "   CAGR (2022-2025): 14.9%\n",
            "   Confidence: 97%\n",
            "\n",
            "Sub-Saharan Africa            \n",
            "   Current (2022): $903.1M\n",
            "   Predicted (2025): $1600.6M\n",
            "   Growth: +77.2%\n",
            "   CAGR (2022-2025): 21.0%\n",
            "   Confidence: 88%\n",
            "\n",
            "Congo, Dem. Rep.              \n",
            "   Current (2022): $768.3M\n",
            "   Predicted (2025): $1412.9M\n",
            "   Growth: +83.9%\n",
            "   CAGR (2022-2025): 22.5%\n",
            "   Confidence: 93%\n",
            "\n",
            "East Asia & Pacific           \n",
            "   Current (2022): $194.7M\n",
            "   Predicted (2025): $535.3M\n",
            "   Growth: +175.0%\n",
            "   CAGR (2022-2025): 40.1%\n",
            "   Confidence: 50%\n",
            "\n",
            "Middle East & North Africa    \n",
            "   Current (2022): $612.5M\n",
            "   Predicted (2025): $381.3M\n",
            "   Growth: -37.7%\n",
            "   CAGR (2022-2025): -14.6%\n",
            "   Confidence: 72%\n",
            "\n",
            "United Arab Emirates          \n",
            "   Current (2022): $590.3M\n",
            "   Predicted (2025): $343.6M\n",
            "   Growth: -41.8%\n",
            "   CAGR (2022-2025): -16.5%\n",
            "   Confidence: 72%\n",
            "\n",
            "China                         \n",
            "   Current (2022): $96.8M\n",
            "   Predicted (2025): $270.5M\n",
            "   Growth: +179.6%\n",
            "   CAGR (2022-2025): 40.9%\n",
            "   Confidence: 70%\n",
            "\n",
            "Europe & Central Asia         \n",
            "   Current (2022): $164.6M\n",
            "   Predicted (2025): $256.0M\n",
            "   Growth: +55.5%\n",
            "   CAGR (2022-2025): 15.8%\n",
            "   Confidence: 59%\n",
            "\n",
            "South Asia                    \n",
            "   Current (2022): $110.3M\n",
            "   Predicted (2025): $228.4M\n",
            "   Growth: +107.1%\n",
            "   CAGR (2022-2025): 27.5%\n",
            "   Confidence: 68%\n",
            "\n",
            "India                         \n",
            "   Current (2022): $71.2M\n",
            "   Predicted (2025): $179.3M\n",
            "   Growth: +151.9%\n",
            "   CAGR (2022-2025): 36.1%\n",
            "   Confidence: 70%\n",
            "\n",
            "\n",
            "🎯 HIGH-CONFIDENCE GROWTH OPPORTUNITIES:\n",
            "   (>70% confidence, >20% growth)\n",
            "----------------------------------------------------------------------\n",
            "   • Poland                         +181.4% growth, 70% confidence\n",
            "   • Greece                         +171.8% growth, 91% confidence\n",
            "   • Congo, Rep.                    +162.6% growth, 82% confidence\n",
            "   • Burkina Faso                   +161.6% growth, 71% confidence\n",
            "   • Cameroon                       +160.9% growth, 90% confidence\n",
            "   • Zambia                         +155.1% growth, 83% confidence\n",
            "   • India                          +151.9% growth, 70% confidence\n",
            "   • Ethiopia(excludes Eritrea)     +142.2% growth, 83% confidence\n",
            "   • Nigeria                        +132.3% growth, 73% confidence\n",
            "   • Canada                         +123.8% growth, 76% confidence\n",
            "\n",
            "\n",
            "🌱 EMERGING MARKETS (Low base, high growth potential):\n",
            "----------------------------------------------------------------------\n",
            "   • Central African Republic       $0.6M → $10.5M (+1657%)\n",
            "   • Thailand                       $1.8M → $30.4M (+1627%)\n",
            "   • Israel                         $0.0M → $0.1M (+377%)\n",
            "   • Qatar                          $3.0M → $9.4M (+220%)\n",
            "   • Spain                          $2.4M → $6.9M (+193%)\n",
            "\n",
            "\n",
            "📊 MODEL PERFORMANCE SUMMARY:\n",
            "----------------------------------------------------------------------\n",
            "   Average R² Score: 0.506\n",
            "   Average Confidence: 50.6%\n",
            "   Countries with >80% confidence: 14\n",
            "   Total predicted exports (2025): $9257.5M\n",
            "   Overall growth vs 2022: +53.0%\n"
          ]
        }
      ],
      "source": [
        "# ADVANCED COUNTRY-SPECIFIC DEMAND FORECASTING\n",
        "# Using WITS historical data (2018-2022) to predict future export demand\n",
        "\n",
        "from sklearn.linear_model import LinearRegression\n",
        "from sklearn.preprocessing import PolynomialFeatures\n",
        "from sklearn.metrics import r2_score\n",
        "import warnings\n",
        "warnings.filterwarnings('ignore')\n",
        "\n",
        "print(\"🔮 PREDICTIVE ANALYTICS: Country-Specific Demand Forecasting\")\n",
        "print(\"=\" * 70)\n",
        "\n",
        "if 'wits_data' in locals() and not wits_data.empty:\n",
        "\n",
        "    # Prepare data for modeling\n",
        "    partner_forecasts = []\n",
        "\n",
        "    # Get unique partners\n",
        "    partners = wits_data['Partner Name'].unique()\n",
        "    print(f\"\\n📊 Building predictive models for {len(partners)} partner countries...\")\n",
        "\n",
        "    for partner in partners:\n",
        "        partner_data = wits_data[wits_data['Partner Name'] == partner].copy()\n",
        "\n",
        "        # Skip if insufficient data\n",
        "        if len(partner_data) < 3:\n",
        "            continue\n",
        "\n",
        "        # Sort by year and get values\n",
        "        partner_data = partner_data.sort_values('Year')\n",
        "        years = partner_data['Year'].values.reshape(-1, 1)\n",
        "        values = partner_data['Export (US$ Thousand)'].values / 1000  # Convert to millions\n",
        "\n",
        "        # Skip if all zeros or very small values\n",
        "        if values.sum() < 0.1:\n",
        "            continue\n",
        "\n",
        "        try:\n",
        "            # MODEL 1: Linear Regression (trend-based)\n",
        "            lr_model = LinearRegression()\n",
        "            lr_model.fit(years, values)\n",
        "            lr_pred = lr_model.predict(years)\n",
        "            lr_r2 = r2_score(values, lr_pred)\n",
        "\n",
        "            # MODEL 2: Polynomial Regression (non-linear patterns)\n",
        "            poly_features = PolynomialFeatures(degree=2)\n",
        "            years_poly = poly_features.fit_transform(years)\n",
        "            poly_model = LinearRegression()\n",
        "            poly_model.fit(years_poly, values)\n",
        "            poly_pred = poly_model.predict(years_poly)\n",
        "            poly_r2 = r2_score(values, poly_pred)\n",
        "\n",
        "            # Future predictions (2023, 2024, 2025)\n",
        "            future_years = np.array([[2023], [2024], [2025]])\n",
        "            future_years_poly = poly_features.transform(future_years)\n",
        "\n",
        "            lr_future = lr_model.predict(future_years)\n",
        "            poly_future = poly_model.predict(future_years_poly)\n",
        "\n",
        "            # Ensemble prediction (average of both models)\n",
        "            ensemble_future = (lr_future + poly_future) / 2\n",
        "\n",
        "            # Ensure no negative predictions\n",
        "            ensemble_future = np.maximum(ensemble_future, 0)\n",
        "\n",
        "            # Calculate metrics\n",
        "            current_2022 = values[-1] if len(values) > 0 else 0\n",
        "            predicted_2023 = ensemble_future[0]\n",
        "            predicted_2024 = ensemble_future[1]\n",
        "            predicted_2025 = ensemble_future[2]\n",
        "\n",
        "            # Growth calculations\n",
        "            growth_percent = ((predicted_2025 - current_2022) / current_2022 * 100) if current_2022 > 0 else 0\n",
        "\n",
        "            # CAGR calculation (2022 to 2025)\n",
        "            if current_2022 > 0:\n",
        "                cagr_2022_2025 = (((predicted_2025 / current_2022) ** (1/3)) - 1) * 100\n",
        "            else:\n",
        "                cagr_2022_2025 = 0\n",
        "\n",
        "            # Confidence score (based on R² and data quality)\n",
        "            avg_r2 = (lr_r2 + poly_r2) / 2\n",
        "            confidence_score = max(0, min(100, avg_r2 * 100))\n",
        "\n",
        "            # Volatility (coefficient of variation)\n",
        "            volatility = (np.std(values) / np.mean(values) * 100) if np.mean(values) > 0 else 0\n",
        "\n",
        "            # Trend strength\n",
        "            trend_strength = abs(lr_model.coef_[0])\n",
        "\n",
        "            partner_forecasts.append({\n",
        "                'country': partner,\n",
        "                'current_2022': current_2022,\n",
        "                'predicted_2023': predicted_2023,\n",
        "                'predicted_2024': predicted_2024,\n",
        "                'predicted_2025': predicted_2025,\n",
        "                'predicted_growth_percent': growth_percent,\n",
        "                'cagr_2022_2025': cagr_2022_2025,\n",
        "                'lr_r2': lr_r2,\n",
        "                'poly_r2': poly_r2,\n",
        "                'confidence_score': confidence_score,\n",
        "                'volatility': volatility,\n",
        "                'trend_strength': trend_strength,\n",
        "                'historical_years': len(values),\n",
        "                'avg_r2': avg_r2\n",
        "            })\n",
        "\n",
        "        except Exception as e:\n",
        "            continue\n",
        "\n",
        "    # Create forecast DataFrame\n",
        "    forecast_df = pd.DataFrame(partner_forecasts)\n",
        "\n",
        "    if not forecast_df.empty:\n",
        "        # Sort by predicted 2025 value\n",
        "        forecast_df = forecast_df.sort_values('predicted_2025', ascending=False)\n",
        "\n",
        "        print(f\"\\n✅ Successfully built predictive models for {len(forecast_df)} countries\")\n",
        "        print(f\"\\n📈 TOP 10 FORECASTED MARKETS FOR 2025:\")\n",
        "        print(\"-\" * 70)\n",
        "\n",
        "        for idx, row in forecast_df.head(10).iterrows():\n",
        "            print(f\"\\n{row['country']:30s}\")\n",
        "            print(f\"   Current (2022): ${row['current_2022']:.1f}M\")\n",
        "            print(f\"   Predicted (2025): ${row['predicted_2025']:.1f}M\")\n",
        "            print(f\"   Growth: {row['predicted_growth_percent']:+.1f}%\")\n",
        "            print(f\"   CAGR (2022-2025): {row['cagr_2022_2025']:.1f}%\")\n",
        "            print(f\"   Confidence: {row['confidence_score']:.0f}%\")\n",
        "\n",
        "        # Identify high-confidence growth opportunities\n",
        "        high_confidence_growth = forecast_df[\n",
        "            (forecast_df['confidence_score'] > 70) &\n",
        "            (forecast_df['predicted_growth_percent'] > 20)\n",
        "        ].sort_values('predicted_growth_percent', ascending=False)\n",
        "\n",
        "        print(f\"\\n\\n🎯 HIGH-CONFIDENCE GROWTH OPPORTUNITIES:\")\n",
        "        print(f\"   (>70% confidence, >20% growth)\")\n",
        "        print(\"-\" * 70)\n",
        "\n",
        "        for idx, row in high_confidence_growth.head(10).iterrows():\n",
        "            print(f\"   • {row['country']:30s} {row['predicted_growth_percent']:+6.1f}% growth, {row['confidence_score']:.0f}% confidence\")\n",
        "\n",
        "        # Emerging markets (low current value but high growth)\n",
        "        emerging_markets = forecast_df[\n",
        "            (forecast_df['current_2022'] < 5) &\n",
        "            (forecast_df['predicted_growth_percent'] > 50)\n",
        "        ].sort_values('predicted_growth_percent', ascending=False)\n",
        "\n",
        "        if not emerging_markets.empty:\n",
        "            print(f\"\\n\\n EMERGING MARKETS (Low base, high growth potential):\")\n",
        "            print(\"-\" * 70)\n",
        "            for idx, row in emerging_markets.head(5).iterrows():\n",
        "                print(f\"   • {row['country']:30s} ${row['current_2022']:.1f}M → ${row['predicted_2025']:.1f}M ({row['predicted_growth_percent']:+.0f}%)\")\n",
        "\n",
        "        # Model performance summary\n",
        "        print(f\"\\n\\n📊 MODEL PERFORMANCE SUMMARY:\")\n",
        "        print(\"-\" * 70)\n",
        "        print(f\"   Average R² Score: {forecast_df['avg_r2'].mean():.3f}\")\n",
        "        print(f\"   Average Confidence: {forecast_df['confidence_score'].mean():.1f}%\")\n",
        "        print(f\"   Countries with >80% confidence: {len(forecast_df[forecast_df['confidence_score'] > 80])}\")\n",
        "        print(f\"   Total predicted exports (2025): ${forecast_df['predicted_2025'].sum():.1f}M\")\n",
        "        print(f\"   Overall growth vs 2022: {((forecast_df['predicted_2025'].sum() / forecast_df['current_2022'].sum()) - 1) * 100:+.1f}%\")\n",
        "\n",
        "    else:\n",
        "        print(\"❌ No forecasts generated. Check WITS data quality.\")\n",
        "\n",
        "else:\n",
        "    print(\"❌ WITS data not loaded. Please run the WITS data loading cell first.\")"
      ]
    },
    {
      "cell_type": "markdown",
      "id": "885fc9c1",
      "metadata": {
        "id": "885fc9c1"
      },
      "source": [
        "## 📊 Predictive Analytics Dashboard\n",
        "\n",
        "Interactive visualizations showing forecasted export trends and growth opportunities for 2023-2025."
      ]
    },
    {
      "cell_type": "code",
      "execution_count": 43,
      "id": "6d1758c9",
      "metadata": {
        "id": "6d1758c9",
        "outputId": "048f2007-751a-4c55-adf0-51a0e06e3ab6"
      },
      "outputs": [
        {
          "data": {
            "application/vnd.plotly.v1+json": {
              "config": {
                "plotlyServerURL": "https://plot.ly"
              },
              "data": [
                {
                  "marker": {
                    "color": "lightseagreen"
                  },
                  "name": "2025 Forecast",
                  "orientation": "h",
                  "text": {
                    "bdata": "mpmZmZkZSkAzMzMzM7NPQAAAAAAAgFNAAAAAAAAgVkAAAAAAALBgQJqZmZmZaWZAzczMzMyMbEAAAAAAAABwQAAAAAAA6HBAmpmZmZl5dUDNzMzMzNR3QGZmZmZmuoBAmpmZmZkTlkBmZmZmZgKZQJqZmZmZ7adA",
                    "dtype": "f8"
                  },
                  "textposition": "outside",
                  "type": "bar",
                  "x": {
                    "bdata": "AGZLl4wcSkDgcyw/lbBPQCDdZSj6fFNAgGe28GEeVkAwJEN+TbBgQEDjw7pDamZAAOjz4kmNbEBAgPmO1v5vQMBBppZ26HBAAJjDRJp5dUAA17fb99R3QIC7GiCwuoBAwFnGDW0TlkCA/JUWVQKZQIAWl1SK7adA",
                    "dtype": "f8"
                  },
                  "xaxis": "x",
                  "y": [
                    "Congo, Rep.",
                    "Singapore",
                    "United Kingdom",
                    "Ethiopia(excludes Eritrea)",
                    "Hong Kong, China",
                    "India",
                    "South Asia",
                    "Europe & Central Asia",
                    "China",
                    "United Arab Emirates",
                    "Middle East & North Africa",
                    "East Asia & Pacific",
                    "Congo, Dem. Rep.",
                    "Sub-Saharan Africa",
                    "World"
                  ],
                  "yaxis": "y"
                },
                {
                  "hovertemplate": "<b>%{text}</b><br>Current: $%{x:.1f}M<br>Growth: %{y:.1f}%<extra></extra>",
                  "marker": {
                    "color": {
                      "bdata": "gBaXVIrtp0CA/JUWVQKZQMBZxg1tE5ZAgLsaILC6gEAA17fb99R3QACYw0SaeXVAwEGmlnbocEBAgPmO1v5vQADo8+JJjWxAQOPDukNqZkAwJEN+TbBgQIBntvBhHlZAIN1lKPp8U0Dgcyw/lbBPQABmS5eMHEpAMEfvcZbKSECgt7MM66lGQEBYUAHz/UJAAE4uOC1fQkAAWbkKc5VBQAAci9+GZT5AwLVEbzLWPECAjvPvtaw4QIAvOQ8nSDhAgBpJ8IIlOECAE1JLcy03QADsSa/2LzRAAJeSFCN4MkCAex8qBxEtQIC8iqsshSxAABuEnNMKLEAAtIvcUfcnQIB+Hp98CCVAAAM6aMBdI0CA5vt4yN8iQAAPbF9ERyJAgEEM5jnZIEAANg7wmx0gQADazJK8Xx1AAPBswvqgG0BAlxP12C4aQIBRTBBm9hRA4CCb6W4rEUAA9G1cB6kKQACu/xVfoQpAgDoiAKAIB0DAK0u1wrQDQEDUwdkXbgFA4KaY1Z0aAUAA0prh/oEAQIAY3oIa//w/AJexKTyo/D8AZSJajaj7PwCeg0UXN/k/gO/sEu6U9j8AwvzUPIb2P4AimZMPP+c/AF9MLym84z+Ayxv8BT3hPzBo2YpvqNg/APtkFKWC1z8AHhpAyWDVP8BPDBaTetE/AKCM6AxLyz8Av8M1cwfGPwAiiZnVO7Q/IEGjzSHqrD8AAAAAAAAAAAAAAAAAAAAAAAAAAAAAAAAAAAAAAAAAAAAAAAAAAAAAAAAAAAAAAAAAAAAAAAAAAAAAAAAAAAAAAAAAAAAAAAAAAAAAAAAAAAAAAAAAAAAAAAAAAAAAAAAAAAAAAAAAAAAAAAAAAAAAAAAAAAAAAAAAAAAAAAAAAAAAAAAAAAAAAAAAAAAAAAAAAAAAAAAAAAAAAAAAAAAAAAAAAAAAAAAAAAAAAAAAAAAAAAAAAAAAAAAAAAAAAAAAAAAAAAAAAAAAAAAAAAAAAAAAAAAAAAAAAAAAAAAAAA==",
                      "dtype": "f8"
                    },
                    "colorbar": {
                      "len": 0.3,
                      "title": {
                        "text": "2025 Value ($M)"
                      },
                      "x": 1.15,
                      "y": 0.85
                    },
                    "colorscale": [
                      [
                        0,
                        "#440154"
                      ],
                      [
                        0.1111111111111111,
                        "#482878"
                      ],
                      [
                        0.2222222222222222,
                        "#3e4989"
                      ],
                      [
                        0.3333333333333333,
                        "#31688e"
                      ],
                      [
                        0.4444444444444444,
                        "#26828e"
                      ],
                      [
                        0.5555555555555556,
                        "#1f9e89"
                      ],
                      [
                        0.6666666666666666,
                        "#35b779"
                      ],
                      [
                        0.7777777777777778,
                        "#6ece58"
                      ],
                      [
                        0.8888888888888888,
                        "#b5de2b"
                      ],
                      [
                        1,
                        "#fde725"
                      ]
                    ],
                    "showscale": true,
                    "size": {
                      "bdata": "B6mFEtNXM0DUxOe0QY8xQOZGbF/FhjJABxcVLjggJECypulPZdAsQMXuLq/KsCxAQ+foGUXXK0CGkZEngMwnQMgM1ZYkKCtAMjuyw30rLEDWCB1JOHUgQHoGIWhfnjBAaNNTb9SLG0DMB93wYtIkQAtNF5DCcDBAkk33m3eLIEBjQHrduagVQG8+KBulAwhAUvtUCF7zMEA4ylSUmN4lQIAgMXextipAOpdKXy7KHkDgv9YHSkMRQOrCleeyLDNALCRZdTWGM0CYAI3LIiQuQBfcq+ouMylABnieEEzFK0BgZRSR3wgrQGo4TlgtpylAITBiKGKMJUBeEfvbr4gsQCPTOXFFGipAB/8NlVieMED+XEnlyJsoQLpg1nhEVChAf7XNacRPKEDNpADcdewCQOC+Y2fSji5A7+BqChKYJUDI17du7SssQOgJksDVgRpAchRv3gi1IUBWwJW9zf8wQNra3+iAni1AV4Yt8LeBEUDKQOzAaCwyQP2n7aR1eipAyTkzZUbcJ0Bebbq6NOMyQFUdW9PjRCxAEsGTrIwbKEC750tDJCAtQOAHYtEBsiFAlBnP4FFoKUA6qIf/MhspQJY5AHxR4SlAG8BPRLm+GkAG9pe+7wIiQBvYYn+BBCBANHOUJtSt8T9evJ8cQYUlQMIRvi8S4QlApO2c75q89j/WfG7OduwxQOVybaExPAJAcy+cW8Cj7j8wzHhl1PoeQGbpBgXF5hNAyG6VNRJCIEAtvvlZG0oZQMEwW2zH+Pc/uGNAJbEIIUCbJr/NTh4CQPtxykQXGA9A1HtrN8J4KEAPh3sCJUQWQJI/+GqN/BRA5VjzgvSeJUC9Tacxlu0MQN7sMGykMQBAtq7u8QjfIEDDEKodhjUKQJtREmaMcxtAfsI/7kakMkBWSs+AvSghQN6RM/CfSxlAYvQy7vO3EECaExU0dYYrQGYO6LyUZgxAjxioqHdbIEDV8JvcEWsMQJZwBT+tRBFA+g/PW57PCEDnRAeJInYVQA==",
                      "dtype": "f8"
                    }
                  },
                  "mode": "markers",
                  "name": "Markets",
                  "text": [
                    "World",
                    "Sub-Saharan Africa",
                    "Congo, Dem. Rep.",
                    "East Asia & Pacific",
                    "Middle East & North Africa",
                    "United Arab Emirates",
                    "China",
                    "Europe & Central Asia",
                    "South Asia",
                    "India",
                    "Hong Kong, China",
                    "Ethiopia(excludes Eritrea)",
                    "United Kingdom",
                    "Singapore",
                    "Congo, Rep.",
                    "Pakistan",
                    "North America",
                    "United States",
                    "Switzerland",
                    "Germany",
                    "Thailand",
                    "Luxembourg",
                    "South Sudan",
                    "Netherlands",
                    "Egypt, Arab Rep.",
                    "Uganda",
                    "Belgium",
                    "Japan",
                    "Italy",
                    "Sudan",
                    "Malaysia",
                    "Ireland",
                    "Central African Republic",
                    "Zambia",
                    "Qatar",
                    "Finland",
                    "France",
                    "Tanzania",
                    "Canada",
                    "Spain",
                    "Poland",
                    "Korea, Rep.",
                    "Vietnam",
                    "Ghana",
                    "Russian Federation",
                    "Kazakhstan",
                    "Greece",
                    "Other Asia, nes",
                    "Iran, Islamic Rep.",
                    "Australia",
                    "Burkina Faso",
                    "Azerbaijan",
                    "Nigeria",
                    "Saudi Arabia",
                    "Sweden",
                    "Austria",
                    "Zimbabwe",
                    "Jordan",
                    "Korea, Dem. Rep.",
                    "Mauritius",
                    "Somalia",
                    "Ukraine",
                    "Yemen",
                    "Niger",
                    "Cameroon",
                    "Malawi",
                    "Israel",
                    "Hungary",
                    "Cote d'Ivoire",
                    "Burundi",
                    "Bulgaria",
                    "Bangladesh",
                    "Afghanistan",
                    "Eritrea",
                    "Eswatini",
                    "Czech Republic",
                    "Angola",
                    "Kyrgyz Republic",
                    "Indonesia",
                    "Oman",
                    "Norway",
                    "New Zealand",
                    "Myanmar",
                    "Madagascar",
                    "Morocco",
                    "Mozambique",
                    "Latin America & Caribbean",
                    "Kenya",
                    "Kuwait",
                    "Senegal",
                    "South Africa",
                    "Sri Lanka",
                    "Tunisia",
                    "Turkey",
                    "Uzbekistan"
                  ],
                  "type": "scatter",
                  "x": {
                    "bdata": "2IFzRhSNn0CNI9bikziMQOIBZVMuAohAH/mDgedVaECWsgxxrCODQIVa07xjcoJApmH4iJgwWEAhPNo4YpRkQA8LtaZ5kVtAi76CNGPLUUB3MjhKXrlDQEc9RKM7REJAs7W+SGg7R0DPTgZHyVtAQFIst7Qa4jNAGjkLe9ptQ0BqZcIv9fs6QLFoOjsZtDdACYofY+76MECWCb/UzxsrQPGdmPViKPw/8Z2Y9WL4JECL22gAbwE2QJq2f2WlyS1AaoKo+wDULkBZwARu3cU2QGKh1jTviCxAEoPAyqHFHkBDlZo90KodQMuEX+rn7RhAXRYTm48LGkDL2xFOCx4cQNUmTu53KOM/Olj/5zBfDkDpspjYfJwHQB6PGaiM/w1A1QRR9wFIE0AgRgiPNo4cQMnlP6TfPgpAWkdVE0TdAkAkRWRYxZsCQNz0Zz9SxAFAQvFjzF1rEUCXPnRBfUv/P5DVrZ6TfhBA910R/G8lFkD9n8N8eQHtP3QMyF7v/us/1A5/Tdao7D+3tBoS99jxP5d4QNmUK+Y/3+ALk6mC5j+rlQm/1M/nPzoBTYQNz/8/5NpQMc7f4T8ZBFYOLbLjP2cKndfYJdI/1JrmHafo2j+1w1+TNerbP85wAz4/jMQ/m3ecoiO56z92GmmpvB3TP5351RwgmMs/SOF6FK5H3T/eGtgqweKwP+MUHcnlP7Q/MCqpE9BEiD8h6j4AqU18P7N78rBQa5o/YfiImBIJD0DGihpMw/BxP6Z+3lSkwpg/egH20akrwz9wDWyVYHGYPyDSb18Hzmk/2sTJ/Q5FsT9kjXqIRndgP07zjlN0JLc/E0TdByC1sT+vlGWIY13IPxJJ9DKK5b4/AFeyYyMQ4j/MXUvIBz3wP0ymCkYldaI/zxQ6r7FLlD9HlPYGX5i0Py0JUFPL1qo/xVp8CoDBJ0B1B7Ezhc6rP8bE5uPaUJE/F2pN845T5T+wOJz51RywP2+70FynkXY/KNU+HY+ZG0Axsfm4NlTUPw==",
                    "dtype": "f8"
                  },
                  "xaxis": "x2",
                  "y": {
                    "bdata": "DFhFtKvWSUCM59AUNE9TQGRpIlGg+VRAe0WdvTzfZUCP6gOO295CwIEsR0Zl5UTAWT8q391yZkA3TSH4W7xLQJXtwnq1yFpAZmYF+9v9YkDJa7lbKc5tQACMDcSqxWFA7TRwqETxUEAr54fYFW5XQNAz1grDVGRAugrGn1iZO0BTlVx6lP5QQGy0hhaEH05As4mVogAZXUBafpYxnO5jQPjC0YTdbJlALiSOGsvgZUCnOYh5B0IoQDf8niUzhE9A2ZJNzYVTTEBwcxpyzG38PxXOOxAHv0RAC3MEAIiCYUDBEifo0PxXQJHVQ/nfGWBAUsrWlX/VXEAkCHXnMp5RQM7b/jdk4plAsHOgzsFhY0B2+5ol8HdrQGwvCmw892FAiLH7igKxUkC0clWptL4pQCh7kIe19V5A/SMRFH0daEA7gMgaGa1mQGcKooIg/2BAaJUa4Vzw9r8G/1W0YphRQP+RScJVRjPAbXMKf4n/R8DfrgvGInhlQOTiPx81oWJA97SXuwZXYUCMc2jrKj9VQHfuEGuSMmRAOLrjMZtTY0CV8Q9K24lgQIQcHnmWujTAVqe+fo8VY0AbQfPpCxdgQKECuHUHhmNARHY4CiBXR0DJb9OhtoE3QNzXXmArgGFAXirfSI7MTMA1hu1oN6onQDTgt7c4rzpAKJ0d3UeySsCPfRe+ah1kQE0lU1zSELS/n6mICieJd0AAAAAAAABZwAAAAAAAAFnAAAAAAAAAWcAAAAAAAABZwAAAAAAAAFnAAAAAAAAAWcAAAAAAAABZwAAAAAAAAFnAAAAAAAAAWcAAAAAAAABZwAAAAAAAAFnAAAAAAAAAWcAAAAAAAABZwAAAAAAAAFnAAAAAAAAAWcAAAAAAAABZwAAAAAAAAFnAAAAAAAAAWcAAAAAAAABZwAAAAAAAAFnAAAAAAAAAWcAAAAAAAABZwAAAAAAAAFnAAAAAAAAAWcAAAAAAAABZwAAAAAAAAFnAAAAAAAAAWcAAAAAAAABZwA==",
                    "dtype": "f8"
                  },
                  "yaxis": "y2"
                },
                {
                  "marker": {
                    "color": [
                      "green",
                      "green",
                      "green",
                      "green",
                      "green",
                      "green",
                      "green",
                      "green",
                      "green",
                      "green",
                      "green",
                      "green",
                      "green",
                      "green",
                      "green"
                    ]
                  },
                  "name": "Growth %",
                  "orientation": "h",
                  "text": {
                    "bdata": "AAAAAADwY0DNzMzMzBxkQDMzMzMzM2RAMzMzMzNTZECamZmZmXllQAAAAAAA4GVAAAAAAADgZUAzMzMzM3NmQM3MzMzMrGZAzczMzMwcaEBmZmZmZnZrQM3MzMzMzG1AmpmZmZmJd0DNzMzMzGyZQGZmZmZm4plA",
                    "dtype": "f8"
                  },
                  "textposition": "outside",
                  "type": "bar",
                  "x": {
                    "bdata": "Wn6WMZzuY0CPfRe+ah1kQHfuEGuSMmRA0DPWCsNUZEDfrgvGInhlQHtFnb0832VALiSOGsvgZUBZPyrf3XJmQDuAyBoZrWZA/SMRFH0daEB2+5ol8HdrQMlruVspzm1An6mICieJd0D4wtGE3WyZQM7b/jdk4plA",
                    "dtype": "f8"
                  },
                  "xaxis": "x3",
                  "y": [
                    "Germany",
                    "Cameroon",
                    "Burkina Faso",
                    "Congo, Rep.",
                    "Greece",
                    "East Asia & Pacific",
                    "Luxembourg",
                    "China",
                    "Poland",
                    "Spain",
                    "Qatar",
                    "Hong Kong, China",
                    "Israel",
                    "Thailand",
                    "Central African Republic"
                  ],
                  "yaxis": "y3"
                },
                {
                  "hovertemplate": "<b>%{text}</b><br>Confidence: %{x:.0f}%<br>2025 Value: $%{y:.1f}M<extra></extra>",
                  "marker": {
                    "color": {
                      "bdata": "DFhFtKvWSUCM59AUNE9TQGRpIlGg+VRAe0WdvTzfZUCP6gOO295CwIEsR0Zl5UTAWT8q391yZkA3TSH4W7xLQJXtwnq1yFpAZmYF+9v9YkDJa7lbKc5tQACMDcSqxWFA7TRwqETxUEAr54fYFW5XQNAz1grDVGRAugrGn1iZO0BTlVx6lP5QQGy0hhaEH05As4mVogAZXUBafpYxnO5jQPjC0YTdbJlALiSOGsvgZUCnOYh5B0IoQDf8niUzhE9A2ZJNzYVTTEBwcxpyzG38PxXOOxAHv0RAC3MEAIiCYUDBEifo0PxXQJHVQ/nfGWBAUsrWlX/VXEAkCHXnMp5RQM7b/jdk4plAsHOgzsFhY0B2+5ol8HdrQGwvCmw892FAiLH7igKxUkC0clWptL4pQCh7kIe19V5A/SMRFH0daEA7gMgaGa1mQGcKooIg/2BAaJUa4Vzw9r8G/1W0YphRQP+RScJVRjPAbXMKf4n/R8DfrgvGInhlQOTiPx81oWJA97SXuwZXYUCMc2jrKj9VQHfuEGuSMmRAOLrjMZtTY0CV8Q9K24lgQIQcHnmWujTAVqe+fo8VY0AbQfPpCxdgQKECuHUHhmNARHY4CiBXR0DJb9OhtoE3QNzXXmArgGFAXirfSI7MTMA1hu1oN6onQDTgt7c4rzpAKJ0d3UeySsCPfRe+ah1kQE0lU1zSELS/n6mICieJd0AAAAAAAABZwAAAAAAAAFnAAAAAAAAAWcAAAAAAAABZwAAAAAAAAFnAAAAAAAAAWcAAAAAAAABZwAAAAAAAAFnAAAAAAAAAWcAAAAAAAABZwAAAAAAAAFnAAAAAAAAAWcAAAAAAAABZwAAAAAAAAFnAAAAAAAAAWcAAAAAAAABZwAAAAAAAAFnAAAAAAAAAWcAAAAAAAABZwAAAAAAAAFnAAAAAAAAAWcAAAAAAAABZwAAAAAAAAFnAAAAAAAAAWcAAAAAAAABZwAAAAAAAAFnAAAAAAAAAWcAAAAAAAABZwA==",
                      "dtype": "f8"
                    },
                    "colorbar": {
                      "len": 0.3,
                      "title": {
                        "text": "Growth %"
                      },
                      "x": 1.15,
                      "y": 0.5
                    },
                    "colorscale": [
                      [
                        0,
                        "rgb(165,0,38)"
                      ],
                      [
                        0.1,
                        "rgb(215,48,39)"
                      ],
                      [
                        0.2,
                        "rgb(244,109,67)"
                      ],
                      [
                        0.3,
                        "rgb(253,174,97)"
                      ],
                      [
                        0.4,
                        "rgb(254,224,139)"
                      ],
                      [
                        0.5,
                        "rgb(255,255,191)"
                      ],
                      [
                        0.6,
                        "rgb(217,239,139)"
                      ],
                      [
                        0.7,
                        "rgb(166,217,106)"
                      ],
                      [
                        0.8,
                        "rgb(102,189,99)"
                      ],
                      [
                        0.9,
                        "rgb(26,152,80)"
                      ],
                      [
                        1,
                        "rgb(0,104,55)"
                      ]
                    ],
                    "showscale": true,
                    "size": 8
                  },
                  "mode": "markers",
                  "name": "Confidence",
                  "text": [
                    "World",
                    "Sub-Saharan Africa",
                    "Congo, Dem. Rep.",
                    "East Asia & Pacific",
                    "Middle East & North Africa",
                    "United Arab Emirates",
                    "China",
                    "Europe & Central Asia",
                    "South Asia",
                    "India",
                    "Hong Kong, China",
                    "Ethiopia(excludes Eritrea)",
                    "United Kingdom",
                    "Singapore",
                    "Congo, Rep.",
                    "Pakistan",
                    "North America",
                    "United States",
                    "Switzerland",
                    "Germany",
                    "Thailand",
                    "Luxembourg",
                    "South Sudan",
                    "Netherlands",
                    "Egypt, Arab Rep.",
                    "Uganda",
                    "Belgium",
                    "Japan",
                    "Italy",
                    "Sudan",
                    "Malaysia",
                    "Ireland",
                    "Central African Republic",
                    "Zambia",
                    "Qatar",
                    "Finland",
                    "France",
                    "Tanzania",
                    "Canada",
                    "Spain",
                    "Poland",
                    "Korea, Rep.",
                    "Vietnam",
                    "Ghana",
                    "Russian Federation",
                    "Kazakhstan",
                    "Greece",
                    "Other Asia, nes",
                    "Iran, Islamic Rep.",
                    "Australia",
                    "Burkina Faso",
                    "Azerbaijan",
                    "Nigeria",
                    "Saudi Arabia",
                    "Sweden",
                    "Austria",
                    "Zimbabwe",
                    "Jordan",
                    "Korea, Dem. Rep.",
                    "Mauritius",
                    "Somalia",
                    "Ukraine",
                    "Yemen",
                    "Niger",
                    "Cameroon",
                    "Malawi",
                    "Israel",
                    "Hungary",
                    "Cote d'Ivoire",
                    "Burundi",
                    "Bulgaria",
                    "Bangladesh",
                    "Afghanistan",
                    "Eritrea",
                    "Eswatini",
                    "Czech Republic",
                    "Angola",
                    "Kyrgyz Republic",
                    "Indonesia",
                    "Oman",
                    "Norway",
                    "New Zealand",
                    "Myanmar",
                    "Madagascar",
                    "Morocco",
                    "Mozambique",
                    "Latin America & Caribbean",
                    "Kenya",
                    "Kuwait",
                    "Senegal",
                    "South Africa",
                    "Sri Lanka",
                    "Tunisia",
                    "Turkey",
                    "Uzbekistan"
                  ],
                  "type": "scatter",
                  "x": {
                    "bdata": "SRMn18ctWEAJtiEiEvNVQJ9YR7d2KFdAyVyaOUYoSUAvCPJRPwJSQDtVfa1+7lFAipAxMItmUUDn9XUxoL9NQP0nRd4W+VBA/2RPmi6bUUAMS2RbhpJEQBhIKUL3xVRAIWSUxWQ3QUC/SRSt+wZKQE4gHTTzjFRA9yD1glWuREB80NhU6BI7QAtO8mGOBC5AJjpqijUwVUDG/Gm5PlZLQFC0fuouslBAhJ6O+1w+Q0DYb8yJHJQ1QKQze6Hf91dAN22v0sJnWEBfIDi/ldZSQB3TVqX6f09ABAtjik9bUUBcv6y6i+VQQELjMFd8CFBAKbx6snrvSkDb6nzpbdVRQPYjxGZrUFBAyX5Ruu7FVEA9tJseu8JOQOn4C5dVaU5A3yJBhLVjTkAAzgBTk6cnQExXnoBDGVNAK5kFjRb+SkDd5jJldJtRQDFGW5glkUBAj9kKFksiRkBsMPsswT9VQMjoi5EQg1JA7ec47CXiNUD8UCfxgrdWQP6IFIeJjFBAOwiA/lfTTUC1CGnpAZxXQFXyGGQOq1FAV7G4128iTkDVcA+qFjRSQNiJukWCHkZA+d8CWWbCT0BJkmm//2FPQP4jgO3SLFBAEdixyjO3QECH8z2uq4NGQCKOO9+hBURAAZA5MEkZFkB2q8djkeZKQBnL1l2rLDBADSmEq8FrHEAMHAqClGdWQJ7PyAk+yyZAqJ1BOVgmE0Cef2u/xFxDQMCjSEZ24DhAesr6wpZSREC4LXgwopw/QPH8cUf59h1ApnyQbt1KRUBC8C6B4qUmQD2H/ooObzNAyVpGxfKWTkDTaBpDLtU7QHdPtsWwOzpAHi+wo7EGS0CWkAjffRQyQBUoPYcNPiRAY1pqLssWRUB6SorSc2EwQAFzy783KEFAHrPPqVhNV0DrHAPh7HJFQFZ2QOyHnj9AerG/6fDlNEBALI1ACTRRQAAJEfYcwDFAsx7SklVyRECFduEp68IxQLvMxo7YlTVA+dPC8oUDL0AhFkkrq9M6QA==",
                    "dtype": "f8"
                  },
                  "xaxis": "x4",
                  "y": {
                    "bdata": "gBaXVIrtp0CA/JUWVQKZQMBZxg1tE5ZAgLsaILC6gEAA17fb99R3QACYw0SaeXVAwEGmlnbocEBAgPmO1v5vQADo8+JJjWxAQOPDukNqZkAwJEN+TbBgQIBntvBhHlZAIN1lKPp8U0Dgcyw/lbBPQABmS5eMHEpAMEfvcZbKSECgt7MM66lGQEBYUAHz/UJAAE4uOC1fQkAAWbkKc5VBQAAci9+GZT5AwLVEbzLWPECAjvPvtaw4QIAvOQ8nSDhAgBpJ8IIlOECAE1JLcy03QADsSa/2LzRAAJeSFCN4MkCAex8qBxEtQIC8iqsshSxAABuEnNMKLEAAtIvcUfcnQIB+Hp98CCVAAAM6aMBdI0CA5vt4yN8iQAAPbF9ERyJAgEEM5jnZIEAANg7wmx0gQADazJK8Xx1AAPBswvqgG0BAlxP12C4aQIBRTBBm9hRA4CCb6W4rEUAA9G1cB6kKQACu/xVfoQpAgDoiAKAIB0DAK0u1wrQDQEDUwdkXbgFA4KaY1Z0aAUAA0prh/oEAQIAY3oIa//w/AJexKTyo/D8AZSJajaj7PwCeg0UXN/k/gO/sEu6U9j8AwvzUPIb2P4AimZMPP+c/AF9MLym84z+Ayxv8BT3hPzBo2YpvqNg/APtkFKWC1z8AHhpAyWDVP8BPDBaTetE/AKCM6AxLyz8Av8M1cwfGPwAiiZnVO7Q/IEGjzSHqrD8AAAAAAAAAAAAAAAAAAAAAAAAAAAAAAAAAAAAAAAAAAAAAAAAAAAAAAAAAAAAAAAAAAAAAAAAAAAAAAAAAAAAAAAAAAAAAAAAAAAAAAAAAAAAAAAAAAAAAAAAAAAAAAAAAAAAAAAAAAAAAAAAAAAAAAAAAAAAAAAAAAAAAAAAAAAAAAAAAAAAAAAAAAAAAAAAAAAAAAAAAAAAAAAAAAAAAAAAAAAAAAAAAAAAAAAAAAAAAAAAAAAAAAAAAAAAAAAAAAAAAAAAAAAAAAAAAAAAAAAAAAAAAAAAAAAAAAAAAAA==",
                    "dtype": "f8"
                  },
                  "yaxis": "y4"
                },
                {
                  "line": {
                    "color": "blue",
                    "width": 2
                  },
                  "marker": {
                    "color": "blue",
                    "size": 8
                  },
                  "mode": "markers+lines",
                  "name": "Historical CAGR",
                  "type": "scatter",
                  "x": [
                    "United Arab Emirates",
                    "Middle East & North Africa",
                    "Pakistan",
                    "World",
                    "Europe & Central Asia",
                    "United States",
                    "United Kingdom",
                    "North America",
                    "Sub-Saharan Africa",
                    "Congo, Dem. Rep.",
                    "Singapore",
                    "South Asia",
                    "Switzerland",
                    "Ethiopia(excludes Eritrea)",
                    "India",
                    "Germany",
                    "Congo, Rep.",
                    "East Asia & Pacific",
                    "China",
                    "Hong Kong, China"
                  ],
                  "xaxis": "x5",
                  "y": {
                    "bdata": "zB+H+xxAVkAcbauuMKxTQCDNmKheBPm/CpfJMc0UM0CgFbCSXHIhwDzLsjkoGPe/lEcHXgMf9T+46OKxZuHzP54CHTQQszNA/Y2dSHDbNkCSPkRzpq8SwBNXHBkyljRAKZSk3s7uQMCK5uOPsCRWQBDMtmD7RE9AQWFFUPiaIUDMhHDjfDhsQMBJCiLtLARAbNFaq0YHSEDIGlTSoxIqwA==",
                    "dtype": "f8"
                  },
                  "yaxis": "y5"
                },
                {
                  "line": {
                    "color": "red",
                    "width": 2
                  },
                  "marker": {
                    "color": "red",
                    "size": 8
                  },
                  "mode": "markers+lines",
                  "name": "Predicted CAGR",
                  "type": "scatter",
                  "x": [
                    "United Arab Emirates",
                    "Middle East & North Africa",
                    "Pakistan",
                    "World",
                    "Europe & Central Asia",
                    "United States",
                    "United Kingdom",
                    "North America",
                    "Sub-Saharan Africa",
                    "Congo, Dem. Rep.",
                    "Singapore",
                    "South Asia",
                    "Switzerland",
                    "Ethiopia(excludes Eritrea)",
                    "India",
                    "Germany",
                    "Congo, Rep.",
                    "East Asia & Pacific",
                    "China",
                    "Hong Kong, China"
                  ],
                  "xaxis": "x5",
                  "y": {
                    "bdata": "QtvwJEeBMMCWhFXJ+DgtwKjpVjQp7SBAGf6xIv7KLUDaaEsIgrEvQGbApOpKBTFAY1owkvnSMkAuoSRkit8yQLJbZyi/BDVAkgnO4zKENkDihrCey6g4QFvB4b4deTtA4PFRJg5YPUCsUjSgJSVBQIZj4THvCEJAxu33OJy0QkDCUeVdc/xCQIYlbZmIDERAlSeTB0RwREBvdehd2xFJQA==",
                    "dtype": "f8"
                  },
                  "yaxis": "y5"
                },
                {
                  "hovertemplate": "<b>World</b><br>Year: %{x}<br>Value: $%{y:.1f}M<extra></extra>",
                  "line": {
                    "width": 2
                  },
                  "mode": "lines+markers",
                  "name": "World",
                  "type": "scatter",
                  "x": [
                    2018,
                    2019,
                    2020,
                    2021,
                    2022,
                    2023,
                    2024,
                    2025
                  ],
                  "xaxis": "x6",
                  "y": [
                    1004.20117,
                    1131.95607,
                    1431.17631,
                    1562.50448,
                    2019.2698,
                    2290.559459651995,
                    2659.160219199024,
                    3062.7701766219107
                  ],
                  "yaxis": "y6"
                },
                {
                  "hovertemplate": "<b>Sub-Saharan Africa</b><br>Year: %{x}<br>Value: $%{y:.1f}M<extra></extra>",
                  "line": {
                    "width": 2
                  },
                  "mode": "lines+markers",
                  "name": "Sub-Saharan Africa",
                  "type": "scatter",
                  "x": [
                    2018,
                    2019,
                    2020,
                    2021,
                    2022,
                    2023,
                    2024,
                    2025
                  ],
                  "xaxis": "x6",
                  "y": [
                    439.89966,
                    499.9552,
                    472.64413,
                    781.3050400000001,
                    903.0722099999999,
                    1096.5325401468726,
                    1332.1508442072372,
                    1600.5830939708103
                  ],
                  "yaxis": "y6"
                },
                {
                  "hovertemplate": "<b>Congo, Dem. Rep.</b><br>Year: %{x}<br>Value: $%{y:.1f}M<extra></extra>",
                  "line": {
                    "width": 2
                  },
                  "mode": "lines+markers",
                  "name": "Congo, Dem. Rep.",
                  "type": "scatter",
                  "x": [
                    2018,
                    2019,
                    2020,
                    2021,
                    2022,
                    2023,
                    2024,
                    2025
                  ],
                  "xaxis": "x6",
                  "y": [
                    337.21987,
                    372.79841,
                    392.32615999999996,
                    587.37077,
                    768.27262,
                    931.1417942419066,
                    1155.3504503432341,
                    1412.8564978592185
                  ],
                  "yaxis": "y6"
                },
                {
                  "hovertemplate": "<b>East Asia & Pacific</b><br>Year: %{x}<br>Value: $%{y:.1f}M<extra></extra>",
                  "line": {
                    "width": 2
                  },
                  "mode": "lines+markers",
                  "name": "East Asia & Pacific",
                  "type": "scatter",
                  "x": [
                    2018,
                    2019,
                    2020,
                    2021,
                    2022,
                    2023,
                    2024,
                    2025
                  ],
                  "xaxis": "x6",
                  "y": [
                    176.22365,
                    64.78733,
                    57.839400000000005,
                    86.85978,
                    194.68451000000002,
                    252.3997875635905,
                    376.9218070775278,
                    535.3359987343283
                  ],
                  "yaxis": "y6"
                },
                {
                  "hovertemplate": "<b>Middle East & North Africa</b><br>Year: %{x}<br>Value: $%{y:.1f}M<extra></extra>",
                  "line": {
                    "width": 2
                  },
                  "mode": "lines+markers",
                  "name": "Middle East & North Africa",
                  "type": "scatter",
                  "x": [
                    2018,
                    2019,
                    2020,
                    2021,
                    2022,
                    2023,
                    2024,
                    2025
                  ],
                  "xaxis": "x6",
                  "y": [
                    60.07193,
                    351.85447,
                    666.05973,
                    451.68002,
                    612.4592,
                    592.1571743568784,
                    514.969260815531,
                    381.3105122739071
                  ],
                  "yaxis": "y6"
                }
              ],
              "layout": {
                "annotations": [
                  {
                    "font": {
                      "size": 16
                    },
                    "showarrow": false,
                    "text": "📊 Top 15 Countries by Forecasted 2025 Value",
                    "x": 0.2125,
                    "xanchor": "center",
                    "xref": "paper",
                    "y": 1,
                    "yanchor": "bottom",
                    "yref": "paper"
                  },
                  {
                    "font": {
                      "size": 16
                    },
                    "showarrow": false,
                    "text": "🎯 Growth Potential vs Current Value",
                    "x": 0.7875,
                    "xanchor": "center",
                    "xref": "paper",
                    "y": 1,
                    "yanchor": "bottom",
                    "yref": "paper"
                  },
                  {
                    "font": {
                      "size": 16
                    },
                    "showarrow": false,
                    "text": "📈 Predicted Growth by Country",
                    "x": 0.2125,
                    "xanchor": "center",
                    "xref": "paper",
                    "y": 0.6266666666666667,
                    "yanchor": "bottom",
                    "yref": "paper"
                  },
                  {
                    "font": {
                      "size": 16
                    },
                    "showarrow": false,
                    "text": "🎲 Model Confidence Analysis",
                    "x": 0.7875,
                    "xanchor": "center",
                    "xref": "paper",
                    "y": 0.6266666666666667,
                    "yanchor": "bottom",
                    "yref": "paper"
                  },
                  {
                    "font": {
                      "size": 16
                    },
                    "showarrow": false,
                    "text": "📉 Historical vs Predicted CAGR Comparison",
                    "x": 0.2125,
                    "xanchor": "center",
                    "xref": "paper",
                    "y": 0.25333333333333335,
                    "yanchor": "bottom",
                    "yref": "paper"
                  },
                  {
                    "font": {
                      "size": 16
                    },
                    "showarrow": false,
                    "text": "🔮 Time Series Forecast (Top 5 Markets)",
                    "x": 0.7875,
                    "xanchor": "center",
                    "xref": "paper",
                    "y": 0.25333333333333335,
                    "yanchor": "bottom",
                    "yref": "paper"
                  }
                ],
                "height": 1400,
                "showlegend": true,
                "template": {
                  "data": {
                    "bar": [
                      {
                        "error_x": {
                          "color": "#2a3f5f"
                        },
                        "error_y": {
                          "color": "#2a3f5f"
                        },
                        "marker": {
                          "line": {
                            "color": "#E5ECF6",
                            "width": 0.5
                          },
                          "pattern": {
                            "fillmode": "overlay",
                            "size": 10,
                            "solidity": 0.2
                          }
                        },
                        "type": "bar"
                      }
                    ],
                    "barpolar": [
                      {
                        "marker": {
                          "line": {
                            "color": "#E5ECF6",
                            "width": 0.5
                          },
                          "pattern": {
                            "fillmode": "overlay",
                            "size": 10,
                            "solidity": 0.2
                          }
                        },
                        "type": "barpolar"
                      }
                    ],
                    "carpet": [
                      {
                        "aaxis": {
                          "endlinecolor": "#2a3f5f",
                          "gridcolor": "white",
                          "linecolor": "white",
                          "minorgridcolor": "white",
                          "startlinecolor": "#2a3f5f"
                        },
                        "baxis": {
                          "endlinecolor": "#2a3f5f",
                          "gridcolor": "white",
                          "linecolor": "white",
                          "minorgridcolor": "white",
                          "startlinecolor": "#2a3f5f"
                        },
                        "type": "carpet"
                      }
                    ],
                    "choropleth": [
                      {
                        "colorbar": {
                          "outlinewidth": 0,
                          "ticks": ""
                        },
                        "type": "choropleth"
                      }
                    ],
                    "contour": [
                      {
                        "colorbar": {
                          "outlinewidth": 0,
                          "ticks": ""
                        },
                        "colorscale": [
                          [
                            0,
                            "#0d0887"
                          ],
                          [
                            0.1111111111111111,
                            "#46039f"
                          ],
                          [
                            0.2222222222222222,
                            "#7201a8"
                          ],
                          [
                            0.3333333333333333,
                            "#9c179e"
                          ],
                          [
                            0.4444444444444444,
                            "#bd3786"
                          ],
                          [
                            0.5555555555555556,
                            "#d8576b"
                          ],
                          [
                            0.6666666666666666,
                            "#ed7953"
                          ],
                          [
                            0.7777777777777778,
                            "#fb9f3a"
                          ],
                          [
                            0.8888888888888888,
                            "#fdca26"
                          ],
                          [
                            1,
                            "#f0f921"
                          ]
                        ],
                        "type": "contour"
                      }
                    ],
                    "contourcarpet": [
                      {
                        "colorbar": {
                          "outlinewidth": 0,
                          "ticks": ""
                        },
                        "type": "contourcarpet"
                      }
                    ],
                    "heatmap": [
                      {
                        "colorbar": {
                          "outlinewidth": 0,
                          "ticks": ""
                        },
                        "colorscale": [
                          [
                            0,
                            "#0d0887"
                          ],
                          [
                            0.1111111111111111,
                            "#46039f"
                          ],
                          [
                            0.2222222222222222,
                            "#7201a8"
                          ],
                          [
                            0.3333333333333333,
                            "#9c179e"
                          ],
                          [
                            0.4444444444444444,
                            "#bd3786"
                          ],
                          [
                            0.5555555555555556,
                            "#d8576b"
                          ],
                          [
                            0.6666666666666666,
                            "#ed7953"
                          ],
                          [
                            0.7777777777777778,
                            "#fb9f3a"
                          ],
                          [
                            0.8888888888888888,
                            "#fdca26"
                          ],
                          [
                            1,
                            "#f0f921"
                          ]
                        ],
                        "type": "heatmap"
                      }
                    ],
                    "histogram": [
                      {
                        "marker": {
                          "pattern": {
                            "fillmode": "overlay",
                            "size": 10,
                            "solidity": 0.2
                          }
                        },
                        "type": "histogram"
                      }
                    ],
                    "histogram2d": [
                      {
                        "colorbar": {
                          "outlinewidth": 0,
                          "ticks": ""
                        },
                        "colorscale": [
                          [
                            0,
                            "#0d0887"
                          ],
                          [
                            0.1111111111111111,
                            "#46039f"
                          ],
                          [
                            0.2222222222222222,
                            "#7201a8"
                          ],
                          [
                            0.3333333333333333,
                            "#9c179e"
                          ],
                          [
                            0.4444444444444444,
                            "#bd3786"
                          ],
                          [
                            0.5555555555555556,
                            "#d8576b"
                          ],
                          [
                            0.6666666666666666,
                            "#ed7953"
                          ],
                          [
                            0.7777777777777778,
                            "#fb9f3a"
                          ],
                          [
                            0.8888888888888888,
                            "#fdca26"
                          ],
                          [
                            1,
                            "#f0f921"
                          ]
                        ],
                        "type": "histogram2d"
                      }
                    ],
                    "histogram2dcontour": [
                      {
                        "colorbar": {
                          "outlinewidth": 0,
                          "ticks": ""
                        },
                        "colorscale": [
                          [
                            0,
                            "#0d0887"
                          ],
                          [
                            0.1111111111111111,
                            "#46039f"
                          ],
                          [
                            0.2222222222222222,
                            "#7201a8"
                          ],
                          [
                            0.3333333333333333,
                            "#9c179e"
                          ],
                          [
                            0.4444444444444444,
                            "#bd3786"
                          ],
                          [
                            0.5555555555555556,
                            "#d8576b"
                          ],
                          [
                            0.6666666666666666,
                            "#ed7953"
                          ],
                          [
                            0.7777777777777778,
                            "#fb9f3a"
                          ],
                          [
                            0.8888888888888888,
                            "#fdca26"
                          ],
                          [
                            1,
                            "#f0f921"
                          ]
                        ],
                        "type": "histogram2dcontour"
                      }
                    ],
                    "mesh3d": [
                      {
                        "colorbar": {
                          "outlinewidth": 0,
                          "ticks": ""
                        },
                        "type": "mesh3d"
                      }
                    ],
                    "parcoords": [
                      {
                        "line": {
                          "colorbar": {
                            "outlinewidth": 0,
                            "ticks": ""
                          }
                        },
                        "type": "parcoords"
                      }
                    ],
                    "pie": [
                      {
                        "automargin": true,
                        "type": "pie"
                      }
                    ],
                    "scatter": [
                      {
                        "fillpattern": {
                          "fillmode": "overlay",
                          "size": 10,
                          "solidity": 0.2
                        },
                        "type": "scatter"
                      }
                    ],
                    "scatter3d": [
                      {
                        "line": {
                          "colorbar": {
                            "outlinewidth": 0,
                            "ticks": ""
                          }
                        },
                        "marker": {
                          "colorbar": {
                            "outlinewidth": 0,
                            "ticks": ""
                          }
                        },
                        "type": "scatter3d"
                      }
                    ],
                    "scattercarpet": [
                      {
                        "marker": {
                          "colorbar": {
                            "outlinewidth": 0,
                            "ticks": ""
                          }
                        },
                        "type": "scattercarpet"
                      }
                    ],
                    "scattergeo": [
                      {
                        "marker": {
                          "colorbar": {
                            "outlinewidth": 0,
                            "ticks": ""
                          }
                        },
                        "type": "scattergeo"
                      }
                    ],
                    "scattergl": [
                      {
                        "marker": {
                          "colorbar": {
                            "outlinewidth": 0,
                            "ticks": ""
                          }
                        },
                        "type": "scattergl"
                      }
                    ],
                    "scattermap": [
                      {
                        "marker": {
                          "colorbar": {
                            "outlinewidth": 0,
                            "ticks": ""
                          }
                        },
                        "type": "scattermap"
                      }
                    ],
                    "scattermapbox": [
                      {
                        "marker": {
                          "colorbar": {
                            "outlinewidth": 0,
                            "ticks": ""
                          }
                        },
                        "type": "scattermapbox"
                      }
                    ],
                    "scatterpolar": [
                      {
                        "marker": {
                          "colorbar": {
                            "outlinewidth": 0,
                            "ticks": ""
                          }
                        },
                        "type": "scatterpolar"
                      }
                    ],
                    "scatterpolargl": [
                      {
                        "marker": {
                          "colorbar": {
                            "outlinewidth": 0,
                            "ticks": ""
                          }
                        },
                        "type": "scatterpolargl"
                      }
                    ],
                    "scatterternary": [
                      {
                        "marker": {
                          "colorbar": {
                            "outlinewidth": 0,
                            "ticks": ""
                          }
                        },
                        "type": "scatterternary"
                      }
                    ],
                    "surface": [
                      {
                        "colorbar": {
                          "outlinewidth": 0,
                          "ticks": ""
                        },
                        "colorscale": [
                          [
                            0,
                            "#0d0887"
                          ],
                          [
                            0.1111111111111111,
                            "#46039f"
                          ],
                          [
                            0.2222222222222222,
                            "#7201a8"
                          ],
                          [
                            0.3333333333333333,
                            "#9c179e"
                          ],
                          [
                            0.4444444444444444,
                            "#bd3786"
                          ],
                          [
                            0.5555555555555556,
                            "#d8576b"
                          ],
                          [
                            0.6666666666666666,
                            "#ed7953"
                          ],
                          [
                            0.7777777777777778,
                            "#fb9f3a"
                          ],
                          [
                            0.8888888888888888,
                            "#fdca26"
                          ],
                          [
                            1,
                            "#f0f921"
                          ]
                        ],
                        "type": "surface"
                      }
                    ],
                    "table": [
                      {
                        "cells": {
                          "fill": {
                            "color": "#EBF0F8"
                          },
                          "line": {
                            "color": "white"
                          }
                        },
                        "header": {
                          "fill": {
                            "color": "#C8D4E3"
                          },
                          "line": {
                            "color": "white"
                          }
                        },
                        "type": "table"
                      }
                    ]
                  },
                  "layout": {
                    "annotationdefaults": {
                      "arrowcolor": "#2a3f5f",
                      "arrowhead": 0,
                      "arrowwidth": 1
                    },
                    "autotypenumbers": "strict",
                    "coloraxis": {
                      "colorbar": {
                        "outlinewidth": 0,
                        "ticks": ""
                      }
                    },
                    "colorscale": {
                      "diverging": [
                        [
                          0,
                          "#8e0152"
                        ],
                        [
                          0.1,
                          "#c51b7d"
                        ],
                        [
                          0.2,
                          "#de77ae"
                        ],
                        [
                          0.3,
                          "#f1b6da"
                        ],
                        [
                          0.4,
                          "#fde0ef"
                        ],
                        [
                          0.5,
                          "#f7f7f7"
                        ],
                        [
                          0.6,
                          "#e6f5d0"
                        ],
                        [
                          0.7,
                          "#b8e186"
                        ],
                        [
                          0.8,
                          "#7fbc41"
                        ],
                        [
                          0.9,
                          "#4d9221"
                        ],
                        [
                          1,
                          "#276419"
                        ]
                      ],
                      "sequential": [
                        [
                          0,
                          "#0d0887"
                        ],
                        [
                          0.1111111111111111,
                          "#46039f"
                        ],
                        [
                          0.2222222222222222,
                          "#7201a8"
                        ],
                        [
                          0.3333333333333333,
                          "#9c179e"
                        ],
                        [
                          0.4444444444444444,
                          "#bd3786"
                        ],
                        [
                          0.5555555555555556,
                          "#d8576b"
                        ],
                        [
                          0.6666666666666666,
                          "#ed7953"
                        ],
                        [
                          0.7777777777777778,
                          "#fb9f3a"
                        ],
                        [
                          0.8888888888888888,
                          "#fdca26"
                        ],
                        [
                          1,
                          "#f0f921"
                        ]
                      ],
                      "sequentialminus": [
                        [
                          0,
                          "#0d0887"
                        ],
                        [
                          0.1111111111111111,
                          "#46039f"
                        ],
                        [
                          0.2222222222222222,
                          "#7201a8"
                        ],
                        [
                          0.3333333333333333,
                          "#9c179e"
                        ],
                        [
                          0.4444444444444444,
                          "#bd3786"
                        ],
                        [
                          0.5555555555555556,
                          "#d8576b"
                        ],
                        [
                          0.6666666666666666,
                          "#ed7953"
                        ],
                        [
                          0.7777777777777778,
                          "#fb9f3a"
                        ],
                        [
                          0.8888888888888888,
                          "#fdca26"
                        ],
                        [
                          1,
                          "#f0f921"
                        ]
                      ]
                    },
                    "colorway": [
                      "#636efa",
                      "#EF553B",
                      "#00cc96",
                      "#ab63fa",
                      "#FFA15A",
                      "#19d3f3",
                      "#FF6692",
                      "#B6E880",
                      "#FF97FF",
                      "#FECB52"
                    ],
                    "font": {
                      "color": "#2a3f5f"
                    },
                    "geo": {
                      "bgcolor": "white",
                      "lakecolor": "white",
                      "landcolor": "#E5ECF6",
                      "showlakes": true,
                      "showland": true,
                      "subunitcolor": "white"
                    },
                    "hoverlabel": {
                      "align": "left"
                    },
                    "hovermode": "closest",
                    "mapbox": {
                      "style": "light"
                    },
                    "paper_bgcolor": "white",
                    "plot_bgcolor": "#E5ECF6",
                    "polar": {
                      "angularaxis": {
                        "gridcolor": "white",
                        "linecolor": "white",
                        "ticks": ""
                      },
                      "bgcolor": "#E5ECF6",
                      "radialaxis": {
                        "gridcolor": "white",
                        "linecolor": "white",
                        "ticks": ""
                      }
                    },
                    "scene": {
                      "xaxis": {
                        "backgroundcolor": "#E5ECF6",
                        "gridcolor": "white",
                        "gridwidth": 2,
                        "linecolor": "white",
                        "showbackground": true,
                        "ticks": "",
                        "zerolinecolor": "white"
                      },
                      "yaxis": {
                        "backgroundcolor": "#E5ECF6",
                        "gridcolor": "white",
                        "gridwidth": 2,
                        "linecolor": "white",
                        "showbackground": true,
                        "ticks": "",
                        "zerolinecolor": "white"
                      },
                      "zaxis": {
                        "backgroundcolor": "#E5ECF6",
                        "gridcolor": "white",
                        "gridwidth": 2,
                        "linecolor": "white",
                        "showbackground": true,
                        "ticks": "",
                        "zerolinecolor": "white"
                      }
                    },
                    "shapedefaults": {
                      "line": {
                        "color": "#2a3f5f"
                      }
                    },
                    "ternary": {
                      "aaxis": {
                        "gridcolor": "white",
                        "linecolor": "white",
                        "ticks": ""
                      },
                      "baxis": {
                        "gridcolor": "white",
                        "linecolor": "white",
                        "ticks": ""
                      },
                      "bgcolor": "#E5ECF6",
                      "caxis": {
                        "gridcolor": "white",
                        "linecolor": "white",
                        "ticks": ""
                      }
                    },
                    "title": {
                      "x": 0.05
                    },
                    "xaxis": {
                      "automargin": true,
                      "gridcolor": "white",
                      "linecolor": "white",
                      "ticks": "",
                      "title": {
                        "standoff": 15
                      },
                      "zerolinecolor": "white",
                      "zerolinewidth": 2
                    },
                    "yaxis": {
                      "automargin": true,
                      "gridcolor": "white",
                      "linecolor": "white",
                      "ticks": "",
                      "title": {
                        "standoff": 15
                      },
                      "zerolinecolor": "white",
                      "zerolinewidth": 2
                    }
                  }
                },
                "title": {
                  "font": {
                    "size": 16
                  },
                  "text": "🔮 Predictive Analytics Dashboard - Rwanda Export Forecasts (2023-2025)",
                  "x": 0.5
                },
                "xaxis": {
                  "anchor": "y",
                  "domain": [
                    0,
                    0.425
                  ],
                  "title": {
                    "text": "Value ($M)"
                  }
                },
                "xaxis2": {
                  "anchor": "y2",
                  "domain": [
                    0.575,
                    1
                  ],
                  "title": {
                    "text": "Current 2022 Value ($M)"
                  }
                },
                "xaxis3": {
                  "anchor": "y3",
                  "domain": [
                    0,
                    0.425
                  ],
                  "title": {
                    "text": "Growth %"
                  }
                },
                "xaxis4": {
                  "anchor": "y4",
                  "domain": [
                    0.575,
                    1
                  ],
                  "title": {
                    "text": "Confidence Score (%)"
                  }
                },
                "xaxis5": {
                  "anchor": "y5",
                  "domain": [
                    0,
                    0.425
                  ],
                  "tickangle": 45,
                  "title": {
                    "text": "Country"
                  }
                },
                "xaxis6": {
                  "anchor": "y6",
                  "domain": [
                    0.575,
                    1
                  ],
                  "title": {
                    "text": "Year"
                  }
                },
                "yaxis": {
                  "anchor": "x",
                  "domain": [
                    0.7466666666666667,
                    1
                  ],
                  "title": {
                    "text": "Country"
                  }
                },
                "yaxis2": {
                  "anchor": "x2",
                  "domain": [
                    0.7466666666666667,
                    1
                  ],
                  "title": {
                    "text": "Growth %"
                  }
                },
                "yaxis3": {
                  "anchor": "x3",
                  "domain": [
                    0.37333333333333335,
                    0.6266666666666667
                  ],
                  "title": {
                    "text": "Country"
                  }
                },
                "yaxis4": {
                  "anchor": "x4",
                  "domain": [
                    0.37333333333333335,
                    0.6266666666666667
                  ],
                  "title": {
                    "text": "2025 Value ($M)"
                  }
                },
                "yaxis5": {
                  "anchor": "x5",
                  "domain": [
                    0,
                    0.25333333333333335
                  ],
                  "title": {
                    "text": "CAGR (%)"
                  }
                },
                "yaxis6": {
                  "anchor": "x6",
                  "domain": [
                    0,
                    0.25333333333333335
                  ],
                  "title": {
                    "text": "Value ($M)"
                  }
                }
              }
            }
          },
          "metadata": {},
          "output_type": "display_data"
        },
        {
          "name": "stdout",
          "output_type": "stream",
          "text": [
            "\n",
            "✅ Predictive analytics dashboard generated successfully!\n",
            "📊 Showing forecasts for 95 partner countries\n"
          ]
        }
      ],
      "source": [
        "# PREDICTIVE ANALYTICS DASHBOARD\n",
        "# Comprehensive visualizations of country-specific forecasts\n",
        "\n",
        "if 'forecast_df' in locals() and not forecast_df.empty:\n",
        "\n",
        "    from plotly.subplots import make_subplots\n",
        "    import plotly.graph_objects as go\n",
        "\n",
        "    # Create 6-panel dashboard\n",
        "    fig = make_subplots(\n",
        "        rows=3, cols=2,\n",
        "        subplot_titles=(\n",
        "            '📊 Top 15 Countries by Forecasted 2025 Value',\n",
        "            '🎯 Growth Potential vs Current Value',\n",
        "            '📈 Predicted Growth by Country',\n",
        "            '🎲 Model Confidence Analysis',\n",
        "            '📉 Historical vs Predicted CAGR Comparison',\n",
        "            '🔮 Time Series Forecast (Top 5 Markets)'\n",
        "        ),\n",
        "        specs=[\n",
        "            [{\"type\": \"bar\"}, {\"type\": \"scatter\"}],\n",
        "            [{\"type\": \"bar\"}, {\"type\": \"scatter\"}],\n",
        "            [{\"type\": \"scatter\"}, {\"type\": \"scatter\"}]\n",
        "        ],\n",
        "        vertical_spacing=0.12,\n",
        "        horizontal_spacing=0.15\n",
        "    )\n",
        "\n",
        "    # PANEL 1: Top 15 by 2025 forecast\n",
        "    top_15 = forecast_df.head(15).sort_values('predicted_2025')\n",
        "    fig.add_trace(\n",
        "        go.Bar(\n",
        "            y=top_15['country'],\n",
        "            x=top_15['predicted_2025'],\n",
        "            orientation='h',\n",
        "            marker_color='lightseagreen',\n",
        "            text=top_15['predicted_2025'].round(1),\n",
        "            textposition='outside',\n",
        "            name='2025 Forecast'\n",
        "        ),\n",
        "        row=1, col=1\n",
        "    )\n",
        "\n",
        "    # PANEL 2: Growth vs Current Value (Bubble chart)\n",
        "    fig.add_trace(\n",
        "        go.Scatter(\n",
        "            x=forecast_df['current_2022'],\n",
        "            y=forecast_df['predicted_growth_percent'],\n",
        "            mode='markers',\n",
        "            marker=dict(\n",
        "                size=forecast_df['confidence_score'] / 5,  # Size by confidence\n",
        "                color=forecast_df['predicted_2025'],\n",
        "                colorscale='Viridis',\n",
        "                showscale=True,\n",
        "                colorbar=dict(title=\"2025 Value ($M)\", x=1.15, len=0.3, y=0.85)\n",
        "            ),\n",
        "            text=forecast_df['country'],\n",
        "            hovertemplate='<b>%{text}</b><br>Current: $%{x:.1f}M<br>Growth: %{y:.1f}%<extra></extra>',\n",
        "            name='Markets'\n",
        "        ),\n",
        "        row=1, col=2\n",
        "    )\n",
        "\n",
        "    # PANEL 3: Growth percentage ranking\n",
        "    top_growth = forecast_df.nlargest(15, 'predicted_growth_percent').sort_values('predicted_growth_percent')\n",
        "    colors_growth = ['red' if x < 0 else 'green' if x > 50 else 'orange' for x in top_growth['predicted_growth_percent']]\n",
        "    fig.add_trace(\n",
        "        go.Bar(\n",
        "            y=top_growth['country'],\n",
        "            x=top_growth['predicted_growth_percent'],\n",
        "            orientation='h',\n",
        "            marker_color=colors_growth,\n",
        "            text=top_growth['predicted_growth_percent'].round(1),\n",
        "            textposition='outside',\n",
        "            name='Growth %'\n",
        "        ),\n",
        "        row=2, col=1\n",
        "    )\n",
        "\n",
        "    # PANEL 4: Confidence vs Predicted Value\n",
        "    fig.add_trace(\n",
        "        go.Scatter(\n",
        "            x=forecast_df['confidence_score'],\n",
        "            y=forecast_df['predicted_2025'],\n",
        "            mode='markers',\n",
        "            marker=dict(\n",
        "                size=8,\n",
        "                color=forecast_df['predicted_growth_percent'],\n",
        "                colorscale='RdYlGn',\n",
        "                showscale=True,\n",
        "                colorbar=dict(title=\"Growth %\", x=1.15, len=0.3, y=0.5)\n",
        "            ),\n",
        "            text=forecast_df['country'],\n",
        "            hovertemplate='<b>%{text}</b><br>Confidence: %{x:.0f}%<br>2025 Value: $%{y:.1f}M<extra></extra>',\n",
        "            name='Confidence'\n",
        "        ),\n",
        "        row=2, col=2\n",
        "    )\n",
        "\n",
        "    # PANEL 5: CAGR Comparison (if historical CAGR is calculable)\n",
        "    # Calculate historical CAGR from WITS data\n",
        "    if 'wits_data' in locals():\n",
        "        historical_cagr = []\n",
        "        for country in forecast_df['country'].head(20):\n",
        "            country_data = wits_data[wits_data['Partner Name'] == country].sort_values('Year')\n",
        "            if len(country_data) >= 2:\n",
        "                first_val = country_data.iloc[0]['Export (US$ Thousand)'] / 1000\n",
        "                last_val = country_data.iloc[-1]['Export (US$ Thousand)'] / 1000\n",
        "                years_diff = country_data.iloc[-1]['Year'] - country_data.iloc[0]['Year']\n",
        "                if first_val > 0 and years_diff > 0:\n",
        "                    hist_cagr = (((last_val / first_val) ** (1/years_diff)) - 1) * 100\n",
        "                    historical_cagr.append({\n",
        "                        'country': country,\n",
        "                        'historical_cagr': hist_cagr,\n",
        "                        'predicted_cagr': forecast_df[forecast_df['country'] == country]['cagr_2022_2025'].values[0]\n",
        "                    })\n",
        "\n",
        "        if historical_cagr:\n",
        "            cagr_df = pd.DataFrame(historical_cagr).sort_values('predicted_cagr')\n",
        "            fig.add_trace(\n",
        "                go.Scatter(\n",
        "                    x=cagr_df['country'],\n",
        "                    y=cagr_df['historical_cagr'],\n",
        "                    mode='markers+lines',\n",
        "                    name='Historical CAGR',\n",
        "                    marker=dict(size=8, color='blue'),\n",
        "                    line=dict(width=2, color='blue')\n",
        "                ),\n",
        "                row=3, col=1\n",
        "            )\n",
        "            fig.add_trace(\n",
        "                go.Scatter(\n",
        "                    x=cagr_df['country'],\n",
        "                    y=cagr_df['predicted_cagr'],\n",
        "                    mode='markers+lines',\n",
        "                    name='Predicted CAGR',\n",
        "                    marker=dict(size=8, color='red'),\n",
        "                    line=dict(width=2, color='red')\n",
        "                ),\n",
        "                row=3, col=1\n",
        "            )\n",
        "\n",
        "    # PANEL 6: Time series for top 5 markets\n",
        "    top_5_markets = forecast_df.head(5)\n",
        "    for idx, row in top_5_markets.iterrows():\n",
        "        country = row['country']\n",
        "        # Get historical data\n",
        "        hist_data = wits_data[wits_data['Partner Name'] == country].sort_values('Year')\n",
        "        hist_years = hist_data['Year'].tolist()\n",
        "        hist_values = (hist_data['Export (US$ Thousand)'] / 1000).tolist()\n",
        "\n",
        "        # Combine with predictions\n",
        "        all_years = hist_years + [2023, 2024, 2025]\n",
        "        all_values = hist_values + [row['predicted_2023'], row['predicted_2024'], row['predicted_2025']]\n",
        "\n",
        "        fig.add_trace(\n",
        "            go.Scatter(\n",
        "                x=all_years,\n",
        "                y=all_values,\n",
        "                mode='lines+markers',\n",
        "                name=country,\n",
        "                line=dict(width=2),\n",
        "                hovertemplate='<b>' + country + '</b><br>Year: %{x}<br>Value: $%{y:.1f}M<extra></extra>'\n",
        "            ),\n",
        "            row=3, col=2\n",
        "        )\n",
        "\n",
        "        # Add vertical line at 2022/2023 boundary\n",
        "        if idx == 0:\n",
        "            fig.add_vline(x=2022.5, line_dash=\"dash\", line_color=\"gray\", row=3, col=2,\n",
        "                         annotation_text=\"Forecast →\", annotation_position=\"top\")\n",
        "\n",
        "    # Update layout\n",
        "    fig.update_xaxes(title_text=\"Value ($M)\", row=1, col=1)\n",
        "    fig.update_xaxes(title_text=\"Current 2022 Value ($M)\", row=1, col=2)\n",
        "    fig.update_xaxes(title_text=\"Growth %\", row=2, col=1)\n",
        "    fig.update_xaxes(title_text=\"Confidence Score (%)\", row=2, col=2)\n",
        "    fig.update_xaxes(title_text=\"Country\", row=3, col=1, tickangle=45)\n",
        "    fig.update_xaxes(title_text=\"Year\", row=3, col=2)\n",
        "\n",
        "    fig.update_yaxes(title_text=\"Country\", row=1, col=1)\n",
        "    fig.update_yaxes(title_text=\"Growth %\", row=1, col=2)\n",
        "    fig.update_yaxes(title_text=\"Country\", row=2, col=1)\n",
        "    fig.update_yaxes(title_text=\"2025 Value ($M)\", row=2, col=2)\n",
        "    fig.update_yaxes(title_text=\"CAGR (%)\", row=3, col=1)\n",
        "    fig.update_yaxes(title_text=\"Value ($M)\", row=3, col=2)\n",
        "\n",
        "    fig.update_layout(\n",
        "        height=1400,\n",
        "        showlegend=True,\n",
        "        title_text=\"🔮 Predictive Analytics Dashboard - Rwanda Export Forecasts (2023-2025)\",\n",
        "        title_font_size=16,\n",
        "        title_x=0.5\n",
        "    )\n",
        "\n",
        "    fig.show()\n",
        "\n",
        "    print(\"\\n✅ Predictive analytics dashboard generated successfully!\")\n",
        "    print(f\"📊 Showing forecasts for {len(forecast_df)} partner countries\")\n",
        "\n",
        "else:\n",
        "    print(\"❌ Forecast data not available. Run the forecasting cell first.\")"
      ]
    },
    {
      "cell_type": "markdown",
      "id": "e03e1deb",
      "metadata": {},
      "source": [
        "# STRATEGIC MARKET PRIORITIZATION BASED ON PREDICTIONS"
      ]
    },
    {
      "cell_type": "code",
      "execution_count": 44,
      "id": "66003b91",
      "metadata": {
        "id": "66003b91",
        "outputId": "7bdbbb25-ab7b-474d-ddc5-b31cdf7eb085"
      },
      "outputs": [
        {
          "name": "stdout",
          "output_type": "stream",
          "text": [
            " STRATEGIC MARKET PRIORITIZATION & ACTION PLAN\n",
            "======================================================================\n",
            "\n",
            "📊 MARKET SEGMENTATION (Based on ML Predictions):\n",
            "\n",
            " TIER A - PRIORITY MARKETS (Immediate Focus):\n",
            "   Criteria: >$50M forecast, >20% growth, >70% confidence\n",
            "   Count: 6 markets\n",
            "\n",
            "    World\n",
            "      • 2025 Forecast: $3062.8M\n",
            "      • Growth: +51.7%\n",
            "      • CAGR: 14.9%\n",
            "      • Confidence: 97%\n",
            "      • Action: Scale existing operations, increase marketing spend\n",
            "\n",
            "    Sub-Saharan Africa\n",
            "      • 2025 Forecast: $1600.6M\n",
            "      • Growth: +77.2%\n",
            "      • CAGR: 21.0%\n",
            "      • Confidence: 88%\n",
            "      • Action: Scale existing operations, increase marketing spend\n",
            "\n",
            "    Congo, Dem. Rep.\n",
            "      • 2025 Forecast: $1412.9M\n",
            "      • Growth: +83.9%\n",
            "      • CAGR: 22.5%\n",
            "      • Confidence: 93%\n",
            "      • Action: Scale existing operations, increase marketing spend\n",
            "\n",
            "    India\n",
            "      • 2025 Forecast: $179.3M\n",
            "      • Growth: +151.9%\n",
            "      • CAGR: 36.1%\n",
            "      • Confidence: 70%\n",
            "      • Action: Scale existing operations, increase marketing spend\n",
            "\n",
            "    Ethiopia(excludes Eritrea)\n",
            "      • 2025 Forecast: $88.5M\n",
            "      • Growth: +142.2%\n",
            "      • CAGR: 34.3%\n",
            "      • Confidence: 83%\n",
            "      • Action: Scale existing operations, increase marketing spend\n",
            "\n",
            " TIER B - GROWTH MARKETS (Strategic Investment):\n",
            "   Criteria: $10-50M forecast, >40% growth, >60% confidence\n",
            "   Count: 10 markets\n",
            "   • Central African Republic       $0.6M → $10.5M (+1657%)\n",
            "   • Thailand                       $1.8M → $30.4M (+1627%)\n",
            "   • Japan                          $7.7M → $18.5M (+140%)\n",
            "\n",
            " TIER C - EMERGING MARKETS (Long-term Potential):\n",
            "   Criteria: <$10M forecast, >80% growth, current >$0.5M\n",
            "   Count: 16 markets\n",
            "   • Qatar                          $3.0M → $9.4M (+220%)\n",
            "   • Spain                          $2.4M → $6.9M (+193%)\n",
            "   • Poland                         $2.3M → $6.5M (+181%)\n",
            "\n",
            "  RISK & VOLATILITY ANALYSIS:\n",
            "   • High Volatility Markets (>50% volatility): 58\n",
            "   • Riskiest Market: Senegal (181% volatility)\n",
            "   • Recommendation: Diversify within these markets, hedge risks\n",
            "   • Low Confidence Forecasts (<50%): 44 countries\n",
            "   • Recommendation: Collect more data, monitor quarterly\n",
            "\n",
            "🤖 MODEL COMPARISON INSIGHTS:\n",
            "   • Linear Model Better: 0 countries (0%)\n",
            "   • Polynomial Model Better: 95 countries (100%)\n",
            "   • Interpretation: Non-linear patterns present\n",
            "\n",
            " STRATEGIC RECOMMENDATIONS BY MODEL:\n",
            "\n",
            "   1️⃣  IMMEDIATE ACTIONS (Next 6 months):\n",
            "      • Focus 60% of export resources on: World, Sub-Saharan Africa\n",
            "      • Establish direct partnerships in these markets\n",
            "      • Increase inventory for Q1 2025 surge\n",
            "\n",
            "   2️⃣  MEDIUM-TERM STRATEGY (6-18 months):\n",
            "      • Develop market entry strategies for 10 growth markets\n",
            "      • Build distribution networks in top 5 Tier B countries\n",
            "      • Invest in local partnerships and marketing\n",
            "\n",
            "   3️⃣  LONG-TERM INVESTMENT (18+ months):\n",
            "      • Monitor 16 emerging markets for entry timing\n",
            "      • Conduct feasibility studies\n",
            "      • Establish initial contact with distributors\n",
            "\n",
            " RECOMMENDED RESOURCE ALLOCATION:\n",
            "   • Tier A (Priority): 96% of resources ($6396.2M potential)\n",
            "   • Tier B (Growth): 3% of resources ($205.5M potential)\n",
            "   • Tier C (Emerging): 1% of resources ($71.3M potential)\n",
            "\n",
            " EXPECTED OUTCOMES (If recommendations implemented):\n",
            "   • Total Export Value (2025): $9257.5M\n",
            "   • Growth vs 2022: +53.0%\n",
            "   • New Market Opportunities: 16 emerging markets\n",
            "   • Risk-Adjusted Return: HIGH (based on confidence scores)\n"
          ]
        }
      ],
      "source": [
        "# STRATEGIC MARKET PRIORITIZATION BASED ON PREDICTIONS\n",
        "if 'forecast_df' in locals() and not forecast_df.empty:\n",
        "\n",
        "    print(\" STRATEGIC MARKET PRIORITIZATION & ACTION PLAN\")\n",
        "    print(\"=\" * 70)\n",
        "\n",
        "    # Define market segments based on predictions\n",
        "    print(\"\\n📊 MARKET SEGMENTATION (Based on ML Predictions):\")\n",
        "\n",
        "    # TIER A: Priority Markets (High value + High growth + High confidence)\n",
        "    tier_a = forecast_df[\n",
        "        (forecast_df['predicted_2025'] > 50) &\n",
        "        (forecast_df['predicted_growth_percent'] > 20) &\n",
        "        (forecast_df['confidence_score'] > 70)\n",
        "    ].copy()\n",
        "\n",
        "    print(f\"\\n TIER A - PRIORITY MARKETS (Immediate Focus):\")\n",
        "    print(f\"   Criteria: >$50M forecast, >20% growth, >70% confidence\")\n",
        "    print(f\"   Count: {len(tier_a)} markets\")\n",
        "\n",
        "    if not tier_a.empty:\n",
        "        tier_a = tier_a.sort_values('predicted_2025', ascending=False)\n",
        "        for idx, row in tier_a.head(5).iterrows():\n",
        "            print(f\"\\n    {row['country']}\")\n",
        "            print(f\"      • 2025 Forecast: ${row['predicted_2025']:.1f}M\")\n",
        "            print(f\"      • Growth: {row['predicted_growth_percent']:+.1f}%\")\n",
        "            print(f\"      • CAGR: {row['cagr_2022_2025']:.1f}%\")\n",
        "            print(f\"      • Confidence: {row['confidence_score']:.0f}%\")\n",
        "            print(f\"      • Action: Scale existing operations, increase marketing spend\")\n",
        "\n",
        "    # TIER B: Growth Markets (High growth potential, medium value)\n",
        "    tier_b = forecast_df[\n",
        "        (forecast_df['predicted_2025'].between(10, 50)) &\n",
        "        (forecast_df['predicted_growth_percent'] > 40) &\n",
        "        (forecast_df['confidence_score'] > 60)\n",
        "    ].copy()\n",
        "\n",
        "    print(f\"\\n TIER B - GROWTH MARKETS (Strategic Investment):\")\n",
        "    print(f\"   Criteria: $10-50M forecast, >40% growth, >60% confidence\")\n",
        "    print(f\"   Count: {len(tier_b)} markets\")\n",
        "\n",
        "    if not tier_b.empty:\n",
        "        tier_b = tier_b.sort_values('predicted_growth_percent', ascending=False)\n",
        "        for idx, row in tier_b.head(3).iterrows():\n",
        "            print(f\"   • {row['country']:30s} ${row['current_2022']:.1f}M → ${row['predicted_2025']:.1f}M ({row['predicted_growth_percent']:+.0f}%)\")\n",
        "\n",
        "    # TIER C: Emerging Markets (Lower value but very high growth)\n",
        "    tier_c = forecast_df[\n",
        "        (forecast_df['predicted_2025'] < 10) &\n",
        "        (forecast_df['predicted_growth_percent'] > 80) &\n",
        "        (forecast_df['current_2022'] > 0.5)\n",
        "    ].copy()\n",
        "\n",
        "    print(f\"\\n TIER C - EMERGING MARKETS (Long-term Potential):\")\n",
        "    print(f\"   Criteria: <$10M forecast, >80% growth, current >$0.5M\")\n",
        "    print(f\"   Count: {len(tier_c)} markets\")\n",
        "\n",
        "    if not tier_c.empty:\n",
        "        tier_c = tier_c.sort_values('predicted_growth_percent', ascending=False)\n",
        "        for idx, row in tier_c.head(3).iterrows():\n",
        "            print(f\"   • {row['country']:30s} ${row['current_2022']:.1f}M → ${row['predicted_2025']:.1f}M ({row['predicted_growth_percent']:+.0f}%)\")\n",
        "\n",
        "    # RISK ASSESSMENT\n",
        "    print(f\"\\n  RISK & VOLATILITY ANALYSIS:\")\n",
        "\n",
        "    high_volatility = forecast_df[forecast_df['volatility'] > 50].sort_values('volatility', ascending=False)\n",
        "    if not high_volatility.empty:\n",
        "        print(f\"   • High Volatility Markets (>50% volatility): {len(high_volatility)}\")\n",
        "        print(f\"   • Riskiest Market: {high_volatility.iloc[0]['country']} ({high_volatility.iloc[0]['volatility']:.0f}% volatility)\")\n",
        "        print(f\"   • Recommendation: Diversify within these markets, hedge risks\")\n",
        "\n",
        "    low_confidence = forecast_df[forecast_df['confidence_score'] < 50]\n",
        "    if not low_confidence.empty:\n",
        "        print(f\"   • Low Confidence Forecasts (<50%): {len(low_confidence)} countries\")\n",
        "        print(f\"   • Recommendation: Collect more data, monitor quarterly\")\n",
        "\n",
        "    # COMPARATIVE MODEL ANALYSIS\n",
        "    print(f\"\\n🤖 MODEL COMPARISON INSIGHTS:\")\n",
        "\n",
        "    # Compare linear vs polynomial performance\n",
        "    better_linear = len(forecast_df[forecast_df['lr_r2'] > forecast_df['poly_r2']])\n",
        "    better_poly = len(forecast_df[forecast_df['poly_r2'] > forecast_df['lr_r2']])\n",
        "\n",
        "    print(f\"   • Linear Model Better: {better_linear} countries ({better_linear/len(forecast_df)*100:.0f}%)\")\n",
        "    print(f\"   • Polynomial Model Better: {better_poly} countries ({better_poly/len(forecast_df)*100:.0f}%)\")\n",
        "    print(f\"   • Interpretation: {'Linear trends dominate' if better_linear > better_poly else 'Non-linear patterns present'}\")\n",
        "\n",
        "    # STRATEGIC RECOMMENDATIONS\n",
        "    print(f\"\\n STRATEGIC RECOMMENDATIONS BY MODEL:\")\n",
        "\n",
        "    print(f\"\\n   1️⃣  IMMEDIATE ACTIONS (Next 6 months):\")\n",
        "    if not tier_a.empty:\n",
        "        top_3_tier_a = tier_a.head(3)['country'].tolist()\n",
        "        print(f\"      • Focus 60% of export resources on: {', '.join(top_3_tier_a[:2])}\")\n",
        "        print(f\"      • Establish direct partnerships in these markets\")\n",
        "        print(f\"      • Increase inventory for Q1 2025 surge\")\n",
        "\n",
        "    print(f\"\\n   2️⃣  MEDIUM-TERM STRATEGY (6-18 months):\")\n",
        "    if not tier_b.empty:\n",
        "        print(f\"      • Develop market entry strategies for {len(tier_b)} growth markets\")\n",
        "        print(f\"      • Build distribution networks in top 5 Tier B countries\")\n",
        "        print(f\"      • Invest in local partnerships and marketing\")\n",
        "\n",
        "    print(f\"\\n   3️⃣  LONG-TERM INVESTMENT (18+ months):\")\n",
        "    if not tier_c.empty:\n",
        "        print(f\"      • Monitor {len(tier_c)} emerging markets for entry timing\")\n",
        "        print(f\"      • Conduct feasibility studies\")\n",
        "        print(f\"      • Establish initial contact with distributors\")\n",
        "\n",
        "    # RESOURCE ALLOCATION RECOMMENDATION\n",
        "    total_tier_a_value = tier_a['predicted_2025'].sum() if not tier_a.empty else 0\n",
        "    total_tier_b_value = tier_b['predicted_2025'].sum() if not tier_b.empty else 0\n",
        "    total_tier_c_value = tier_c['predicted_2025'].sum() if not tier_c.empty else 0\n",
        "    total_value = total_tier_a_value + total_tier_b_value + total_tier_c_value\n",
        "\n",
        "    if total_value > 0:\n",
        "        print(f\"\\n RECOMMENDED RESOURCE ALLOCATION:\")\n",
        "        print(f\"   • Tier A (Priority): {total_tier_a_value/total_value*100:.0f}% of resources (${total_tier_a_value:.1f}M potential)\")\n",
        "        print(f\"   • Tier B (Growth): {total_tier_b_value/total_value*100:.0f}% of resources (${total_tier_b_value:.1f}M potential)\")\n",
        "        print(f\"   • Tier C (Emerging): {total_tier_c_value/total_value*100:.0f}% of resources (${total_tier_c_value:.1f}M potential)\")\n",
        "\n",
        "    # EXPECTED OUTCOMES\n",
        "    print(f\"\\n EXPECTED OUTCOMES (If recommendations implemented):\")\n",
        "    print(f\"   • Total Export Value (2025): ${forecast_df['predicted_2025'].sum():.1f}M\")\n",
        "    print(f\"   • Growth vs 2022: {((forecast_df['predicted_2025'].sum() / forecast_df['current_2022'].sum()) - 1) * 100:+.1f}%\")\n",
        "    print(f\"   • New Market Opportunities: {len(tier_c)} emerging markets\")\n",
        "    print(f\"   • Risk-Adjusted Return: HIGH (based on confidence scores)\")\n",
        "\n",
        "\n",
        "else:\n",
        "    print(\"❌ Forecast data not available for strategic prioritization\")"
      ]
    },
    {
      "cell_type": "code",
      "execution_count": null,
      "id": "LQJwV69bwTKn",
      "metadata": {
        "id": "LQJwV69bwTKn"
      },
      "outputs": [],
      "source": []
    },
    {
      "cell_type": "code",
      "execution_count": null,
      "id": "CfWQzkfowTHf",
      "metadata": {
        "id": "CfWQzkfowTHf"
      },
      "outputs": [],
      "source": []
    },
    {
      "cell_type": "code",
      "execution_count": 45,
      "id": "d9a4e7ca",
      "metadata": {
        "id": "d9a4e7ca",
        "outputId": "ef2e2325-29da-4bd1-df2e-3e3e0741a105"
      },
      "outputs": [
        {
          "name": "stdout",
          "output_type": "stream",
          "text": [
            "📈 CREATING HISTORICAL MARKET ANALYSIS DASHBOARD\n",
            "=======================================================\n"
          ]
        },
        {
          "data": {
            "image/png": "[encoded data removed]",
            "text/plain": [
              "<Figure size 1600x1200 with 4 Axes>"
            ]
          },
          "metadata": {},
          "output_type": "display_data"
        },
        {
          "name": "stdout",
          "output_type": "stream",
          "text": [
            "📊 Historical Analysis Dashboard Created!\n",
            "\n",
            "🔍 KEY HISTORICAL INSIGHTS:\n",
            "   📈 Compound Annual Growth Rate (CAGR): 19.2%\n",
            "   🌍 Partner Diversification Growth: -4.1%\n",
            "   🚀 Strongest Growth Year: 2022 (+29.2%)\n"
          ]
        }
      ],
      "source": [
        "# Historical Market Evolution Visualization\n",
        "if wits_data is not None:\n",
        "\n",
        "    print(\"📈 CREATING HISTORICAL MARKET ANALYSIS DASHBOARD\")\n",
        "    print(\"=\" * 55)\n",
        "\n",
        "    # Create comprehensive historical dashboard\n",
        "    fig, ((ax1, ax2), (ax3, ax4)) = plt.subplots(2, 2, figsize=(16, 12))\n",
        "    fig.suptitle('Rwanda Export Partner Evolution (2018-2022)', fontsize=16, fontweight='bold')\n",
        "\n",
        "    # 1. Total exports trend over 5 years\n",
        "    yearly_data = yearly_summary.copy()\n",
        "    ax1.plot(yearly_data['Year'], yearly_data['Total_Exports_M'],\n",
        "             marker='o', linewidth=3, markersize=8, color='darkblue')\n",
        "    ax1.fill_between(yearly_data['Year'], yearly_data['Total_Exports_M'], alpha=0.3, color='lightblue')\n",
        "    ax1.set_title('Total Export Value Evolution')\n",
        "    ax1.set_xlabel('Year')\n",
        "    ax1.set_ylabel('Export Value ($M)')\n",
        "    ax1.grid(True, alpha=0.3)\n",
        "\n",
        "    # Add value labels\n",
        "    for _, row in yearly_data.iterrows():\n",
        "        ax1.annotate(f'${row[\"Total_Exports_M\"]:.0f}M',\n",
        "                    (row['Year'], row['Total_Exports_M']),\n",
        "                    textcoords=\"offset points\", xytext=(0,10), ha='center')\n",
        "\n",
        "    # 2. Top 10 partners over time (individual countries only)\n",
        "    top_partners_historical = country_data.groupby(['Year', 'Partner Name'])['Export_Value_Millions'].sum().reset_index()\n",
        "    top_10_overall = country_data.groupby('Partner Name')['Export_Value_Millions'].sum().nlargest(10).index\n",
        "\n",
        "    colors = plt.cm.Set3(np.linspace(0, 1, len(top_10_overall)))\n",
        "\n",
        "    for i, partner in enumerate(top_10_overall):\n",
        "        partner_data = top_partners_historical[top_partners_historical['Partner Name'] == partner]\n",
        "        ax2.plot(partner_data['Year'], partner_data['Export_Value_Millions'],\n",
        "                marker='o', label=partner[:15], color=colors[i], linewidth=2)\n",
        "\n",
        "    ax2.set_title('Top Export Partners Evolution')\n",
        "    ax2.set_xlabel('Year')\n",
        "    ax2.set_ylabel('Export Value ($M)')\n",
        "    ax2.legend(bbox_to_anchor=(1.05, 1), loc='upper left', fontsize=8)\n",
        "    ax2.grid(True, alpha=0.3)\n",
        "\n",
        "    # 3. Market diversification (number of partners)\n",
        "    ax3.bar(yearly_data['Year'], yearly_data['Unique_Partners'],\n",
        "            color='green', alpha=0.7, edgecolor='darkgreen')\n",
        "    ax3.set_title('Market Diversification (Number of Partners)')\n",
        "    ax3.set_xlabel('Year')\n",
        "    ax3.set_ylabel('Number of Export Partners')\n",
        "    ax3.grid(True, alpha=0.3)\n",
        "\n",
        "    # Add value labels\n",
        "    for _, row in yearly_data.iterrows():\n",
        "        ax3.text(row['Year'], row['Unique_Partners'] + 1,\n",
        "                f\"{int(row['Unique_Partners'])}\", ha='center', va='bottom')\n",
        "\n",
        "    # 4. Regional distribution evolution\n",
        "    regional_pivot = regional_analysis.pivot(index='Year', columns='Region', values='Export_Value_Millions')\n",
        "    regional_pivot = regional_pivot.fillna(0)\n",
        "\n",
        "    # Select top 5 regions by total value\n",
        "    top_regions = regional_pivot.sum().nlargest(5).index\n",
        "    regional_pivot_top = regional_pivot[top_regions]\n",
        "\n",
        "    regional_pivot_top.plot(kind='area', ax=ax4, alpha=0.7, colormap='viridis')\n",
        "    ax4.set_title('Regional Export Distribution Evolution')\n",
        "    ax4.set_xlabel('Year')\n",
        "    ax4.set_ylabel('Export Value ($M)')\n",
        "    ax4.legend(bbox_to_anchor=(1.05, 1), loc='upper left', fontsize=8)\n",
        "    ax4.grid(True, alpha=0.3)\n",
        "\n",
        "    plt.tight_layout()\n",
        "    plt.show()\n",
        "\n",
        "    print(\"📊 Historical Analysis Dashboard Created!\")\n",
        "\n",
        "    # Key insights\n",
        "    print(f\"\\n🔍 KEY HISTORICAL INSIGHTS:\")\n",
        "\n",
        "    # Growth analysis\n",
        "    cagr = ((yearly_data['Total_Exports_M'].iloc[-1] / yearly_data['Total_Exports_M'].iloc[0]) ** (1/4) - 1) * 100\n",
        "    print(f\"   📈 Compound Annual Growth Rate (CAGR): {cagr:.1f}%\")\n",
        "\n",
        "    # Partner diversification\n",
        "    partner_growth = ((yearly_data['Unique_Partners'].iloc[-1] / yearly_data['Unique_Partners'].iloc[0]) - 1) * 100\n",
        "    print(f\"   🌍 Partner Diversification Growth: {partner_growth:.1f}%\")\n",
        "\n",
        "    # Largest growth year\n",
        "    yearly_data['YoY_Growth'] = yearly_data['Total_Exports_M'].pct_change() * 100\n",
        "    max_growth_year = yearly_data.loc[yearly_data['YoY_Growth'].idxmax(), 'Year']\n",
        "    max_growth_rate = yearly_data['YoY_Growth'].max()\n",
        "    print(f\"   🚀 Strongest Growth Year: {int(max_growth_year)} (+{max_growth_rate:.1f}%)\")\n",
        "\n",
        "else:\n",
        "    print(\"❌ Cannot create historical visualizations - WITS data not available\")"
      ]
    },
    {
      "cell_type": "markdown",
      "id": "813e02d3",
      "metadata": {},
      "source": [
        "# Growth Champions Analysis - Fastest Growing Markets"
      ]
    },
    {
      "cell_type": "code",
      "execution_count": 46,
      "id": "a9702966",
      "metadata": {
        "id": "a9702966",
        "outputId": "9f97ce88-397b-4d03-8549-d540183dc804"
      },
      "outputs": [
        {
          "name": "stdout",
          "output_type": "stream",
          "text": [
            "🏆 GROWTH CHAMPIONS: FASTEST GROWING EXPORT MARKETS\n",
            "=================================================================\n",
            "🎯 TOP 15 GROWTH CHAMPION MARKETS:\n",
            "Rank Country                   Avg Growth   Volatility   2022 Value   Momentum  \n",
            "-------------------------------------------------------------------------------------\n",
            "1    59                         40819.8%   81586.9% $     0.0M  24491.9\n",
            "2    51                         15829.0%   31416.5% $     0.4M   9497.5\n",
            "3    48                         14712.5%   24966.3% $     0.4M   8827.6\n",
            "4    74                          6986.1%   13987.7% $     0.1M   4191.7\n",
            "5    3                           6294.4%   12538.4% $     0.6M   3776.7\n",
            "6    45                          2158.6%    3713.7% $     0.0M   1295.2\n",
            "7    111                         1998.6%    3983.3% $     0.3M   1199.2\n",
            "8    1                           1435.0%    2619.0% $     0.0M    861.0\n",
            "9    98                          1372.6%    2826.7% $     0.0M    823.6\n",
            "10   27                          1241.0%    2094.0% $     0.0M    744.6\n",
            "11   10                          1151.2%    1751.5% $     0.7M    690.9\n",
            "12   86                          1052.9%    1914.6% $     0.9M    631.9\n",
            "13   20                           953.8%    1097.5% $    19.9M    572.9\n",
            "14   83                           938.4%    1347.8% $     0.0M    563.0\n",
            "15   90                           909.7%    1744.2% $     2.4M    546.0\n"
          ]
        },
        {
          "data": {
            "image/png": "[encoded data removed]",
            "text/plain": [
              "<Figure size 1600x600 with 3 Axes>"
            ]
          },
          "metadata": {},
          "output_type": "display_data"
        },
        {
          "name": "stdout",
          "output_type": "stream",
          "text": [
            "\n",
            "💡 GROWTH MARKET INSIGHTS:\n",
            "   🌟 Emerging Powerhouses (>50% growth, >$10M):\n",
            "      • 20\n",
            "      • 29\n",
            "      • 103\n",
            "   📊 Consistent Performers (Low volatility, >20% growth):\n",
            "      • 2\n",
            "      • 26\n",
            "      • 69\n",
            "   💎 Hidden Gems (Small but explosive growth >100%):\n",
            "      • 59\n",
            "      • 51\n",
            "      • 48\n"
          ]
        }
      ],
      "source": [
        "# Growth Champions Analysis - Fastest Growing Markets\n",
        "if wits_data is not None:\n",
        "\n",
        "    print(\"🏆 GROWTH CHAMPIONS: FASTEST GROWING EXPORT MARKETS\")\n",
        "    print(\"=\" * 65)\n",
        "\n",
        "    # Analyze countries with consistent growth patterns\n",
        "    growth_data = growth_analysis[growth_analysis['Years_of_Data'] >= 3].copy()  # At least 3 years of data\n",
        "    growth_data = growth_data[growth_data['Avg_Growth_Rate'] > 0]  # Positive growth only\n",
        "\n",
        "    # Calculate growth momentum score\n",
        "    growth_data['Growth_Momentum'] = (\n",
        "        growth_data['Avg_Growth_Rate'] * 0.6 +  # Average growth weight\n",
        "        (1 / (growth_data['Growth_Volatility'] + 1)) * 20 * 0.2 +  # Stability weight (low volatility is good)\n",
        "        np.log(growth_data['Last_Year_Value'] + 1) * 0.2  # Market size weight\n",
        "    )\n",
        "\n",
        "    # Sort by growth momentum\n",
        "    top_growth_markets = growth_data.sort_values('Growth_Momentum', ascending=False).head(15)\n",
        "\n",
        "    print(f\"🎯 TOP 15 GROWTH CHAMPION MARKETS:\")\n",
        "    print(f\"{'Rank':<4} {'Country':<25} {'Avg Growth':<12} {'Volatility':<12} {'2022 Value':<12} {'Momentum':<10}\")\n",
        "    print(\"-\" * 85)\n",
        "\n",
        "    for i, (country_name, market) in enumerate(top_growth_markets.iterrows(), 1):\n",
        "        country_display = country_name[:23] if len(str(country_name)) > 23 else str(country_name)\n",
        "        print(f\"{i:<4} {country_display:<25} {market['Avg_Growth_Rate']:>8.1f}% {market['Growth_Volatility']:>9.1f}% \"\n",
        "              f\"${market['Last_Year_Value']:>8.1f}M {market['Growth_Momentum']:>8.1f}\")\n",
        "\n",
        "    # Visualize growth champions\n",
        "    fig, (ax1, ax2) = plt.subplots(1, 2, figsize=(16, 6))\n",
        "    fig.suptitle('Rwanda Export Growth Champions Analysis (2018-2022)', fontsize=14, fontweight='bold')\n",
        "\n",
        "    # 1. Growth Rate vs Market Size\n",
        "    top_20_growth = growth_data.nlargest(20, 'Avg_Growth_Rate')\n",
        "\n",
        "    scatter = ax1.scatter(top_20_growth['Last_Year_Value'],\n",
        "                         top_20_growth['Avg_Growth_Rate'],\n",
        "                         s=top_20_growth['Years_of_Data'] * 30,  # Size by years of data\n",
        "                         c=top_20_growth['Growth_Momentum'],\n",
        "                         cmap='viridis', alpha=0.7)\n",
        "\n",
        "    ax1.set_xlabel('2022 Export Value ($M)')\n",
        "    ax1.set_ylabel('Average Growth Rate (%)')\n",
        "    ax1.set_title('Growth Rate vs Market Size')\n",
        "    ax1.grid(True, alpha=0.3)\n",
        "\n",
        "    # Add labels for top opportunities\n",
        "    for country_name, row in top_growth_markets.head(5).iterrows():\n",
        "        ax1.annotate(str(country_name)[:15],\n",
        "                    (row['Last_Year_Value'], row['Avg_Growth_Rate']),\n",
        "                    xytext=(5, 5), textcoords='offset points', fontsize=8)\n",
        "\n",
        "    plt.colorbar(scatter, ax=ax1, label='Growth Momentum Score')\n",
        "\n",
        "    # 2. Growth momentum ranking\n",
        "    top_15_momentum = growth_data.nlargest(15, 'Growth_Momentum')\n",
        "\n",
        "    bars = ax2.barh(range(len(top_15_momentum)), top_15_momentum['Growth_Momentum'],\n",
        "                   color='skyblue', edgecolor='navy')\n",
        "    ax2.set_yticks(range(len(top_15_momentum)))\n",
        "    ax2.set_yticklabels([str(name)[:20] for name in top_15_momentum.index], fontsize=8)\n",
        "    ax2.set_xlabel('Growth Momentum Score')\n",
        "    ax2.set_title('Top Growth Champions by Momentum Score')\n",
        "    ax2.grid(True, alpha=0.3, axis='x')\n",
        "\n",
        "    # Add value labels\n",
        "    for i, bar in enumerate(bars):\n",
        "        width = bar.get_width()\n",
        "        ax2.text(width + 0.5, bar.get_y() + bar.get_height()/2,\n",
        "                f'{width:.1f}', ha='left', va='center', fontsize=8)\n",
        "\n",
        "    plt.tight_layout()\n",
        "    plt.show()\n",
        "\n",
        "    print(f\"\\n💡 GROWTH MARKET INSIGHTS:\")\n",
        "\n",
        "    # Emerging powerhouses (high growth, increasing size)\n",
        "    emerging_powerhouses = growth_data[\n",
        "        (growth_data['Avg_Growth_Rate'] > 50) &\n",
        "        (growth_data['Last_Year_Value'] > 10)\n",
        "    ].sort_values('Growth_Momentum', ascending=False)\n",
        "\n",
        "    if not emerging_powerhouses.empty:\n",
        "        print(f\"   🌟 Emerging Powerhouses (>50% growth, >$10M):\")\n",
        "        for country_name in emerging_powerhouses.head(3).index:\n",
        "            print(f\"      • {country_name}\")\n",
        "\n",
        "    # Consistent performers (low volatility, steady growth)\n",
        "    consistent_performers = growth_data[\n",
        "        (growth_data['Growth_Volatility'] < 50) &\n",
        "        (growth_data['Avg_Growth_Rate'] > 20)\n",
        "    ].sort_values('Avg_Growth_Rate', ascending=False)\n",
        "\n",
        "    if not consistent_performers.empty:\n",
        "        print(f\"   📊 Consistent Performers (Low volatility, >20% growth):\")\n",
        "        for country_name in consistent_performers.head(3).index:\n",
        "            print(f\"      • {country_name}\")\n",
        "\n",
        "    # Hidden gems (smaller markets with very high growth)\n",
        "    hidden_gems = growth_data[\n",
        "        (growth_data['Last_Year_Value'] < 5) &\n",
        "        (growth_data['Avg_Growth_Rate'] > 100)\n",
        "    ].sort_values('Avg_Growth_Rate', ascending=False)\n",
        "\n",
        "    if not hidden_gems.empty:\n",
        "        print(f\"   💎 Hidden Gems (Small but explosive growth >100%):\")\n",
        "        for country_name in hidden_gems.head(3).index:\n",
        "            print(f\"      • {country_name}\")\n",
        "\n",
        "else:\n",
        "    print(\"❌ Cannot analyze growth champions - WITS data not available\")"
      ]
    },
    {
      "cell_type": "markdown",
      "id": "0922e6c6",
      "metadata": {},
      "source": [
        "# Strategic Market Recommendations Based on 5-Year Analysis"
      ]
    },
    {
      "cell_type": "code",
      "execution_count": 47,
      "id": "9b8db5a2",
      "metadata": {
        "id": "9b8db5a2",
        "outputId": "9294df3b-7ec4-44b3-ef8a-36ed6c897fed"
      },
      "outputs": [
        {
          "name": "stdout",
          "output_type": "stream",
          "text": [
            "🎯 STRATEGIC MARKET RECOMMENDATIONS (2018-2022 Analysis)\n",
            "======================================================================\n",
            "\n",
            "🏆 STRATEGIC MARKET PORTFOLIO RECOMMENDATIONS:\n",
            "\n",
            "TIER 1 - High Growth Powerhouses:\n",
            "Rank Market                    Avg Growth   2022 Value   Strategy\n",
            "---------------------------------------------------------------------------\n",
            "1    Ethiopia(excludes Eritr      240.8% $    36.5M Scale & Deepen\n",
            "2    United Arab Emirates         182.9% $   590.3M Scale & Deepen\n",
            "3    India                        145.8% $    71.2M Scale & Deepen\n",
            "4    Middle East & North Afr      144.6% $   612.5M Scale & Deepen\n",
            "5    China                        135.8% $    96.8M Scale & Deepen\n",
            "\n",
            "TIER 3 - Untapped Potential:\n",
            "Rank Market                    Avg Growth   2022 Value   Strategy\n",
            "---------------------------------------------------------------------------\n",
            "1    France                        47.8% $     4.8M Market Entry\n",
            "2    Australia                     47.0% $     1.1M Market Entry\n",
            "3    Malaysia                      24.0% $     6.5M Market Entry\n",
            "\n",
            "🔍 VALIDATION AGAINST Q3 2024 DATA:\n",
            "   • Historical-Current Alignment: 40% (2/5 Tier 1 markets in current top 10)\n",
            "\n",
            "📋 COMPREHENSIVE EXPORT STRATEGY ACTION PLAN:\n",
            "\n",
            "🎯 IMMEDIATE PRIORITIES (Next 6 months):\n",
            "   1. STRENGTHEN POWERHOUSE MARKETS:\n",
            "      • Ethiopia(excludes Eritrea): Increase market share and product diversification\n",
            "      • United Arab Emirates: Increase market share and product diversification\n",
            "      • India: Increase market share and product diversification\n",
            "\n",
            "🚀 MEDIUM-TERM INITIATIVES (6-18 months):\n",
            "   1. MARKET ENTRY STRATEGY:\n",
            "      • France: Conduct market research, identify entry barriers\n",
            "      • Australia: Conduct market research, identify entry barriers\n",
            "      • Malaysia: Conduct market research, identify entry barriers\n",
            "\n",
            "   2. DIVERSIFICATION INITIATIVES:\n",
            "      • Reduce over-dependence on top 3 markets\n",
            "      • Target HHI reduction below 1500\n",
            "      • Increase partner count by 15% annually\n",
            "\n",
            "🎯 SUCCESS METRICS & KPIs:\n",
            "   • Export Growth Target: 25% annual growth\n",
            "   • Market Diversification: HHI < 1500 by 2025\n",
            "   • Partner Expansion: +20 new markets by 2025\n",
            "   • Tier 1 Market Share: Increase by 30%\n",
            "   • Tier 2 Market Penetration: 3x current levels\n",
            "\n",
            "⚠️  RISK MITIGATION STRATEGIES:\n",
            "   • Geographic Diversification: Balance across regions\n",
            "   • Product Diversification: Reduce single-product dependency\n",
            "   • Market Intelligence: Real-time monitoring systems\n",
            "   • Contingency Planning: Alternative market strategies\n",
            "   • Historical-Current Alignment: 40% (2/5 Tier 1 markets in current top 10)\n",
            "\n",
            "📋 COMPREHENSIVE EXPORT STRATEGY ACTION PLAN:\n",
            "\n",
            "🎯 IMMEDIATE PRIORITIES (Next 6 months):\n",
            "   1. STRENGTHEN POWERHOUSE MARKETS:\n",
            "      • Ethiopia(excludes Eritrea): Increase market share and product diversification\n",
            "      • United Arab Emirates: Increase market share and product diversification\n",
            "      • India: Increase market share and product diversification\n",
            "\n",
            "🚀 MEDIUM-TERM INITIATIVES (6-18 months):\n",
            "   1. MARKET ENTRY STRATEGY:\n",
            "      • France: Conduct market research, identify entry barriers\n",
            "      • Australia: Conduct market research, identify entry barriers\n",
            "      • Malaysia: Conduct market research, identify entry barriers\n",
            "\n",
            "   2. DIVERSIFICATION INITIATIVES:\n",
            "      • Reduce over-dependence on top 3 markets\n",
            "      • Target HHI reduction below 1500\n",
            "      • Increase partner count by 15% annually\n",
            "\n",
            "🎯 SUCCESS METRICS & KPIs:\n",
            "   • Export Growth Target: 25% annual growth\n",
            "   • Market Diversification: HHI < 1500 by 2025\n",
            "   • Partner Expansion: +20 new markets by 2025\n",
            "   • Tier 1 Market Share: Increase by 30%\n",
            "   • Tier 2 Market Penetration: 3x current levels\n",
            "\n",
            "⚠️  RISK MITIGATION STRATEGIES:\n",
            "   • Geographic Diversification: Balance across regions\n",
            "   • Product Diversification: Reduce single-product dependency\n",
            "   • Market Intelligence: Real-time monitoring systems\n",
            "   • Contingency Planning: Alternative market strategies\n"
          ]
        }
      ],
      "source": [
        "# Strategic Market Recommendations Based on 5-Year Analysis\n",
        "if wits_data is not None:\n",
        "\n",
        "    print(\"🎯 STRATEGIC MARKET RECOMMENDATIONS (2018-2022 Analysis)\")\n",
        "    print(\"=\" * 70)\n",
        "\n",
        "    # Combine current quarterly data with historical WITS data for comprehensive recommendations\n",
        "    strategic_markets = {}\n",
        "\n",
        "    # 1. PRIORITY TIER 1: High Growth + High Current Value\n",
        "    if 'growth_data' in locals() and not growth_data.empty:\n",
        "        tier1_markets = growth_data[\n",
        "            (growth_data['Avg_Growth_Rate'] > 30) &\n",
        "            (growth_data['Last_Year_Value'] > 20) &\n",
        "            (growth_data['Years_of_Data'] >= 3)\n",
        "        ].sort_values('Growth_Momentum', ascending=False).head(5)\n",
        "\n",
        "        strategic_markets['TIER 1 - High Growth Powerhouses'] = tier1_markets\n",
        "\n",
        "    # 2. PRIORITY TIER 2: Emerging Markets with Potential\n",
        "    tier2_markets = growth_data[\n",
        "        (growth_data['Avg_Growth_Rate'] > 50) &\n",
        "        (growth_data['Last_Year_Value'] > 5) &\n",
        "        (growth_data['Last_Year_Value'] < 50) &\n",
        "        (growth_data['Growth_Volatility'] < 100)\n",
        "    ].sort_values('Avg_Growth_Rate', ascending=False).head(5)\n",
        "\n",
        "    strategic_markets['TIER 2 - Emerging Opportunities'] = tier2_markets\n",
        "\n",
        "    # 3. PRIORITY TIER 3: Untapped Potential\n",
        "    tier3_markets = growth_data[\n",
        "        (growth_data['Avg_Growth_Rate'] > 20) &\n",
        "        (growth_data['Last_Year_Value'] < 10) &\n",
        "        (growth_data['Growth_Volatility'] < 80)\n",
        "    ].sort_values('Growth_Momentum', ascending=False).head(5)\n",
        "\n",
        "    strategic_markets['TIER 3 - Untapped Potential'] = tier3_markets\n",
        "\n",
        "    # Display strategic recommendations\n",
        "    print(f\"\\n🏆 STRATEGIC MARKET PORTFOLIO RECOMMENDATIONS:\")\n",
        "\n",
        "    for tier, markets in strategic_markets.items():\n",
        "        if not markets.empty:\n",
        "            print(f\"\\n{tier}:\")\n",
        "            print(f\"{'Rank':<4} {'Market':<25} {'Avg Growth':<12} {'2022 Value':<12} {'Strategy'}\")\n",
        "            print(\"-\" * 75)\n",
        "\n",
        "            for i, (idx, data) in enumerate(markets.iterrows(), 1):\n",
        "                # Get country name from Partner Name column\n",
        "                country = data['Partner Name']\n",
        "\n",
        "                # Define strategy based on tier and characteristics\n",
        "                if 'Powerhouses' in tier:\n",
        "                    strategy = \"Scale & Deepen\"\n",
        "                elif 'Emerging' in tier:\n",
        "                    strategy = \"Rapid Expansion\"\n",
        "                else:\n",
        "                    strategy = \"Market Entry\"\n",
        "\n",
        "                print(f\"{i:<4} {country[:23]:<25} {data['Avg_Growth_Rate']:>8.1f}% \"\n",
        "                      f\"${data['Last_Year_Value']:>8.1f}M {strategy}\")\n",
        "\n",
        "    # Cross-reference with current quarterly data for validation\n",
        "    if 'countries_df' in locals():\n",
        "        print(f\"\\n🔍 VALIDATION AGAINST Q3 2024 DATA:\")\n",
        "\n",
        "        current_top_10 = countries_df.nlargest(10, '2024Q3')['Country'].tolist()\n",
        "\n",
        "        # Check alignment between historical growth champions and current performance\n",
        "        alignment_score = 0\n",
        "        total_tier1 = len(tier1_markets) if not tier1_markets.empty else 0\n",
        "\n",
        "        if total_tier1 > 0:\n",
        "            for idx, row in tier1_markets.iterrows():\n",
        "                country = row['Partner Name']\n",
        "                if country in current_top_10:\n",
        "                    alignment_score += 1\n",
        "\n",
        "            alignment_percentage = (alignment_score / total_tier1) * 100\n",
        "            print(f\"   • Historical-Current Alignment: {alignment_percentage:.0f}% ({alignment_score}/{total_tier1} Tier 1 markets in current top 10)\")\n",
        "\n",
        "    # Generate final strategic action plan\n",
        "    print(f\"\\n📋 COMPREHENSIVE EXPORT STRATEGY ACTION PLAN:\")\n",
        "    print(f\"\\n🎯 IMMEDIATE PRIORITIES (Next 6 months):\")\n",
        "\n",
        "    if not tier1_markets.empty:\n",
        "        print(f\"   1. STRENGTHEN POWERHOUSE MARKETS:\")\n",
        "        for idx, row in tier1_markets.head(3).iterrows():\n",
        "            country = row['Partner Name']\n",
        "            print(f\"      • {country}: Increase market share and product diversification\")\n",
        "\n",
        "    if not tier2_markets.empty:\n",
        "        print(f\"\\n   2. RAPID EXPANSION IN EMERGING MARKETS:\")\n",
        "        for idx, row in tier2_markets.head(3).iterrows():\n",
        "            country = row['Partner Name']\n",
        "            print(f\"      • {country}: Establish stronger presence, identify key products\")\n",
        "\n",
        "    print(f\"\\n🚀 MEDIUM-TERM INITIATIVES (6-18 months):\")\n",
        "    if not tier3_markets.empty:\n",
        "        print(f\"   1. MARKET ENTRY STRATEGY:\")\n",
        "        for idx, row in tier3_markets.head(3).iterrows():\n",
        "            country = row['Partner Name']\n",
        "            print(f\"      • {country}: Conduct market research, identify entry barriers\")\n",
        "\n",
        "    print(f\"\\n   2. DIVERSIFICATION INITIATIVES:\")\n",
        "    print(f\"      • Reduce over-dependence on top 3 markets\")\n",
        "    print(f\"      • Target HHI reduction below 1500\")\n",
        "    print(f\"      • Increase partner count by 15% annually\")\n",
        "\n",
        "    print(f\"\\n🎯 SUCCESS METRICS & KPIs:\")\n",
        "    print(f\"   • Export Growth Target: 25% annual growth\")\n",
        "    print(f\"   • Market Diversification: HHI < 1500 by 2025\")\n",
        "    print(f\"   • Partner Expansion: +20 new markets by 2025\")\n",
        "    print(f\"   • Tier 1 Market Share: Increase by 30%\")\n",
        "    print(f\"   • Tier 2 Market Penetration: 3x current levels\")\n",
        "\n",
        "    # Risk mitigation strategies\n",
        "    print(f\"\\n⚠️  RISK MITIGATION STRATEGIES:\")\n",
        "    print(f\"   • Geographic Diversification: Balance across regions\")\n",
        "    print(f\"   • Product Diversification: Reduce single-product dependency\")\n",
        "    print(f\"   • Market Intelligence: Real-time monitoring systems\")\n",
        "    print(f\"   • Contingency Planning: Alternative market strategies\")\n",
        "\n",
        "else:\n",
        "    print(\"❌ Cannot generate strategic recommendations - WITS data not available\")"
      ]
    },
    {
      "cell_type": "markdown",
      "id": "46956dd7",
      "metadata": {
        "id": "46956dd7"
      },
      "source": [
        "## 📊 Strategic Market Visualization Dashboard\n",
        "\n",
        "Interactive visualizations showing the strategic market recommendations and growth opportunities."
      ]
    },
    {
      "cell_type": "code",
      "execution_count": 48,
      "id": "3d217bc1",
      "metadata": {
        "id": "3d217bc1",
        "outputId": "d4a3b1f4-6033-46e0-a7a4-b068f6e1e067"
      },
      "outputs": [
        {
          "name": "stdout",
          "output_type": "stream",
          "text": [
            "📊 GENERATING STRATEGIC MARKET VISUALIZATION DASHBOARD...\n"
          ]
        },
        {
          "data": {
            "application/vnd.plotly.v1+json": {
              "config": {
                "plotlyServerURL": "https://plot.ly"
              },
              "data": [
                {
                  "hovertemplate": "<b>%{text}</b><br>Growth Rate: %{x:.1f}%<br>2022 Value: $%{y:.1f}M<br>Tier: TIER 1<extra></extra>",
                  "marker": {
                    "color": "#FF6B6B",
                    "line": {
                      "color": "white",
                      "width": 2
                    },
                    "opacity": 0.7,
                    "size": {
                      "bdata": "8QOhjhI7B0AmAbcP/sQBQFIJyNK/Rfw/eH/9cnEu/D8s67tvt2H6Pw==",
                      "dtype": "f8"
                    }
                  },
                  "mode": "markers+text",
                  "name": "TIER 1",
                  "text": [
                    "Ethiopia(exc",
                    "United Arab ",
                    "India",
                    "Middle East ",
                    "China"
                  ],
                  "textposition": "middle center",
                  "type": "scatter",
                  "x": {
                    "bdata": "uB6F61EYbkBmZmZmZt5mQJqZmZmZOWJA7FG4HoUTYkAzMzMzM/tgQA==",
                    "dtype": "f8"
                  },
                  "xaxis": "x",
                  "y": {
                    "bdata": "pHA9CtdDQkBmZmZmZnKCQOxRuB6Fy1FASOF6FK4jg0BxPQrXozBYQA==",
                    "dtype": "f8"
                  },
                  "yaxis": "y"
                },
                {
                  "hovertemplate": "<b>%{text}</b><br>Growth Rate: %{x:.1f}%<br>2022 Value: $%{y:.1f}M<br>Tier: TIER 3<extra></extra>",
                  "marker": {
                    "color": "#45B7D1",
                    "line": {
                      "color": "white",
                      "width": 2
                    },
                    "opacity": 0.7,
                    "size": {
                      "bdata": "NcVumGSd4j/zSNNjGTLiP12biAsOA9M/",
                      "dtype": "f8"
                    }
                  },
                  "mode": "markers+text",
                  "name": "TIER 3",
                  "text": [
                    "France",
                    "Australia",
                    "Malaysia"
                  ],
                  "textposition": "middle center",
                  "type": "scatter",
                  "x": {
                    "bdata": "ZmZmZmbmR0Bcj8L1KHxHQAAAAAAAADhA",
                    "dtype": "f8"
                  },
                  "xaxis": "x",
                  "y": {
                    "bdata": "SOF6FK5HE0DsUbgehevxPwrXo3A9ChpA",
                    "dtype": "f8"
                  },
                  "yaxis": "y"
                },
                {
                  "hovertemplate": "<b>%{y}</b><br>Growth: %{x:.1f}%<extra></extra>",
                  "marker": {
                    "color": [
                      "rgb(141,211,199)",
                      "rgb(255,255,179)",
                      "rgb(190,186,218)",
                      "rgb(251,128,114)",
                      "rgb(128,177,211)",
                      "rgb(253,180,98)",
                      "rgb(179,222,105)",
                      "rgb(252,205,229)",
                      "rgb(217,217,217)",
                      "rgb(188,128,189)",
                      "rgb(204,235,197)",
                      "rgb(255,237,111)"
                    ]
                  },
                  "name": "Growth Rate",
                  "orientation": "h",
                  "type": "bar",
                  "x": {
                    "bdata": "FK5H4Xru40CPwvUofOrOQPYoXI9CvMxAj8L1KBxKu0CamZmZWZa4QOF6FK5H3aBAj8L1KFw6n0Bcj8L1KGyWQOxRuB6FcpVA16NwPQpkk0A=",
                    "dtype": "f8"
                  },
                  "xaxis": "x2",
                  "y": [
                    "Madagascar",
                    "Korea, Dem. Rep.",
                    "Jordan",
                    "Norway",
                    "Austria",
                    "Israel",
                    "Zimbabwe",
                    "Angola",
                    "Togo",
                    "Eritrea"
                  ],
                  "yaxis": "y3"
                },
                {
                  "hovertemplate": "<b>%{text}</b><br>Growth Rate: %{y:.1f}%<br>Volatility: %{x:.1f}%<br><extra></extra>",
                  "marker": {
                    "color": {
                      "bdata": "MzMzMzMzwz8AAAAAAAAAAOxRuB6F6/E/16NwPQrX4z9mZmZmZmbmP3sUrkfhepQ/exSuR+F6hD97FK5H4XqEPwAAAAAAAAAAFK5H4XoU5j8K16NwPQoPQOxRuB6F67E/PQrXo3A9CkAzMzMzMzPjP3sUrkfheoQ/cT0K16MwWEBcj8L1KAKIQOF6FK5H4TNAuB6F61G4nj/2KFyPwlVoQFK4HoXr0S5AexSuR+F6lD8AAAAAAAAAAKRwPQrXQ0JAAAAAAAAADkBI4XoUrkcTQHsUrkfheoQ/mpmZmZkZK0Bcj8L1KFz/Px+F61G4Hu0/AAAAAAAAAACamZmZmblDQOxRuB6Fy1FA7FG4HoXrsT/NzMzMzMzsPx+F61G4HhxAexSuR+F6hD+uR+F6FK4dQMP1KFyPwh5A4XoUrkfh2j/D9Shcj8InQClcj8L1KNw/w/UoXI/CAUAK16NwPQq3P5qZmZmZmak/exSuR+H6JEB7FK5H4XqkP3sUrkfherQ/CtejcD0KGkC4HoXrUbiePw==",
                      "dtype": "f8"
                    },
                    "colorbar": {
                      "title": {
                        "text": "2022 Value ($M)"
                      },
                      "x": 0.45
                    },
                    "colorscale": [
                      [
                        0,
                        "#440154"
                      ],
                      [
                        0.1111111111111111,
                        "#482878"
                      ],
                      [
                        0.2222222222222222,
                        "#3e4989"
                      ],
                      [
                        0.3333333333333333,
                        "#31688e"
                      ],
                      [
                        0.4444444444444444,
                        "#26828e"
                      ],
                      [
                        0.5555555555555556,
                        "#1f9e89"
                      ],
                      [
                        0.6666666666666666,
                        "#35b779"
                      ],
                      [
                        0.7777777777777778,
                        "#6ece58"
                      ],
                      [
                        0.8888888888888888,
                        "#b5de2b"
                      ],
                      [
                        1,
                        "#fde725"
                      ]
                    ],
                    "showscale": true,
                    "size": 8
                  },
                  "mode": "markers",
                  "name": "Risk-Growth Matrix",
                  "text": [
                    "Afghanistan",
                    "Angola",
                    "Australia",
                    "Austria",
                    "Azerbaijan",
                    "Bangladesh",
                    "Benin",
                    "Botswana",
                    "Bulgaria",
                    "Burkina Faso",
                    "Burundi",
                    "Cameroon",
                    "Canada",
                    "Central African Republic",
                    "Chad",
                    "China",
                    "Congo, Dem. Rep.",
                    "Congo, Rep.",
                    "Cote d'Ivoire",
                    "East Asia & Pacific",
                    "Egypt, Arab Rep.",
                    "Eritrea",
                    "Eswatini",
                    "Ethiopia(excludes Eritrea)",
                    "Finland",
                    "France",
                    "Gabon",
                    "Germany",
                    "Ghana",
                    "Greece",
                    "Guinea",
                    "Hong Kong, China",
                    "India",
                    "Indonesia",
                    "Iran, Islamic Rep.",
                    "Ireland",
                    "Israel",
                    "Italy",
                    "Japan",
                    "Jordan",
                    "Kenya",
                    "Korea, Dem. Rep.",
                    "Korea, Rep.",
                    "Kyrgyz Republic",
                    "Latin America & Caribbean",
                    "Luxembourg",
                    "Madagascar",
                    "Malawi",
                    "Malaysia",
                    "Mali"
                  ],
                  "type": "scatter",
                  "x": {
                    "bdata": "16NwPQonVkDXo3A9CnakQK5H4XoUzkNApHA9Cjd9yEDD9ShcjxZyQLgehetR9ZRAj8L1KFzfakA9CtejcGFwQK5H4XoUfmVAzczMzMxdm0DXo3A9Cr+AQIXrUbgeWXJAH4XrUbhuY0CkcD0K17GBQIXrUbge6XxAuB6F61GAbkAUrkfhelQ0QDMzMzMzJpFAmpmZmZmhZUB7FK5H4SpUQM3MzMzMTDRAKVyPwvVboEB7FK5H4eCCQClcj8L1UHZAXI/C9SgmjEB7FK5H4XpSQFK4HoXrIVBAPQrXo3DdW0D2KFyPwmVpQGZmZmZm/nBAmpmZmZnZf0DsUbgehXtVQD0K16Nw7W9A9ihcj8IlWEC4HoXrUShaQK5H4XoU7jZAUrgehWsDrUBI4XoUridUQNejcD0Kh15AKVyPwpVh2ECamZmZmalTQLgeheshrt5A16NwPQqXYEB7FK5H4ZJlQAAAAAAA6G5AKVyPwvU4akApXI/CLevzQD0K16Nw04BAUrgehevRU0DsUbgehVt9QA==",
                    "dtype": "f8"
                  },
                  "xaxis": "x3",
                  "y": {
                    "bdata": "7FG4HoXrG0Bcj8L1KGyWQFyPwvUofEdAmpmZmVmWuECPwvUoXO9iQHsUrkfhvIRAXI/C9SjMU0BI4XoUrsdZQHsUrkfhClJAKVyPwvX8kUB7FK5H4TJvQM3MzMzMfG1AzczMzMxsWkCamZmZmf14QPYoXI/CIXJAMzMzMzP7YEAUrkfhehQ4QLgehetRzo1A16NwPQqXWUDXo3A9Chc5QEjhehSuh0JA16NwPQpkk0CPwvUoXLdrQLgehetRGG5ApHA9CtfLiEBmZmZmZuZHQIXrUbgehRhAUrgehesxQ0A9CtejcC1jQClcj8L19ItAw/UoXI+yakCF61G4HkVAQJqZmZmZOWJAuB6F61E4RkDhehSuR8FNQFK4HoXrUSlA4XoUrkfdoECPwvUoXK9GQDMzMzMzw1FA9ihcj0K8zECuR+F6FK4gQI/C9Sh86s5AcT0K16NwTEB7FK5H4QpRQOxRuB6Fk2JAcT0K16MAUkAUrkfheu7jQGZmZmZmFmxAAAAAAAAAOEAAAAAAAKBsQA==",
                    "dtype": "f8"
                  },
                  "yaxis": "y4"
                },
                {
                  "hovertemplate": "Year: %{x}<br>Value: $%{y:.1f}M<extra></extra>",
                  "line": {
                    "color": "#E74C3C",
                    "width": 3
                  },
                  "marker": {
                    "color": "#E74C3C",
                    "size": 10
                  },
                  "mode": "lines+markers",
                  "name": "Total Exports",
                  "type": "scatter",
                  "x": [
                    2018,
                    2019,
                    2020,
                    2021,
                    2022
                  ],
                  "xaxis": "x4",
                  "y": [
                    2999.82,
                    3390.78,
                    4287.76,
                    4682.91,
                    6050.7
                  ],
                  "yaxis": "y5"
                },
                {
                  "hovertemplate": "Year: %{x}<br>Growth: %{y:.1f}%<extra></extra>",
                  "line": {
                    "color": "#3498DB",
                    "dash": "dash",
                    "width": 2
                  },
                  "marker": {
                    "color": "#3498DB",
                    "size": 8
                  },
                  "mode": "lines+markers",
                  "name": "Growth Rate (%)",
                  "type": "scatter",
                  "x": [
                    2019,
                    2020,
                    2021,
                    2022
                  ],
                  "xaxis": "x4",
                  "y": [
                    13.032781966918016,
                    26.45350037454509,
                    9.21576767356381,
                    29.20812059168338
                  ],
                  "yaxis": "y5"
                }
              ],
              "layout": {
                "annotations": [
                  {
                    "font": {
                      "size": 16
                    },
                    "showarrow": false,
                    "text": "Strategic Market Tiers - Growth vs Value",
                    "x": 0.185,
                    "xanchor": "center",
                    "xref": "paper",
                    "y": 1,
                    "yanchor": "bottom",
                    "yref": "paper"
                  },
                  {
                    "font": {
                      "size": 16
                    },
                    "showarrow": false,
                    "text": "Top 10 Growth Champions (2018-2022)",
                    "x": 0.7550000000000001,
                    "xanchor": "center",
                    "xref": "paper",
                    "y": 1,
                    "yanchor": "bottom",
                    "yref": "paper"
                  },
                  {
                    "font": {
                      "size": 16
                    },
                    "showarrow": false,
                    "text": "Market Portfolio Risk Assessment",
                    "x": 0.185,
                    "xanchor": "center",
                    "xref": "paper",
                    "y": 0.375,
                    "yanchor": "bottom",
                    "yref": "paper"
                  },
                  {
                    "font": {
                      "size": 16
                    },
                    "showarrow": false,
                    "text": "Growth Momentum Timeline",
                    "x": 0.7550000000000001,
                    "xanchor": "center",
                    "xref": "paper",
                    "y": 0.375,
                    "yanchor": "bottom",
                    "yref": "paper"
                  }
                ],
                "height": 800,
                "paper_bgcolor": "white",
                "plot_bgcolor": "white",
                "shapes": [
                  {
                    "fillcolor": "green",
                    "opacity": 0.1,
                    "type": "rect",
                    "x0": 0,
                    "x1": 50,
                    "xref": "x3",
                    "y0": 0,
                    "y1": 50,
                    "yref": "y4"
                  },
                  {
                    "fillcolor": "yellow",
                    "opacity": 0.1,
                    "type": "rect",
                    "x0": 50,
                    "x1": 200,
                    "xref": "x3",
                    "y0": 50,
                    "y1": 200,
                    "yref": "y4"
                  },
                  {
                    "fillcolor": "red",
                    "opacity": 0.1,
                    "type": "rect",
                    "x0": 200,
                    "x1": 1000,
                    "xref": "x3",
                    "y0": 0,
                    "y1": 500,
                    "yref": "y4"
                  }
                ],
                "showlegend": true,
                "template": {
                  "data": {
                    "bar": [
                      {
                        "error_x": {
                          "color": "#2a3f5f"
                        },
                        "error_y": {
                          "color": "#2a3f5f"
                        },
                        "marker": {
                          "line": {
                            "color": "#E5ECF6",
                            "width": 0.5
                          },
                          "pattern": {
                            "fillmode": "overlay",
                            "size": 10,
                            "solidity": 0.2
                          }
                        },
                        "type": "bar"
                      }
                    ],
                    "barpolar": [
                      {
                        "marker": {
                          "line": {
                            "color": "#E5ECF6",
                            "width": 0.5
                          },
                          "pattern": {
                            "fillmode": "overlay",
                            "size": 10,
                            "solidity": 0.2
                          }
                        },
                        "type": "barpolar"
                      }
                    ],
                    "carpet": [
                      {
                        "aaxis": {
                          "endlinecolor": "#2a3f5f",
                          "gridcolor": "white",
                          "linecolor": "white",
                          "minorgridcolor": "white",
                          "startlinecolor": "#2a3f5f"
                        },
                        "baxis": {
                          "endlinecolor": "#2a3f5f",
                          "gridcolor": "white",
                          "linecolor": "white",
                          "minorgridcolor": "white",
                          "startlinecolor": "#2a3f5f"
                        },
                        "type": "carpet"
                      }
                    ],
                    "choropleth": [
                      {
                        "colorbar": {
                          "outlinewidth": 0,
                          "ticks": ""
                        },
                        "type": "choropleth"
                      }
                    ],
                    "contour": [
                      {
                        "colorbar": {
                          "outlinewidth": 0,
                          "ticks": ""
                        },
                        "colorscale": [
                          [
                            0,
                            "#0d0887"
                          ],
                          [
                            0.1111111111111111,
                            "#46039f"
                          ],
                          [
                            0.2222222222222222,
                            "#7201a8"
                          ],
                          [
                            0.3333333333333333,
                            "#9c179e"
                          ],
                          [
                            0.4444444444444444,
                            "#bd3786"
                          ],
                          [
                            0.5555555555555556,
                            "#d8576b"
                          ],
                          [
                            0.6666666666666666,
                            "#ed7953"
                          ],
                          [
                            0.7777777777777778,
                            "#fb9f3a"
                          ],
                          [
                            0.8888888888888888,
                            "#fdca26"
                          ],
                          [
                            1,
                            "#f0f921"
                          ]
                        ],
                        "type": "contour"
                      }
                    ],
                    "contourcarpet": [
                      {
                        "colorbar": {
                          "outlinewidth": 0,
                          "ticks": ""
                        },
                        "type": "contourcarpet"
                      }
                    ],
                    "heatmap": [
                      {
                        "colorbar": {
                          "outlinewidth": 0,
                          "ticks": ""
                        },
                        "colorscale": [
                          [
                            0,
                            "#0d0887"
                          ],
                          [
                            0.1111111111111111,
                            "#46039f"
                          ],
                          [
                            0.2222222222222222,
                            "#7201a8"
                          ],
                          [
                            0.3333333333333333,
                            "#9c179e"
                          ],
                          [
                            0.4444444444444444,
                            "#bd3786"
                          ],
                          [
                            0.5555555555555556,
                            "#d8576b"
                          ],
                          [
                            0.6666666666666666,
                            "#ed7953"
                          ],
                          [
                            0.7777777777777778,
                            "#fb9f3a"
                          ],
                          [
                            0.8888888888888888,
                            "#fdca26"
                          ],
                          [
                            1,
                            "#f0f921"
                          ]
                        ],
                        "type": "heatmap"
                      }
                    ],
                    "histogram": [
                      {
                        "marker": {
                          "pattern": {
                            "fillmode": "overlay",
                            "size": 10,
                            "solidity": 0.2
                          }
                        },
                        "type": "histogram"
                      }
                    ],
                    "histogram2d": [
                      {
                        "colorbar": {
                          "outlinewidth": 0,
                          "ticks": ""
                        },
                        "colorscale": [
                          [
                            0,
                            "#0d0887"
                          ],
                          [
                            0.1111111111111111,
                            "#46039f"
                          ],
                          [
                            0.2222222222222222,
                            "#7201a8"
                          ],
                          [
                            0.3333333333333333,
                            "#9c179e"
                          ],
                          [
                            0.4444444444444444,
                            "#bd3786"
                          ],
                          [
                            0.5555555555555556,
                            "#d8576b"
                          ],
                          [
                            0.6666666666666666,
                            "#ed7953"
                          ],
                          [
                            0.7777777777777778,
                            "#fb9f3a"
                          ],
                          [
                            0.8888888888888888,
                            "#fdca26"
                          ],
                          [
                            1,
                            "#f0f921"
                          ]
                        ],
                        "type": "histogram2d"
                      }
                    ],
                    "histogram2dcontour": [
                      {
                        "colorbar": {
                          "outlinewidth": 0,
                          "ticks": ""
                        },
                        "colorscale": [
                          [
                            0,
                            "#0d0887"
                          ],
                          [
                            0.1111111111111111,
                            "#46039f"
                          ],
                          [
                            0.2222222222222222,
                            "#7201a8"
                          ],
                          [
                            0.3333333333333333,
                            "#9c179e"
                          ],
                          [
                            0.4444444444444444,
                            "#bd3786"
                          ],
                          [
                            0.5555555555555556,
                            "#d8576b"
                          ],
                          [
                            0.6666666666666666,
                            "#ed7953"
                          ],
                          [
                            0.7777777777777778,
                            "#fb9f3a"
                          ],
                          [
                            0.8888888888888888,
                            "#fdca26"
                          ],
                          [
                            1,
                            "#f0f921"
                          ]
                        ],
                        "type": "histogram2dcontour"
                      }
                    ],
                    "mesh3d": [
                      {
                        "colorbar": {
                          "outlinewidth": 0,
                          "ticks": ""
                        },
                        "type": "mesh3d"
                      }
                    ],
                    "parcoords": [
                      {
                        "line": {
                          "colorbar": {
                            "outlinewidth": 0,
                            "ticks": ""
                          }
                        },
                        "type": "parcoords"
                      }
                    ],
                    "pie": [
                      {
                        "automargin": true,
                        "type": "pie"
                      }
                    ],
                    "scatter": [
                      {
                        "fillpattern": {
                          "fillmode": "overlay",
                          "size": 10,
                          "solidity": 0.2
                        },
                        "type": "scatter"
                      }
                    ],
                    "scatter3d": [
                      {
                        "line": {
                          "colorbar": {
                            "outlinewidth": 0,
                            "ticks": ""
                          }
                        },
                        "marker": {
                          "colorbar": {
                            "outlinewidth": 0,
                            "ticks": ""
                          }
                        },
                        "type": "scatter3d"
                      }
                    ],
                    "scattercarpet": [
                      {
                        "marker": {
                          "colorbar": {
                            "outlinewidth": 0,
                            "ticks": ""
                          }
                        },
                        "type": "scattercarpet"
                      }
                    ],
                    "scattergeo": [
                      {
                        "marker": {
                          "colorbar": {
                            "outlinewidth": 0,
                            "ticks": ""
                          }
                        },
                        "type": "scattergeo"
                      }
                    ],
                    "scattergl": [
                      {
                        "marker": {
                          "colorbar": {
                            "outlinewidth": 0,
                            "ticks": ""
                          }
                        },
                        "type": "scattergl"
                      }
                    ],
                    "scattermap": [
                      {
                        "marker": {
                          "colorbar": {
                            "outlinewidth": 0,
                            "ticks": ""
                          }
                        },
                        "type": "scattermap"
                      }
                    ],
                    "scattermapbox": [
                      {
                        "marker": {
                          "colorbar": {
                            "outlinewidth": 0,
                            "ticks": ""
                          }
                        },
                        "type": "scattermapbox"
                      }
                    ],
                    "scatterpolar": [
                      {
                        "marker": {
                          "colorbar": {
                            "outlinewidth": 0,
                            "ticks": ""
                          }
                        },
                        "type": "scatterpolar"
                      }
                    ],
                    "scatterpolargl": [
                      {
                        "marker": {
                          "colorbar": {
                            "outlinewidth": 0,
                            "ticks": ""
                          }
                        },
                        "type": "scatterpolargl"
                      }
                    ],
                    "scatterternary": [
                      {
                        "marker": {
                          "colorbar": {
                            "outlinewidth": 0,
                            "ticks": ""
                          }
                        },
                        "type": "scatterternary"
                      }
                    ],
                    "surface": [
                      {
                        "colorbar": {
                          "outlinewidth": 0,
                          "ticks": ""
                        },
                        "colorscale": [
                          [
                            0,
                            "#0d0887"
                          ],
                          [
                            0.1111111111111111,
                            "#46039f"
                          ],
                          [
                            0.2222222222222222,
                            "#7201a8"
                          ],
                          [
                            0.3333333333333333,
                            "#9c179e"
                          ],
                          [
                            0.4444444444444444,
                            "#bd3786"
                          ],
                          [
                            0.5555555555555556,
                            "#d8576b"
                          ],
                          [
                            0.6666666666666666,
                            "#ed7953"
                          ],
                          [
                            0.7777777777777778,
                            "#fb9f3a"
                          ],
                          [
                            0.8888888888888888,
                            "#fdca26"
                          ],
                          [
                            1,
                            "#f0f921"
                          ]
                        ],
                        "type": "surface"
                      }
                    ],
                    "table": [
                      {
                        "cells": {
                          "fill": {
                            "color": "#EBF0F8"
                          },
                          "line": {
                            "color": "white"
                          }
                        },
                        "header": {
                          "fill": {
                            "color": "#C8D4E3"
                          },
                          "line": {
                            "color": "white"
                          }
                        },
                        "type": "table"
                      }
                    ]
                  },
                  "layout": {
                    "annotationdefaults": {
                      "arrowcolor": "#2a3f5f",
                      "arrowhead": 0,
                      "arrowwidth": 1
                    },
                    "autotypenumbers": "strict",
                    "coloraxis": {
                      "colorbar": {
                        "outlinewidth": 0,
                        "ticks": ""
                      }
                    },
                    "colorscale": {
                      "diverging": [
                        [
                          0,
                          "#8e0152"
                        ],
                        [
                          0.1,
                          "#c51b7d"
                        ],
                        [
                          0.2,
                          "#de77ae"
                        ],
                        [
                          0.3,
                          "#f1b6da"
                        ],
                        [
                          0.4,
                          "#fde0ef"
                        ],
                        [
                          0.5,
                          "#f7f7f7"
                        ],
                        [
                          0.6,
                          "#e6f5d0"
                        ],
                        [
                          0.7,
                          "#b8e186"
                        ],
                        [
                          0.8,
                          "#7fbc41"
                        ],
                        [
                          0.9,
                          "#4d9221"
                        ],
                        [
                          1,
                          "#276419"
                        ]
                      ],
                      "sequential": [
                        [
                          0,
                          "#0d0887"
                        ],
                        [
                          0.1111111111111111,
                          "#46039f"
                        ],
                        [
                          0.2222222222222222,
                          "#7201a8"
                        ],
                        [
                          0.3333333333333333,
                          "#9c179e"
                        ],
                        [
                          0.4444444444444444,
                          "#bd3786"
                        ],
                        [
                          0.5555555555555556,
                          "#d8576b"
                        ],
                        [
                          0.6666666666666666,
                          "#ed7953"
                        ],
                        [
                          0.7777777777777778,
                          "#fb9f3a"
                        ],
                        [
                          0.8888888888888888,
                          "#fdca26"
                        ],
                        [
                          1,
                          "#f0f921"
                        ]
                      ],
                      "sequentialminus": [
                        [
                          0,
                          "#0d0887"
                        ],
                        [
                          0.1111111111111111,
                          "#46039f"
                        ],
                        [
                          0.2222222222222222,
                          "#7201a8"
                        ],
                        [
                          0.3333333333333333,
                          "#9c179e"
                        ],
                        [
                          0.4444444444444444,
                          "#bd3786"
                        ],
                        [
                          0.5555555555555556,
                          "#d8576b"
                        ],
                        [
                          0.6666666666666666,
                          "#ed7953"
                        ],
                        [
                          0.7777777777777778,
                          "#fb9f3a"
                        ],
                        [
                          0.8888888888888888,
                          "#fdca26"
                        ],
                        [
                          1,
                          "#f0f921"
                        ]
                      ]
                    },
                    "colorway": [
                      "#636efa",
                      "#EF553B",
                      "#00cc96",
                      "#ab63fa",
                      "#FFA15A",
                      "#19d3f3",
                      "#FF6692",
                      "#B6E880",
                      "#FF97FF",
                      "#FECB52"
                    ],
                    "font": {
                      "color": "#2a3f5f"
                    },
                    "geo": {
                      "bgcolor": "white",
                      "lakecolor": "white",
                      "landcolor": "#E5ECF6",
                      "showlakes": true,
                      "showland": true,
                      "subunitcolor": "white"
                    },
                    "hoverlabel": {
                      "align": "left"
                    },
                    "hovermode": "closest",
                    "mapbox": {
                      "style": "light"
                    },
                    "paper_bgcolor": "white",
                    "plot_bgcolor": "#E5ECF6",
                    "polar": {
                      "angularaxis": {
                        "gridcolor": "white",
                        "linecolor": "white",
                        "ticks": ""
                      },
                      "bgcolor": "#E5ECF6",
                      "radialaxis": {
                        "gridcolor": "white",
                        "linecolor": "white",
                        "ticks": ""
                      }
                    },
                    "scene": {
                      "xaxis": {
                        "backgroundcolor": "#E5ECF6",
                        "gridcolor": "white",
                        "gridwidth": 2,
                        "linecolor": "white",
                        "showbackground": true,
                        "ticks": "",
                        "zerolinecolor": "white"
                      },
                      "yaxis": {
                        "backgroundcolor": "#E5ECF6",
                        "gridcolor": "white",
                        "gridwidth": 2,
                        "linecolor": "white",
                        "showbackground": true,
                        "ticks": "",
                        "zerolinecolor": "white"
                      },
                      "zaxis": {
                        "backgroundcolor": "#E5ECF6",
                        "gridcolor": "white",
                        "gridwidth": 2,
                        "linecolor": "white",
                        "showbackground": true,
                        "ticks": "",
                        "zerolinecolor": "white"
                      }
                    },
                    "shapedefaults": {
                      "line": {
                        "color": "#2a3f5f"
                      }
                    },
                    "ternary": {
                      "aaxis": {
                        "gridcolor": "white",
                        "linecolor": "white",
                        "ticks": ""
                      },
                      "baxis": {
                        "gridcolor": "white",
                        "linecolor": "white",
                        "ticks": ""
                      },
                      "bgcolor": "#E5ECF6",
                      "caxis": {
                        "gridcolor": "white",
                        "linecolor": "white",
                        "ticks": ""
                      }
                    },
                    "title": {
                      "x": 0.05
                    },
                    "xaxis": {
                      "automargin": true,
                      "gridcolor": "white",
                      "linecolor": "white",
                      "ticks": "",
                      "title": {
                        "standoff": 15
                      },
                      "zerolinecolor": "white",
                      "zerolinewidth": 2
                    },
                    "yaxis": {
                      "automargin": true,
                      "gridcolor": "white",
                      "linecolor": "white",
                      "ticks": "",
                      "title": {
                        "standoff": 15
                      },
                      "zerolinecolor": "white",
                      "zerolinewidth": 2
                    }
                  }
                },
                "title": {
                  "font": {
                    "color": "darkblue",
                    "size": 16
                  },
                  "text": "🎯 Rwanda Strategic Export Market Dashboard (2018-2022)",
                  "x": 0.5
                },
                "xaxis": {
                  "anchor": "y",
                  "domain": [
                    0,
                    0.37
                  ],
                  "title": {
                    "text": "Growth Rate (%)"
                  }
                },
                "xaxis2": {
                  "anchor": "y3",
                  "domain": [
                    0.5700000000000001,
                    0.9400000000000001
                  ],
                  "title": {
                    "text": "Growth Rate (%)"
                  }
                },
                "xaxis3": {
                  "anchor": "y4",
                  "domain": [
                    0,
                    0.37
                  ],
                  "title": {
                    "text": "Growth Volatility (%)"
                  }
                },
                "xaxis4": {
                  "anchor": "y5",
                  "domain": [
                    0.5700000000000001,
                    0.9400000000000001
                  ],
                  "title": {
                    "text": "Year"
                  }
                },
                "yaxis": {
                  "anchor": "x",
                  "domain": [
                    0.625,
                    1
                  ],
                  "title": {
                    "text": "2022 Export Value ($M)"
                  }
                },
                "yaxis2": {
                  "anchor": "x",
                  "overlaying": "y",
                  "side": "right",
                  "title": {
                    "text": "2022 Export Value ($M)"
                  }
                },
                "yaxis3": {
                  "anchor": "x2",
                  "domain": [
                    0.625,
                    1
                  ],
                  "title": {
                    "text": "Partner Countries"
                  }
                },
                "yaxis4": {
                  "anchor": "x3",
                  "domain": [
                    0,
                    0.375
                  ],
                  "overlaying": "y3",
                  "showgrid": false,
                  "side": "right",
                  "title": {
                    "text": "Growth Rate (%)"
                  }
                },
                "yaxis5": {
                  "anchor": "x4",
                  "domain": [
                    0,
                    0.375
                  ],
                  "title": {
                    "text": "Export Value ($M)"
                  }
                }
              }
            }
          },
          "metadata": {},
          "output_type": "display_data"
        },
        {
          "name": "stdout",
          "output_type": "stream",
          "text": [
            "\n",
            "📈 DASHBOARD INSIGHTS SUMMARY:\n",
            "==================================================\n",
            "💰 PORTFOLIO VALUE ANALYSIS:\n",
            "   • Tier 1 Markets: $1407.2M (5 markets)\n",
            "   • Tier 2 Markets: $0.0M (0 markets)\n",
            "   • Tier 3 Markets: $12.4M (3 markets)\n",
            "   • Total Strategic Portfolio: $1419.7M\n",
            "\n",
            "📊 PERFORMANCE METRICS:\n",
            "   • Tier 1 Average Growth: 170.0%\n",
            "   • Highest Growth Market: Ethiopia(excludes Eritrea) (240.8%)\n",
            "   • Largest Market: Middle East & North Africa ($612.5M)\n"
          ]
        }
      ],
      "source": [
        "# Strategic Market Recommendations Visualization Dashboard\n",
        "import plotly.graph_objects as go\n",
        "from plotly.subplots import make_subplots\n",
        "import plotly.express as px\n",
        "\n",
        "if wits_data is not None and 'tier1_markets' in locals():\n",
        "\n",
        "    print(\"📊 GENERATING STRATEGIC MARKET VISUALIZATION DASHBOARD...\")\n",
        "\n",
        "    # Create comprehensive dashboard with multiple visualizations\n",
        "    fig = make_subplots(\n",
        "        rows=2, cols=2,\n",
        "        subplot_titles=(\n",
        "            'Strategic Market Tiers - Growth vs Value',\n",
        "            'Top 10 Growth Champions (2018-2022)',\n",
        "            'Market Portfolio Risk Assessment',\n",
        "            'Growth Momentum Timeline'\n",
        "        ),\n",
        "        specs=[[{\"secondary_y\": True}, {\"type\": \"bar\"}],\n",
        "               [{\"type\": \"scatter\"}, {\"type\": \"scatter\"}]]\n",
        "    )\n",
        "\n",
        "    # 1. Strategic Market Tiers Bubble Chart (Top Left)\n",
        "    colors_tier = {'TIER 1': '#FF6B6B', 'TIER 2': '#4ECDC4', 'TIER 3': '#45B7D1'}\n",
        "\n",
        "    for tier_name, markets in strategic_markets.items():\n",
        "        if not markets.empty:\n",
        "            tier_short = tier_name.split(' - ')[0]  # Get just \"TIER 1\", \"TIER 2\", etc.\n",
        "\n",
        "            fig.add_trace(\n",
        "                go.Scatter(\n",
        "                    x=markets['Avg_Growth_Rate'],\n",
        "                    y=markets['Last_Year_Value'],\n",
        "                    mode='markers+text',\n",
        "                    marker=dict(\n",
        "                        size=markets['Growth_Momentum'] / 50,  # Size based on momentum\n",
        "                        color=colors_tier.get(tier_short, '#95A5A6'),\n",
        "                        opacity=0.7,\n",
        "                        line=dict(width=2, color='white')\n",
        "                    ),\n",
        "                    text=markets['Partner Name'].str[:12],  # Short country names\n",
        "                    textposition=\"middle center\",\n",
        "                    name=tier_short,\n",
        "                    hovertemplate=\n",
        "                        '<b>%{text}</b><br>' +\n",
        "                        'Growth Rate: %{x:.1f}%<br>' +\n",
        "                        '2022 Value: $%{y:.1f}M<br>' +\n",
        "                        'Tier: ' + tier_short +\n",
        "                        '<extra></extra>'\n",
        "                ),\n",
        "                row=1, col=1\n",
        "            )\n",
        "\n",
        "    # 2. Top Growth Champions Bar Chart (Top Right)\n",
        "    top_growth = growth_data.nlargest(10, 'Avg_Growth_Rate')\n",
        "\n",
        "    fig.add_trace(\n",
        "        go.Bar(\n",
        "            x=top_growth['Avg_Growth_Rate'],\n",
        "            y=top_growth['Partner Name'],\n",
        "            orientation='h',\n",
        "            marker_color=px.colors.qualitative.Set3,\n",
        "            name=\"Growth Rate\",\n",
        "            hovertemplate='<b>%{y}</b><br>Growth: %{x:.1f}%<extra></extra>'\n",
        "        ),\n",
        "        row=1, col=2\n",
        "    )\n",
        "\n",
        "    # 3. Risk Assessment Scatter (Bottom Left) - Growth vs Volatility\n",
        "    fig.add_trace(\n",
        "        go.Scatter(\n",
        "            x=growth_data['Growth_Volatility'][:50],  # Top 50 to avoid overcrowding\n",
        "            y=growth_data['Avg_Growth_Rate'][:50],\n",
        "            mode='markers',\n",
        "            marker=dict(\n",
        "                size=8,\n",
        "                color=growth_data['Last_Year_Value'][:50],\n",
        "                colorscale='Viridis',\n",
        "                showscale=True,\n",
        "                colorbar=dict(title=\"2022 Value ($M)\", x=0.45)\n",
        "            ),\n",
        "            text=growth_data['Partner Name'][:50],\n",
        "            name=\"Risk-Growth Matrix\",\n",
        "            hovertemplate=\n",
        "                '<b>%{text}</b><br>' +\n",
        "                'Growth Rate: %{y:.1f}%<br>' +\n",
        "                'Volatility: %{x:.1f}%<br>' +\n",
        "                '<extra></extra>'\n",
        "        ),\n",
        "        row=2, col=1\n",
        "    )\n",
        "\n",
        "    # Add risk zones to the risk assessment\n",
        "    fig.add_shape(\n",
        "        type=\"rect\", x0=0, x1=50, y0=0, y1=50,\n",
        "        fillcolor=\"green\", opacity=0.1,\n",
        "        row=2, col=1\n",
        "    )\n",
        "    fig.add_shape(\n",
        "        type=\"rect\", x0=50, x1=200, y0=50, y1=200,\n",
        "        fillcolor=\"yellow\", opacity=0.1,\n",
        "        row=2, col=1\n",
        "    )\n",
        "    fig.add_shape(\n",
        "        type=\"rect\", x0=200, x1=1000, y0=0, y1=500,\n",
        "        fillcolor=\"red\", opacity=0.1,\n",
        "        row=2, col=1\n",
        "    )\n",
        "\n",
        "    # 4. Growth Momentum Timeline (Bottom Right)\n",
        "    # Show momentum evolution over time for top markets\n",
        "    if 'yearly_summary' in locals():\n",
        "        years = yearly_summary['Year'].tolist()\n",
        "        values = yearly_summary['Total_Exports_M'].tolist()  # Fixed column name\n",
        "\n",
        "        fig.add_trace(\n",
        "            go.Scatter(\n",
        "                x=years,\n",
        "                y=values,\n",
        "                mode='lines+markers',\n",
        "                line=dict(width=3, color='#E74C3C'),\n",
        "                marker=dict(size=10, color='#E74C3C'),\n",
        "                name=\"Total Exports\",\n",
        "                hovertemplate='Year: %{x}<br>Value: $%{y:.1f}M<extra></extra>'\n",
        "            ),\n",
        "            row=2, col=2\n",
        "        )\n",
        "\n",
        "        # Add growth rate line on secondary y-axis\n",
        "        growth_rates = []\n",
        "        for i in range(1, len(values)):\n",
        "            growth_rate = ((values[i] - values[i-1]) / values[i-1]) * 100\n",
        "            growth_rates.append(growth_rate)\n",
        "\n",
        "        if growth_rates:\n",
        "            fig.add_trace(\n",
        "                go.Scatter(\n",
        "                    x=years[1:],\n",
        "                    y=growth_rates,\n",
        "                    mode='lines+markers',\n",
        "                    line=dict(width=2, color='#3498DB', dash='dash'),\n",
        "                    marker=dict(size=8, color='#3498DB'),\n",
        "                    name=\"Growth Rate (%)\",\n",
        "                    yaxis=\"y4\",  # Secondary y-axis\n",
        "                    hovertemplate='Year: %{x}<br>Growth: %{y:.1f}%<extra></extra>'\n",
        "                ),\n",
        "                row=2, col=2\n",
        "            )\n",
        "\n",
        "    # Update layout for better presentation\n",
        "    fig.update_layout(\n",
        "        title=dict(\n",
        "            text=\"🎯 Rwanda Strategic Export Market Dashboard (2018-2022)\",\n",
        "            font=dict(size=16, color='darkblue'),\n",
        "            x=0.5\n",
        "        ),\n",
        "        showlegend=True,\n",
        "        height=800,\n",
        "        plot_bgcolor='white',\n",
        "        paper_bgcolor='white'\n",
        "    )\n",
        "\n",
        "    # Update axes labels\n",
        "    fig.update_xaxes(title_text=\"Growth Rate (%)\", row=1, col=1)\n",
        "    fig.update_yaxes(title_text=\"2022 Export Value ($M)\", row=1, col=1)\n",
        "\n",
        "    fig.update_xaxes(title_text=\"Growth Rate (%)\", row=1, col=2)\n",
        "    fig.update_yaxes(title_text=\"Partner Countries\", row=1, col=2)\n",
        "\n",
        "    fig.update_xaxes(title_text=\"Growth Volatility (%)\", row=2, col=1)\n",
        "    fig.update_yaxes(title_text=\"Average Growth Rate (%)\", row=2, col=1)\n",
        "\n",
        "    fig.update_xaxes(title_text=\"Year\", row=2, col=2)\n",
        "    fig.update_yaxes(title_text=\"Export Value ($M)\", row=2, col=2)\n",
        "\n",
        "    # Add secondary y-axis for growth rate\n",
        "    fig.update_layout(yaxis4=dict(\n",
        "        title=\"Growth Rate (%)\",\n",
        "        overlaying=\"y3\",\n",
        "        side=\"right\",\n",
        "        showgrid=False\n",
        "    ))\n",
        "\n",
        "    # Show the interactive dashboard\n",
        "    fig.show()\n",
        "\n",
        "    # Summary statistics for the dashboard\n",
        "    print(\"\\n📈 DASHBOARD INSIGHTS SUMMARY:\")\n",
        "    print(\"=\" * 50)\n",
        "\n",
        "    total_tier1_value = tier1_markets['Last_Year_Value'].sum() if not tier1_markets.empty else 0\n",
        "    total_tier2_value = tier2_markets['Last_Year_Value'].sum() if not tier2_markets.empty else 0\n",
        "    total_tier3_value = tier3_markets['Last_Year_Value'].sum() if not tier3_markets.empty else 0\n",
        "\n",
        "    print(f\"💰 PORTFOLIO VALUE ANALYSIS:\")\n",
        "    print(f\"   • Tier 1 Markets: ${total_tier1_value:.1f}M ({len(tier1_markets)} markets)\")\n",
        "    print(f\"   • Tier 2 Markets: ${total_tier2_value:.1f}M ({len(tier2_markets)} markets)\")\n",
        "    print(f\"   • Tier 3 Markets: ${total_tier3_value:.1f}M ({len(tier3_markets)} markets)\")\n",
        "    print(f\"   • Total Strategic Portfolio: ${total_tier1_value + total_tier2_value + total_tier3_value:.1f}M\")\n",
        "\n",
        "    # Calculate portfolio metrics\n",
        "    if not tier1_markets.empty:\n",
        "        avg_tier1_growth = tier1_markets['Avg_Growth_Rate'].mean()\n",
        "        print(f\"\\n📊 PERFORMANCE METRICS:\")\n",
        "        print(f\"   • Tier 1 Average Growth: {avg_tier1_growth:.1f}%\")\n",
        "        print(f\"   • Highest Growth Market: {tier1_markets.iloc[0]['Partner Name']} ({tier1_markets.iloc[0]['Avg_Growth_Rate']:.1f}%)\")\n",
        "        print(f\"   • Largest Market: {tier1_markets.nlargest(1, 'Last_Year_Value').iloc[0]['Partner Name']} (${tier1_markets.nlargest(1, 'Last_Year_Value').iloc[0]['Last_Year_Value']:.1f}M)\")\n",
        "\n",
        "else:\n",
        "    print(\"❌ Cannot create strategic market visualizations - required data not available\")"
      ]
    },
    {
      "cell_type": "code",
      "execution_count": 49,
      "id": "be0391ec",
      "metadata": {
        "id": "be0391ec",
        "outputId": "286a03ac-3bc9-4582-a415-454e6c0828b0"
      },
      "outputs": [
        {
          "name": "stdout",
          "output_type": "stream",
          "text": [
            "Yearly summary columns: ['Year', 'Total_Exports_M', 'Export_Transactions', 'Unique_Partners', 'Total_Products']\n",
            "Yearly summary data:\n",
            "   Year  Total_Exports_M  Export_Transactions  Unique_Partners  Total_Products\n",
            "0  2018          2999.82                  122              122         9038.00\n",
            "1  2019          3390.78                  120              120         9356.00\n",
            "2  2020          4287.76                  109              109         8750.00\n",
            "3  2021          4682.91                  117              117         9784.00\n",
            "4  2022          6050.70                  117              117        10027.00\n"
          ]
        }
      ],
      "source": [
        "# Debug: Check yearly_summary structure\n",
        "print(\"Yearly summary columns:\", yearly_summary.columns.tolist())\n",
        "print(\"Yearly summary data:\")\n",
        "print(yearly_summary.head())"
      ]
    },
    {
      "cell_type": "markdown",
      "id": "9c858a1d",
      "metadata": {
        "id": "9c858a1d"
      },
      "source": [
        "## 🌐 Export Insights to Dashboard Pipeline\n",
        "\n",
        "This section automatically extracts insights from our analysis and prepares them for the interactive dashboard and website for government experts."
      ]
    },
    {
      "cell_type": "code",
      "execution_count": 50,
      "id": "3537dfb7",
      "metadata": {
        "id": "3537dfb7",
        "outputId": "d5ba69fd-73cc-4abc-dbe3-4aa2a8b0d1c6"
      },
      "outputs": [
        {
          "name": "stdout",
          "output_type": "stream",
          "text": [
            "🚀 AUTOMATED INSIGHTS EXTRACTION & DASHBOARD PREPARATION\n",
            "======================================================================\n",
            "\n",
            "🔮 Predictive forecasts detected! Including 95 countries in export...\n",
            "\n",
            "⚙️  Creating opportunity analysis from commodities data...\n",
            "✅ Opportunity analysis created for 11 commodities\n",
            "   Top opportunity score: 69.8/100\n",
            "   Required columns present: YoY_Growth, Market_Share, Volatility, Opportunity_Score ✓\n",
            "✅ Predictive forecasts extracted and included!\n",
            "✅ Insights exported to data/insights/export_insights.json\n",
            "✅ Insights exported to multiple CSV files: export_insights_*.csv\n",
            "\n",
            "📊 INSIGHTS EXTRACTION SUMMARY:\n",
            "   • Total Opportunities Identified: 5\n",
            "   • High Priority Policies: 2\n",
            "   • Youth/SME Sectors: 5\n",
            "   • Strategic Markets: 8\n",
            "   • Forecasted Countries: 95\n",
            "   • Predicted 2025 Value: $9257.5M\n",
            "\n",
            "✅ SUCCESS! Insights exported and ready for dashboard\n",
            "\n",
            "📂 Files created:\n",
            "   • data/insights/export_insights.json (JSON format for web)\n",
            "   • data/insights/export_insights_*.csv CSV files\n",
            "\n",
            "🔮 Predictive Analytics Included:\n",
            "   • Forecast data for 95 countries\n",
            "   • Predictions for 2023, 2024, 2025\n",
            "   • Strategic tier classifications\n",
            "   • High-growth market identification\n",
            "\n",
            "🌐 NEXT STEPS:\n",
            "   1. Your insights are now ready for the dashboard\n",
            "   2. Run the dashboard with: streamlit run dashboard_app.py\n",
            "   3. Navigate to '🔮 Predictive Forecasts' page to see ML predictions\n",
            "   4. Share the dashboard URL with government experts\n",
            "✅ Insights exported to data/insights/export_insights.json\n",
            "✅ Insights exported to multiple CSV files: export_insights_*.csv\n",
            "\n",
            "📊 INSIGHTS EXTRACTION SUMMARY:\n",
            "   • Total Opportunities Identified: 5\n",
            "   • High Priority Policies: 2\n",
            "   • Youth/SME Sectors: 5\n",
            "   • Strategic Markets: 8\n",
            "   • Forecasted Countries: 95\n",
            "   • Predicted 2025 Value: $9257.5M\n",
            "\n",
            "✅ SUCCESS! Insights exported and ready for dashboard\n",
            "\n",
            "📂 Files created:\n",
            "   • data/insights/export_insights.json (JSON format for web)\n",
            "   • data/insights/export_insights_*.csv CSV files\n",
            "\n",
            "🔮 Predictive Analytics Included:\n",
            "   • Forecast data for 95 countries\n",
            "   • Predictions for 2023, 2024, 2025\n",
            "   • Strategic tier classifications\n",
            "   • High-growth market identification\n",
            "\n",
            "🌐 NEXT STEPS:\n",
            "   1. Your insights are now ready for the dashboard\n",
            "   2. Run the dashboard with: streamlit run dashboard_app.py\n",
            "   3. Navigate to '🔮 Predictive Forecasts' page to see ML predictions\n",
            "   4. Share the dashboard URL with government experts\n"
          ]
        }
      ],
      "source": [
        "# STEP 1: Import the insights extractor\n",
        "import sys\n",
        "sys.path.append('scripts')\n",
        "from export_insights_extractor import create_insights_export, ExportInsightsExtractor\n",
        "\n",
        "print(\"🚀 AUTOMATED INSIGHTS EXTRACTION & DASHBOARD PREPARATION\")\n",
        "print(\"=\" * 70)\n",
        "\n",
        "# Extract all insights and export to JSON + CSV files\n",
        "try:\n",
        "    # Check if forecast_df exists\n",
        "    forecast_data = forecast_df if 'forecast_df' in locals() and not forecast_df.empty else None\n",
        "\n",
        "    if forecast_data is not None:\n",
        "        print(f\"\\n🔮 Predictive forecasts detected! Including {len(forecast_data)} countries in export...\")\n",
        "\n",
        "    # Create opportunity_analysis from commodities data\n",
        "    # Always recreate to ensure it has all required columns\n",
        "    print(\"\\n⚙️  Creating opportunity analysis from commodities data...\")\n",
        "    opportunity_analysis = commodities_df.copy()\n",
        "    \n",
        "    # Use actual columns that exist in commodities_df\n",
        "    # YoY Growth from Change_Q3_Q3_Percent (Q3 2024 vs Q3 2023)\n",
        "    opportunity_analysis['YoY_Growth'] = opportunity_analysis['Change_Q3_Q3_Percent'].fillna(0)\n",
        "    \n",
        "    # Market Share from Share_Percent_Q3\n",
        "    opportunity_analysis['Market_Share'] = opportunity_analysis['Share_Percent_Q3'].fillna(0)\n",
        "    \n",
        "    # Calculate volatility using available quarterly data\n",
        "    # Standard deviation across recent quarters as a volatility measure\n",
        "    quarter_cols = [col for col in opportunity_analysis.columns if 'Q' in col and any(year in col for year in ['2023', '2024'])]\n",
        "    if quarter_cols:\n",
        "        opportunity_analysis['Volatility'] = opportunity_analysis[quarter_cols].std(axis=1).fillna(0)\n",
        "    else:\n",
        "        # Fallback: use absolute value of YoY change as volatility proxy\n",
        "        opportunity_analysis['Volatility'] = abs(opportunity_analysis['YoY_Growth'])\n",
        "    \n",
        "    # Normalize volatility to 0-100 scale (lower is better)\n",
        "    max_volatility = opportunity_analysis['Volatility'].max()\n",
        "    if max_volatility > 0:\n",
        "        opportunity_analysis['Volatility'] = (opportunity_analysis['Volatility'] / max_volatility * 100).clip(0, 100)\n",
        "    \n",
        "    # Add current value for reference (2024Q3)\n",
        "    opportunity_analysis['Current_Value_2024Q3'] = opportunity_analysis['2024Q3'].fillna(0)\n",
        "    \n",
        "    # Calculate weighted opportunity score (0-100)\n",
        "    # Higher growth = better, higher market share = better, lower volatility = better\n",
        "    opportunity_analysis['Opportunity_Score'] = (\n",
        "        opportunity_analysis['YoY_Growth'].clip(-100, 100) * 0.4 +  # 40% weight on growth\n",
        "        opportunity_analysis['Market_Share'].clip(0, 100) * 0.3 +    # 30% weight on market share\n",
        "        (100 - opportunity_analysis['Volatility']) * 0.3              # 30% weight on stability\n",
        "    ).clip(0, 100)\n",
        "    \n",
        "    print(f\"✅ Opportunity analysis created for {len(opportunity_analysis)} commodities\")\n",
        "    print(f\"   Top opportunity score: {opportunity_analysis['Opportunity_Score'].max():.1f}/100\")\n",
        "    print(f\"   Required columns present: YoY_Growth, Market_Share, Volatility, Opportunity_Score ✓\")\n",
        "\n",
        "    extractor, json_file, csv_files = create_insights_export(\n",
        "        commodities_df=commodities_df,\n",
        "        opportunity_analysis=opportunity_analysis,\n",
        "        quarterly_data=total_by_quarter,\n",
        "        tier1_markets=tier1_markets,\n",
        "        tier2_markets=tier2_markets,\n",
        "        tier3_markets=tier3_markets,\n",
        "        forecast_df=forecast_data  # Include predictions if available\n",
        "    )\n",
        "\n",
        "    print(f\"\\n✅ SUCCESS! Insights exported and ready for dashboard\")\n",
        "    print(f\"\\n📂 Files created:\")\n",
        "    print(f\"   • {json_file} (JSON format for web)\")\n",
        "    print(f\"   • {csv_files} CSV files\")\n",
        "\n",
        "    if forecast_data is not None:\n",
        "        print(f\"\\n🔮 Predictive Analytics Included:\")\n",
        "        print(f\"   • Forecast data for {len(forecast_data)} countries\")\n",
        "        print(f\"   • Predictions for 2023, 2024, 2025\")\n",
        "        print(f\"   • Strategic tier classifications\")\n",
        "        print(f\"   • High-growth market identification\")\n",
        "\n",
        "    print(f\"\\n🌐 NEXT STEPS:\")\n",
        "    print(f\"   1. Your insights are now ready for the dashboard\")\n",
        "    print(f\"   2. Run the dashboard with: streamlit run dashboard_app.py\")\n",
        "    print(f\"   3. Navigate to '🔮 Predictive Forecasts' page to see ML predictions\")\n",
        "    print(f\"   4. Share the dashboard URL with government experts\")\n",
        "\n",
        "except Exception as e:\n",
        "    import traceback\n",
        "    print(f\"❌ Error during extraction: {e}\")\n",
        "    print(\"\\n🔍 Full error details:\")\n",
        "    traceback.print_exc()\n",
        "    print(\"\\n💡 Tip: Check that all required DataFrames exist in the notebook\")"
      ]
    },
    {
      "cell_type": "markdown",
      "id": "f7611f87",
      "metadata": {
        "id": "f7611f87"
      },
      "source": [
        "## 🎉 Dashboard & Website Ready!\n",
        "\n",
        "### 📁 Created Files:\n",
        "1. **`export_insights_extractor.py`** - Automatic insights extraction\n",
        "2. **`dashboard_app.py`** - Interactive Streamlit dashboard\n",
        "3. **`DASHBOARD_SETUP_GUIDE.md`** - Complete setup instructions\n",
        "4. **`COMPLETE_SOLUTION_OVERVIEW.md`** - Full system documentation\n",
        "5. **`requirements.txt`** - Required packages\n",
        "\n",
        "### 🚀 Quick Start:\n",
        "\n",
        "**Step 1**: Install requirements (run once)\n",
        "```bash\n",
        "pip install -r requirements.txt\n",
        "```\n",
        "\n",
        "**Step 2**: Run the cell below to export all insights\n",
        "\n",
        "**Step 3**: Launch the dashboard\n",
        "```bash\n",
        "streamlit run dashboard_app.py\n",
        "```\n",
        "\n",
        "**Step 4**: Share with government experts at `http://localhost:8501`\n",
        "\n",
        "### 📊 What's Included in the Dashboard:\n",
        "\n",
        "1. **📊 Executive Summary** - Key metrics and quick insights\n",
        "2. **🎯 Top Opportunities** - Interactive opportunity matrix\n",
        "3. **🌍 Strategic Markets** - Tier 1/2/3 market analysis\n",
        "4. **📜 Policy Recommendations** - 4 high-priority actions with timelines\n",
        "5. **👥 Youth & SME Opportunities** - 5 concrete business opportunities\n",
        "6. **📈 Detailed Analytics** - Deep-dive visualizations\n",
        "\n",
        "### 💡 Automatic Features:\n",
        "\n",
        "✅ **Policy Recommendations** generated based on:\n",
        "- Q3 seasonal patterns (Agricultural Enhancement)\n",
        "- Market concentration risk (Diversification)\n",
        "- Value chain gaps (Processing Infrastructure)\n",
        "- Strategic market growth (Tier 1 focus)\n",
        "\n",
        "✅ **Youth/SME Opportunities** with:\n",
        "- Investment amounts ($2K - $200K range)\n",
        "- Skills required\n",
        "- Revenue potential\n",
        "- Available support programs\n",
        "\n",
        "✅ **Interactive Visualizations**:\n",
        "- Scatter plots, bar charts, pie charts\n",
        "- Hover tooltips with details\n",
        "- Download capabilities\n",
        "- Mobile-responsive design\n",
        "\n",
        "### 📖 Read the Documentation:\n",
        "- **Setup Guide**: `DASHBOARD_SETUP_GUIDE.md`\n",
        "- **Complete Overview**: `COMPLETE_SOLUTION_OVERVIEW.md`"
      ]
    },
    {
      "cell_type": "code",
      "execution_count": 51,
      "id": "26b26b7b",
      "metadata": {
        "id": "26b26b7b",
        "outputId": "da69f326-6b74-44a6-d1e5-8d3503c5c8eb"
      },
      "outputs": [
        {
          "name": "stdout",
          "output_type": "stream",
          "text": [
            "Growth data structure:\n",
            "Type: <class 'pandas.core.frame.DataFrame'>\n",
            "Index: Index([0, 1, 2, 3, 4], dtype='int64')\n",
            "Columns: ['Partner Name', 'Avg_Growth_Rate', 'Growth_Volatility', 'Years_of_Data', 'First_Year_Value', 'Last_Year_Value', 'Growth_Momentum']\n",
            "\n",
            "First few rows:\n",
            "  Partner Name  Avg_Growth_Rate  Growth_Volatility  Years_of_Data  \\\n",
            "0  Afghanistan             6.98              88.61              4   \n",
            "1       Angola          1435.04            2619.02              3   \n",
            "2    Australia            46.97              39.61              4   \n",
            "3      Austria          6294.35           12538.43              4   \n",
            "4   Azerbaijan           151.48             289.41              4   \n",
            "\n",
            "   First_Year_Value  Last_Year_Value  Growth_Momentum  \n",
            "0              0.68             0.15             4.26  \n",
            "1              0.00             0.00           861.03  \n",
            "2              0.46             1.12            28.43  \n",
            "3              1.52             0.62          3776.71  \n",
            "4              0.29             0.70            91.01  \n"
          ]
        }
      ],
      "source": [
        "# Debug: Check growth_data structure\n",
        "print(\"Growth data structure:\")\n",
        "print(f\"Type: {type(growth_data)}\")\n",
        "print(f\"Index: {growth_data.index[:5]}\")\n",
        "print(f\"Columns: {list(growth_data.columns)}\")\n",
        "print(\"\\nFirst few rows:\")\n",
        "print(growth_data.head())"
      ]
    }
  ],
  "metadata": {
    "colab": {
      "provenance": []
    },
    "kernelspec": {
      "display_name": ".venv (3.13.7)",
      "language": "python",
      "name": "python3"
    },
    "language_info": {
      "codemirror_mode": {
        "name": "ipython",
        "version": 3
      },
      "file_extension": ".py",
      "mimetype": "text/x-python",
      "name": "python",
      "nbconvert_exporter": "python",
      "pygments_lexer": "ipython3",
      "version": "3.13.7"
    }
  },
  "nbformat": 4,
  "nbformat_minor": 5
}
